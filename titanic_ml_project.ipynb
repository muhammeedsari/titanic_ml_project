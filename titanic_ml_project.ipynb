{
  "cells":[
    {
      "cell_type":"code",
      "source":[
        "'''\n",
        "TİTANİC PROJESİ\n",
        "\n",
        "KÜTÜPHANELERİN YÜKLENMESİ\n",
        "'''\n",
        "!pip install lightgbm # microsoft tarafından geliştirilen ensemble(topluluk) öğrenmesi algoritmalarından lightgbm algoritmasını indireceğiz.\n",
        "!pip install catboost # yandex tarafında geliştirilen ensemble(topluluk) öğrenmesi algoritmalarından catboost algoritmasını indireceğiz.\n",
        "import numpy as np # matematiksel işlemler için kullanılan numpy kütüphanesini yükleyeceğiz.\n",
        "import pandas as pd # veri manipülasyonu için pandas kütüphanesini kullanacağız.\n",
        "import matplotlib.pyplot as plt # görselleştirme için matplotlib ve seaborn kütüphanelerini kullanacağız.\n",
        "import seaborn as sns\n",
        "from collections import Counter\n",
        "import warnings # uyarıları kapatmak için warnings.filterwarnings kütüphanesini import edip uyarıları 'ignore' yapacağız.\n",
        "warnings.filterwarnings(\"ignore\")\n",
        "!pip install missingno  # eksik veriler arasında kolerasyon olup olmadığını anlamak için missingno kütüphanesini kullanacağız.\n",
        "import missingno as msno\n",
        "from sklearn.neighbors import KNeighborsClassifier, NeighborhoodComponentsAnalysis, LocalOutlierFactor # Aykırı değerleri tespit etmek için LocalOutlierFactor kullanacağız."
      ],
      "execution_count":194,
      "outputs":[
        {
          "name":"stdout",
          "text":[
            "Requirement already satisfied: lightgbm in \/opt\/anaconda3\/envs\/datalore-user\/lib\/python3.7\/site-packages (3.1.1)\r\n",
            "Requirement already satisfied: numpy in \/opt\/anaconda3\/envs\/datalore-user\/lib\/python3.7\/site-packages (from lightgbm) (1.19.2)\r\n",
            "Requirement already satisfied: wheel in \/opt\/anaconda3\/envs\/datalore-user\/lib\/python3.7\/site-packages (from lightgbm) (0.36.2)\r\n",
            "Requirement already satisfied: scikit-learn!=0.22.0 in \/opt\/anaconda3\/envs\/datalore-user\/lib\/python3.7\/site-packages (from lightgbm) (0.24.1)\r\n",
            "Requirement already satisfied: scipy in \/opt\/anaconda3\/envs\/datalore-user\/lib\/python3.7\/site-packages (from lightgbm) (1.5.2)\r\n",
            "Requirement already satisfied: threadpoolctl>=2.0.0 in \/opt\/anaconda3\/envs\/datalore-user\/lib\/python3.7\/site-packages (from scikit-learn!=0.22.0->lightgbm) (2.1.0)\r\n",
            "Requirement already satisfied: joblib>=0.11 in \/opt\/anaconda3\/envs\/datalore-user\/lib\/python3.7\/site-packages (from scikit-learn!=0.22.0->lightgbm) (1.0.1)\r\n",
            "Requirement already satisfied: catboost in \/opt\/anaconda3\/envs\/datalore-user\/lib\/python3.7\/site-packages (0.24.4)\r\n",
            "Requirement already satisfied: matplotlib in \/opt\/anaconda3\/envs\/datalore-user\/lib\/python3.7\/site-packages (from catboost) (3.3.2)\r\n",
            "Requirement already satisfied: scipy in \/opt\/anaconda3\/envs\/datalore-user\/lib\/python3.7\/site-packages (from catboost) (1.5.2)\r\n",
            "Requirement already satisfied: plotly in \/opt\/anaconda3\/envs\/datalore-user\/lib\/python3.7\/site-packages (from catboost) (4.11.0)\r\n",
            "Requirement already satisfied: numpy>=1.16.0 in \/opt\/anaconda3\/envs\/datalore-user\/lib\/python3.7\/site-packages (from catboost) (1.19.2)\r\n",
            "Requirement already satisfied: graphviz in \/opt\/anaconda3\/envs\/datalore-user\/lib\/python3.7\/site-packages (from catboost) (0.16)\r\n",
            "Requirement already satisfied: pandas>=0.24.0 in \/opt\/anaconda3\/envs\/datalore-user\/lib\/python3.7\/site-packages (from catboost) (1.1.3)\r\n",
            "Requirement already satisfied: six in \/opt\/anaconda3\/envs\/datalore-user\/lib\/python3.7\/site-packages (from catboost) (1.15.0)\r\n",
            "Requirement already satisfied: python-dateutil>=2.1 in \/opt\/anaconda3\/envs\/datalore-user\/lib\/python3.7\/site-packages (from matplotlib->catboost) (2.8.1)\r\n",
            "Requirement already satisfied: pyparsing!=2.0.4,!=2.1.2,!=2.1.6,>=2.0.3 in \/opt\/anaconda3\/envs\/datalore-user\/lib\/python3.7\/site-packages (from matplotlib->catboost) (2.4.7)\r\n",
            "Requirement already satisfied: kiwisolver>=1.0.1 in \/opt\/anaconda3\/envs\/datalore-user\/lib\/python3.7\/site-packages (from matplotlib->catboost) (1.3.1)\r\n",
            "Requirement already satisfied: cycler>=0.10 in \/opt\/anaconda3\/envs\/datalore-user\/lib\/python3.7\/site-packages (from matplotlib->catboost) (0.10.0)\r\n",
            "Requirement already satisfied: certifi>=2020.06.20 in \/opt\/anaconda3\/envs\/datalore-user\/lib\/python3.7\/site-packages (from matplotlib->catboost) (2020.12.5)\r\n",
            "Requirement already satisfied: pillow>=6.2.0 in \/opt\/anaconda3\/envs\/datalore-user\/lib\/python3.7\/site-packages (from matplotlib->catboost) (8.1.0)\r\n",
            "Requirement already satisfied: retrying>=1.3.3 in \/opt\/anaconda3\/envs\/datalore-user\/lib\/python3.7\/site-packages (from plotly->catboost) (1.3.3)\r\n",
            "Requirement already satisfied: pytz>=2017.2 in \/opt\/anaconda3\/envs\/datalore-user\/lib\/python3.7\/site-packages (from pandas>=0.24.0->catboost) (2021.1)\r\n",
            "Requirement already satisfied: missingno in \/opt\/anaconda3\/envs\/datalore-user\/lib\/python3.7\/site-packages (0.4.2)\r\n",
            "Requirement already satisfied: scipy in \/opt\/anaconda3\/envs\/datalore-user\/lib\/python3.7\/site-packages (from missingno) (1.5.2)\r\n",
            "Requirement already satisfied: seaborn in \/opt\/anaconda3\/envs\/datalore-user\/lib\/python3.7\/site-packages (from missingno) (0.11.0)\r\n",
            "Requirement already satisfied: matplotlib in \/opt\/anaconda3\/envs\/datalore-user\/lib\/python3.7\/site-packages (from missingno) (3.3.2)\r\n",
            "Requirement already satisfied: numpy in \/opt\/anaconda3\/envs\/datalore-user\/lib\/python3.7\/site-packages (from missingno) (1.19.2)\r\n",
            "Requirement already satisfied: pandas>=0.23 in \/opt\/anaconda3\/envs\/datalore-user\/lib\/python3.7\/site-packages (from seaborn->missingno) (1.1.3)\r\n",
            "Requirement already satisfied: kiwisolver>=1.0.1 in \/opt\/anaconda3\/envs\/datalore-user\/lib\/python3.7\/site-packages (from matplotlib->missingno) (1.3.1)\r\n",
            "Requirement already satisfied: pyparsing!=2.0.4,!=2.1.2,!=2.1.6,>=2.0.3 in \/opt\/anaconda3\/envs\/datalore-user\/lib\/python3.7\/site-packages (from matplotlib->missingno) (2.4.7)\r\n",
            "Requirement already satisfied: pillow>=6.2.0 in \/opt\/anaconda3\/envs\/datalore-user\/lib\/python3.7\/site-packages (from matplotlib->missingno) (8.1.0)\r\n",
            "Requirement already satisfied: certifi>=2020.06.20 in \/opt\/anaconda3\/envs\/datalore-user\/lib\/python3.7\/site-packages (from matplotlib->missingno) (2020.12.5)\r\n",
            "Requirement already satisfied: cycler>=0.10 in \/opt\/anaconda3\/envs\/datalore-user\/lib\/python3.7\/site-packages (from matplotlib->missingno) (0.10.0)\r\n",
            "Requirement already satisfied: python-dateutil>=2.1 in \/opt\/anaconda3\/envs\/datalore-user\/lib\/python3.7\/site-packages (from matplotlib->missingno) (2.8.1)\r\n",
            "Requirement already satisfied: pytz>=2017.2 in \/opt\/anaconda3\/envs\/datalore-user\/lib\/python3.7\/site-packages (from pandas>=0.23->seaborn->missingno) (2021.1)\r\n",
            "Requirement already satisfied: six in \/opt\/anaconda3\/envs\/datalore-user\/lib\/python3.7\/site-packages (from cycler>=0.10->matplotlib->missingno) (1.15.0)\r\n"
          ],
          "output_type":"stream"
        }
      ],
      "metadata":{
        
      }
    },
    {
      "cell_type":"code",
      "source":[
        "'''\n",
        "VERİYE GENEL BAKIŞ\n",
        "'''\n",
        "# kaggle.com'da titanic veristedi train ve test olarak ayrılmış olduğu için bizde böyle kullanacağız.\n",
        "train_df = pd.read_csv(\"train.csv\")\n",
        "test_df = pd.read_csv(\"test.csv\")"
      ],
      "execution_count":195,
      "outputs":[
        
      ],
      "metadata":{
        
      }
    },
    {
      "cell_type":"code",
      "source":[
        "train_df.columns # verinin kaç kolondan oluşuğuna bakmak için  columns komutunu kullanacağız."
      ],
      "execution_count":196,
      "outputs":[
        {
          "data":{
            "text\/plain":[
              "Index(['PassengerId', 'Survived', 'Pclass', 'Name', 'Sex', 'Age', 'SibSp',\n",
              "       'Parch', 'Ticket', 'Fare', 'Cabin', 'Embarked'],\n",
              "      dtype='object')"
            ]
          },
          "metadata":{
            
          },
          "output_type":"display_data"
        }
      ],
      "metadata":{
        
      }
    },
    {
      "cell_type":"code",
      "source":[
        "train_df.info() # veri hakkında genel bir bilgi sahibi olmak için info() fonksiyonu kullanılır."
      ],
      "execution_count":197,
      "outputs":[
        {
          "name":"stdout",
          "text":[
            "<class 'pandas.core.frame.DataFrame'>\n",
            "RangeIndex: 891 entries, 0 to 890\n",
            "Data columns (total 12 columns):\n",
            " #   Column       Non-Null Count  Dtype  \n",
            "---  ------       --------------  -----  \n",
            " 0   PassengerId  891 non-null    int64  \n",
            " 1   Survived     891 non-null    int64  \n",
            " 2   Pclass       891 non-null    int64  \n",
            " 3   Name         891 non-null    object \n",
            " 4   Sex          891 non-null    object \n",
            " 5   Age          714 non-null    float64\n",
            " 6   SibSp        891 non-null    int64  \n",
            " 7   Parch        891 non-null    int64  \n",
            " 8   Ticket       891 non-null    object \n",
            " 9   Fare         891 non-null    float64\n",
            " 10  Cabin        204 non-null    object \n",
            " 11  Embarked     889 non-null    object \n",
            "dtypes: float64(2), int64(5), object(5)\n",
            "memory usage: 83.7+ KB\n"
          ],
          "output_type":"stream"
        }
      ],
      "metadata":{
        
      }
    },
    {
      "cell_type":"code",
      "source":[
        "train_df.head() # head() fonksiyonu ile verinin ilk satırlarına bakacağız."
      ],
      "execution_count":198,
      "outputs":[
        {
          "data":{
            "text\/html":[
              "<div>\n",
              "<style scoped>\n",
              "    .dataframe tbody tr th:only-of-type {\n",
              "        vertical-align: middle;\n",
              "    }\n",
              "\n",
              "    .dataframe tbody tr th {\n",
              "        vertical-align: top;\n",
              "    }\n",
              "\n",
              "    .dataframe thead th {\n",
              "        text-align: right;\n",
              "    }\n",
              "<\/style>\n",
              "<table border=\"1\" class=\"dataframe\">\n",
              "  <thead>\n",
              "    <tr style=\"text-align: right;\">\n",
              "      <th><\/th>\n",
              "      <th>PassengerId<\/th>\n",
              "      <th>Survived<\/th>\n",
              "      <th>Pclass<\/th>\n",
              "      <th>Name<\/th>\n",
              "      <th>Sex<\/th>\n",
              "      <th>Age<\/th>\n",
              "      <th>SibSp<\/th>\n",
              "      <th>Parch<\/th>\n",
              "      <th>Ticket<\/th>\n",
              "      <th>Fare<\/th>\n",
              "      <th>Cabin<\/th>\n",
              "      <th>Embarked<\/th>\n",
              "    <\/tr>\n",
              "  <\/thead>\n",
              "  <tbody>\n",
              "    <tr>\n",
              "      <th>0<\/th>\n",
              "      <td>1<\/td>\n",
              "      <td>0<\/td>\n",
              "      <td>3<\/td>\n",
              "      <td>Braund, Mr. Owen Harris<\/td>\n",
              "      <td>male<\/td>\n",
              "      <td>22.0<\/td>\n",
              "      <td>1<\/td>\n",
              "      <td>0<\/td>\n",
              "      <td>A\/5 21171<\/td>\n",
              "      <td>7.2500<\/td>\n",
              "      <td>NaN<\/td>\n",
              "      <td>S<\/td>\n",
              "    <\/tr>\n",
              "    <tr>\n",
              "      <th>1<\/th>\n",
              "      <td>2<\/td>\n",
              "      <td>1<\/td>\n",
              "      <td>1<\/td>\n",
              "      <td>Cumings, Mrs. John Bradley (Florence Briggs Th...<\/td>\n",
              "      <td>female<\/td>\n",
              "      <td>38.0<\/td>\n",
              "      <td>1<\/td>\n",
              "      <td>0<\/td>\n",
              "      <td>PC 17599<\/td>\n",
              "      <td>71.2833<\/td>\n",
              "      <td>C85<\/td>\n",
              "      <td>C<\/td>\n",
              "    <\/tr>\n",
              "    <tr>\n",
              "      <th>2<\/th>\n",
              "      <td>3<\/td>\n",
              "      <td>1<\/td>\n",
              "      <td>3<\/td>\n",
              "      <td>Heikkinen, Miss. Laina<\/td>\n",
              "      <td>female<\/td>\n",
              "      <td>26.0<\/td>\n",
              "      <td>0<\/td>\n",
              "      <td>0<\/td>\n",
              "      <td>STON\/O2. 3101282<\/td>\n",
              "      <td>7.9250<\/td>\n",
              "      <td>NaN<\/td>\n",
              "      <td>S<\/td>\n",
              "    <\/tr>\n",
              "    <tr>\n",
              "      <th>3<\/th>\n",
              "      <td>4<\/td>\n",
              "      <td>1<\/td>\n",
              "      <td>1<\/td>\n",
              "      <td>Futrelle, Mrs. Jacques Heath (Lily May Peel)<\/td>\n",
              "      <td>female<\/td>\n",
              "      <td>35.0<\/td>\n",
              "      <td>1<\/td>\n",
              "      <td>0<\/td>\n",
              "      <td>113803<\/td>\n",
              "      <td>53.1000<\/td>\n",
              "      <td>C123<\/td>\n",
              "      <td>S<\/td>\n",
              "    <\/tr>\n",
              "    <tr>\n",
              "      <th>4<\/th>\n",
              "      <td>5<\/td>\n",
              "      <td>0<\/td>\n",
              "      <td>3<\/td>\n",
              "      <td>Allen, Mr. William Henry<\/td>\n",
              "      <td>male<\/td>\n",
              "      <td>35.0<\/td>\n",
              "      <td>0<\/td>\n",
              "      <td>0<\/td>\n",
              "      <td>373450<\/td>\n",
              "      <td>8.0500<\/td>\n",
              "      <td>NaN<\/td>\n",
              "      <td>S<\/td>\n",
              "    <\/tr>\n",
              "  <\/tbody>\n",
              "<\/table>\n",
              "<\/div>"
            ]
          },
          "metadata":{
            
          },
          "output_type":"display_data"
        }
      ],
      "metadata":{
        
      }
    },
    {
      "cell_type":"code",
      "source":[
        "train_df.describe().T # describe() ile numerik değerlerin ortalaması, standart sapması, minumun-maximum değerleri ve çeyreklerine bakacağız "
      ],
      "execution_count":199,
      "outputs":[
        {
          "data":{
            "text\/html":[
              "<div>\n",
              "<style scoped>\n",
              "    .dataframe tbody tr th:only-of-type {\n",
              "        vertical-align: middle;\n",
              "    }\n",
              "\n",
              "    .dataframe tbody tr th {\n",
              "        vertical-align: top;\n",
              "    }\n",
              "\n",
              "    .dataframe thead th {\n",
              "        text-align: right;\n",
              "    }\n",
              "<\/style>\n",
              "<table border=\"1\" class=\"dataframe\">\n",
              "  <thead>\n",
              "    <tr style=\"text-align: right;\">\n",
              "      <th><\/th>\n",
              "      <th>count<\/th>\n",
              "      <th>mean<\/th>\n",
              "      <th>std<\/th>\n",
              "      <th>min<\/th>\n",
              "      <th>25%<\/th>\n",
              "      <th>50%<\/th>\n",
              "      <th>75%<\/th>\n",
              "      <th>max<\/th>\n",
              "    <\/tr>\n",
              "  <\/thead>\n",
              "  <tbody>\n",
              "    <tr>\n",
              "      <th>PassengerId<\/th>\n",
              "      <td>891.0<\/td>\n",
              "      <td>446.000000<\/td>\n",
              "      <td>257.353842<\/td>\n",
              "      <td>1.00<\/td>\n",
              "      <td>223.5000<\/td>\n",
              "      <td>446.0000<\/td>\n",
              "      <td>668.5<\/td>\n",
              "      <td>891.0000<\/td>\n",
              "    <\/tr>\n",
              "    <tr>\n",
              "      <th>Survived<\/th>\n",
              "      <td>891.0<\/td>\n",
              "      <td>0.383838<\/td>\n",
              "      <td>0.486592<\/td>\n",
              "      <td>0.00<\/td>\n",
              "      <td>0.0000<\/td>\n",
              "      <td>0.0000<\/td>\n",
              "      <td>1.0<\/td>\n",
              "      <td>1.0000<\/td>\n",
              "    <\/tr>\n",
              "    <tr>\n",
              "      <th>Pclass<\/th>\n",
              "      <td>891.0<\/td>\n",
              "      <td>2.308642<\/td>\n",
              "      <td>0.836071<\/td>\n",
              "      <td>1.00<\/td>\n",
              "      <td>2.0000<\/td>\n",
              "      <td>3.0000<\/td>\n",
              "      <td>3.0<\/td>\n",
              "      <td>3.0000<\/td>\n",
              "    <\/tr>\n",
              "    <tr>\n",
              "      <th>Age<\/th>\n",
              "      <td>714.0<\/td>\n",
              "      <td>29.699118<\/td>\n",
              "      <td>14.526497<\/td>\n",
              "      <td>0.42<\/td>\n",
              "      <td>20.1250<\/td>\n",
              "      <td>28.0000<\/td>\n",
              "      <td>38.0<\/td>\n",
              "      <td>80.0000<\/td>\n",
              "    <\/tr>\n",
              "    <tr>\n",
              "      <th>SibSp<\/th>\n",
              "      <td>891.0<\/td>\n",
              "      <td>0.523008<\/td>\n",
              "      <td>1.102743<\/td>\n",
              "      <td>0.00<\/td>\n",
              "      <td>0.0000<\/td>\n",
              "      <td>0.0000<\/td>\n",
              "      <td>1.0<\/td>\n",
              "      <td>8.0000<\/td>\n",
              "    <\/tr>\n",
              "    <tr>\n",
              "      <th>Parch<\/th>\n",
              "      <td>891.0<\/td>\n",
              "      <td>0.381594<\/td>\n",
              "      <td>0.806057<\/td>\n",
              "      <td>0.00<\/td>\n",
              "      <td>0.0000<\/td>\n",
              "      <td>0.0000<\/td>\n",
              "      <td>0.0<\/td>\n",
              "      <td>6.0000<\/td>\n",
              "    <\/tr>\n",
              "    <tr>\n",
              "      <th>Fare<\/th>\n",
              "      <td>891.0<\/td>\n",
              "      <td>32.204208<\/td>\n",
              "      <td>49.693429<\/td>\n",
              "      <td>0.00<\/td>\n",
              "      <td>7.9104<\/td>\n",
              "      <td>14.4542<\/td>\n",
              "      <td>31.0<\/td>\n",
              "      <td>512.3292<\/td>\n",
              "    <\/tr>\n",
              "  <\/tbody>\n",
              "<\/table>\n",
              "<\/div>"
            ]
          },
          "metadata":{
            
          },
          "output_type":"display_data"
        }
      ],
      "metadata":{
        
      }
    },
    {
      "cell_type":"code",
      "source":[
        "'''\n",
        "GÖRSELLEŞTİRME\n",
        "Veriyi kategorik ve numerik olarak ayırıp görselleştirme yapacağız.\n",
        "kategorik değişkenler :  'Pclass', 'Name', 'Sex', 'Cabin', 'Embarked', 'Ticket', 'Survived', 'SibSp', 'Parch'\n",
        "numerik değişkenler :    'Age', 'Fare'\n",
        "'''"
      ],
      "execution_count":200,
      "outputs":[
        {
          "data":{
            "text\/plain":[
              "\"\\nGÖRSELLEŞTİRME\\nVeriyi kategorik ve numerik olarak ayırıp görselleştirme yapacağız.\\nkategorik değişkenler :  'Pclass', 'Name', 'Sex', 'Cabin', 'Embarked', 'Ticket', 'Survived', 'SibSp', 'Parch'\\nnumerik değişkenler :    'Age', 'Fare'\\n\""
            ]
          },
          "metadata":{
            
          },
          "output_type":"display_data"
        }
      ],
      "metadata":{
        
      }
    },
    {
      "cell_type":"code",
      "source":[
        "'''\n",
        "KATEGORİK VERİLERİ GÖRSELLEŞTİRMEK İÇİN ÖNCE BİR FONKSİYON YAZACAĞIZ.\n",
        "'''\n",
        "def show_data_with_bar_plot(datas_feature):\n",
        "    data_to_visualize = train_df[datas_feature]\n",
        "    plt.figure(figsize=(9,3))\n",
        "    plt.title(datas_feature)\n",
        "    sns.countplot(data_to_visualize)\n",
        "    plt.show()"
      ],
      "execution_count":201,
      "outputs":[
        
      ],
      "metadata":{
        
      }
    },
    {
      "cell_type":"code",
      "source":[
        "data_category = ['Pclass', 'Sex', 'Cabin', 'Embarked', 'Survived', 'SibSp', 'Parch']\n",
        "for feature in data_category:\n",
        "    show_data_with_bar_plot(feature)"
      ],
      "execution_count":202,
      "outputs":[
        {
          "data":{
            "image\/png":"[encoded data removed]"
          },
          "metadata":{
            "image\/png":{
              "width":0,
              "height":0
            }
          },
          "output_type":"display_data"
        }
      ],
      "metadata":{
        
      }
    },
    {
      "cell_type":"code",
      "source":[
        "'''\n",
        "NUMERİK VERİLERİ GÖRSELLEŞTİRMEK İÇİN FONKSİYON YAZACAĞIZ.\n",
        "'''\n",
        "def show_data_with_histogram_plot(datas_feature):\n",
        "    plt.figure(figsize=(10,6))\n",
        "    sns.histplot(train_df[datas_feature])\n",
        "    plt.xlabel(datas_feature)\n",
        "    plt.ylabel(\"Frequency\")\n",
        "    plt.title(datas_feature)\n",
        "    plt.grid()\n",
        "    plt.show()"
      ],
      "execution_count":203,
      "outputs":[
        
      ],
      "metadata":{
        
      }
    },
    {
      "cell_type":"code",
      "source":[
        "data_numeric = ['Age', 'Fare']\n",
        "for feature in data_numeric:\n",
        "    show_data_with_histogram_plot(feature)"
      ],
      "execution_count":204,
      "outputs":[
        {
          "data":{
            "image\/png":"[encoded data removed]"
          },
          "metadata":{
            "image\/png":{
              "width":0,
              "height":0
            }
          },
          "output_type":"display_data"
        }
      ],
      "metadata":{
        
      }
    },
    {
      "cell_type":"code",
      "source":[
        "'''\n",
        "Bu grafik bize columns listesinde verdiğimiz özelliklere(features) göre yolcuların hayatta kalıp ve kalmamasına göre ayırıp box plotlarını çizdi.\n",
        "Box plot ile verdiğimiz özelliklerin(features) : medyanı(ortanca değeri), 1. 2. ve 3. çeyrekliklerini(Quantile) ve aykırı(outliers) değerleri gösterir.\n",
        "Sibsp ve Parch özelliklerini boxplotlarının(kutu grafiği) tek bir çizgi halinde gözükmesinin sebebi Fare ve Age özelliklerinin Sibsp ve Parch göre göreceli olarak daha büyük değerlere sahip olmasıdır.\n",
        "Verinin makine öğrenmesi modeline verilmeden önce scale(ölçekleme) yapılması gerekir. Biz şimdi scale etmiş olsaydık veriler bu grafikte daha iyi gözükürdü.\n",
        "pandas kütüphanesinin içindeki pd.melt(var_name='features', value_name='value') fonksiyonunun var_name grafikteki x eksenini ve value_name ise y eksenini temsil eder.\n",
        "'''\n",
        "columns = ['Survived', 'Age', 'SibSp', 'Parch', 'Fare']\n",
        "df_melted = pd.melt(train_df[columns], id_vars='Survived', var_name='features', value_name='value')\n",
        "plt.figure()\n",
        "sns.boxplot(x ='features', y='value', hue='Survived', data=df_melted)\n",
        "plt.xticks(rotation=90)\n",
        "plt.show()"
      ],
      "execution_count":205,
      "outputs":[
        {
          "data":{
            "image\/png":"[encoded data removed]"
          },
          "metadata":{
            "image\/png":{
              "width":0,
              "height":0
            }
          },
          "output_type":"display_data"
        }
      ],
      "metadata":{
        
      }
    },
    {
      "cell_type":"code",
      "source":[
        "# Hayatta kalmaya(Survived) göre Age(yaş) ve Fare(ücret) dağılımları\n",
        "plt.figure(figsize=(18,18))\n",
        "sns.pairplot(train_df[['Survived', 'Age', 'Fare']], diag_kind=\"kde\", hue='Survived')\n",
        "plt.legend()\n",
        "plt.show()"
      ],
      "execution_count":206,
      "outputs":[
        {
          "data":{
            "text\/plain":[
              "<Figure size 1296x1296 with 0 Axes>"
            ],
            "image\/png":"[encoded data removed]"
          },
          "metadata":{
            "image\/png":{
              "width":0,
              "height":0
            }
          },
          "output_type":"display_data"
        }
      ],
      "metadata":{
        
      }
    },
    {
      "cell_type":"code",
      "source":[
        "'''\n",
        "TEMEL VERİ ANALİZİ (Basic Data Analysis)\n",
        "    Bu kısımda hayatta halma ile ilişkili olabilecek özellikleri(features) inceleyeceğiz.\n",
        "    1) Titanik gemisindeki yolcuların hayatta kalmaları(Survived) ile biniş sınıfı(Pclass) arasındaki ilişki\n",
        "        Pclass vs Survived \n",
        "    2) Yolcuların cinsiyetleri(Sex) ile hayatta kalmaları(Survived) arasındaki ilişki\n",
        "        Sex vs Survived\n",
        "    3) Yolcuların kardeş veya eş sayıları(SibSp - Number of Siblings\/Spouses Aboard) ile hayatta kalmaları(Survived) arasındaki ilişki\n",
        "        SibSp vs Survived\n",
        "    4) Yolcuların ebeveyn veya kardeş sayıları(Parch - Number of Parents\/Children Aboard) ile hayatta kalmaları(Survived) arasındaki ilişki\n",
        "        Parch vs Survived\n",
        "    5) Yolcuların bilet ücretleri(Fare) ile hayatta kalmaları(Survived) arasındaki ilişki\n",
        "        Fare vs Survived\n",
        "    6) Yolcuların yaşları(Age) ile hayatta kalmaları(Survived) arasındaki ilişkiyi daha sonra inceleyeceğiz.\n",
        "        Age vs Survived\n",
        "'''"
      ],
      "execution_count":207,
      "outputs":[
        {
          "data":{
            "text\/plain":[
              "'\\nTEMEL VERİ ANALİZİ (Basic Data Analysis)\\n    Bu kısımda hayatta halma ile ilişkili olabilecek özellikleri(features) inceleyeceğiz.\\n    1) Titanik gemisindeki yolcuların hayatta kalmaları(Survived) ile biniş sınıfı(Pclass) arasındaki ilişki\\n        Pclass vs Survived \\n    2) Yolcuların cinsiyetleri(Sex) ile hayatta kalmaları(Survived) arasındaki ilişki\\n        Sex vs Survived\\n    3) Yolcuların kardeş veya eş sayıları(SibSp - Number of Siblings\/Spouses Aboard) ile hayatta kalmaları(Survived) arasındaki ilişki\\n        SibSp vs Survived\\n    4) Yolcuların ebeveyn veya kardeş sayıları(Parch - Number of Parents\/Children Aboard) ile hayatta kalmaları(Survived) arasındaki ilişki\\n        Parch vs Survived\\n    5) Yolcuların bilet ücretleri(Fare) ile hayatta kalmaları(Survived) arasındaki ilişki\\n        Fare vs Survived\\n    6) Yolcuların yaşları(Age) ile hayatta kalmaları(Survived) arasındaki ilişkiyi daha sonra inceleyeceğiz.\\n        Age vs Survived\\n'"
            ]
          },
          "metadata":{
            
          },
          "output_type":"display_data"
        }
      ],
      "metadata":{
        
      }
    },
    {
      "cell_type":"code",
      "source":[
        "# 1. Sınıf yolcu % 62 ihtimalle, 2. Sınıf yolcu % 47 3. Sınıf yolcular ise % 24 oranında hayatta kalmışlar.\n",
        "train_df[[\"Pclass\", \"Survived\"]].groupby([\"Pclass\"], as_index=False).mean().sort_values(by = \"Survived\", ascending=False)"
      ],
      "execution_count":208,
      "outputs":[
        {
          "data":{
            "text\/html":[
              "<div>\n",
              "<style scoped>\n",
              "    .dataframe tbody tr th:only-of-type {\n",
              "        vertical-align: middle;\n",
              "    }\n",
              "\n",
              "    .dataframe tbody tr th {\n",
              "        vertical-align: top;\n",
              "    }\n",
              "\n",
              "    .dataframe thead th {\n",
              "        text-align: right;\n",
              "    }\n",
              "<\/style>\n",
              "<table border=\"1\" class=\"dataframe\">\n",
              "  <thead>\n",
              "    <tr style=\"text-align: right;\">\n",
              "      <th><\/th>\n",
              "      <th>Pclass<\/th>\n",
              "      <th>Survived<\/th>\n",
              "    <\/tr>\n",
              "  <\/thead>\n",
              "  <tbody>\n",
              "    <tr>\n",
              "      <th>0<\/th>\n",
              "      <td>1<\/td>\n",
              "      <td>0.629630<\/td>\n",
              "    <\/tr>\n",
              "    <tr>\n",
              "      <th>1<\/th>\n",
              "      <td>2<\/td>\n",
              "      <td>0.472826<\/td>\n",
              "    <\/tr>\n",
              "    <tr>\n",
              "      <th>2<\/th>\n",
              "      <td>3<\/td>\n",
              "      <td>0.242363<\/td>\n",
              "    <\/tr>\n",
              "  <\/tbody>\n",
              "<\/table>\n",
              "<\/div>"
            ]
          },
          "metadata":{
            
          },
          "output_type":"display_data"
        }
      ],
      "metadata":{
        
      }
    },
    {
      "cell_type":"code",
      "source":[
        "# Kadın yolcuların erkek yolculara göre hayatta kalma olasılıkları daha yüksek\n",
        "train_df[[\"Sex\", \"Survived\"]].groupby([\"Sex\"], as_index=False).mean().sort_values(by = \"Survived\", ascending=False)"
      ],
      "execution_count":209,
      "outputs":[
        {
          "data":{
            "text\/html":[
              "<div>\n",
              "<style scoped>\n",
              "    .dataframe tbody tr th:only-of-type {\n",
              "        vertical-align: middle;\n",
              "    }\n",
              "\n",
              "    .dataframe tbody tr th {\n",
              "        vertical-align: top;\n",
              "    }\n",
              "\n",
              "    .dataframe thead th {\n",
              "        text-align: right;\n",
              "    }\n",
              "<\/style>\n",
              "<table border=\"1\" class=\"dataframe\">\n",
              "  <thead>\n",
              "    <tr style=\"text-align: right;\">\n",
              "      <th><\/th>\n",
              "      <th>Sex<\/th>\n",
              "      <th>Survived<\/th>\n",
              "    <\/tr>\n",
              "  <\/thead>\n",
              "  <tbody>\n",
              "    <tr>\n",
              "      <th>0<\/th>\n",
              "      <td>female<\/td>\n",
              "      <td>0.742038<\/td>\n",
              "    <\/tr>\n",
              "    <tr>\n",
              "      <th>1<\/th>\n",
              "      <td>male<\/td>\n",
              "      <td>0.188908<\/td>\n",
              "    <\/tr>\n",
              "  <\/tbody>\n",
              "<\/table>\n",
              "<\/div>"
            ]
          },
          "metadata":{
            
          },
          "output_type":"display_data"
        }
      ],
      "metadata":{
        
      }
    },
    {
      "cell_type":"code",
      "source":[
        "# En çok hayatta kalma olasılığı yüksek olanlar kardeş veya eş sayısı 1 olanlarmış.\n",
        "train_df[[\"SibSp\", \"Survived\"]].groupby([\"SibSp\"], as_index=False).mean().sort_values(by = \"Survived\", ascending=False)"
      ],
      "execution_count":210,
      "outputs":[
        {
          "data":{
            "text\/html":[
              "<div>\n",
              "<style scoped>\n",
              "    .dataframe tbody tr th:only-of-type {\n",
              "        vertical-align: middle;\n",
              "    }\n",
              "\n",
              "    .dataframe tbody tr th {\n",
              "        vertical-align: top;\n",
              "    }\n",
              "\n",
              "    .dataframe thead th {\n",
              "        text-align: right;\n",
              "    }\n",
              "<\/style>\n",
              "<table border=\"1\" class=\"dataframe\">\n",
              "  <thead>\n",
              "    <tr style=\"text-align: right;\">\n",
              "      <th><\/th>\n",
              "      <th>SibSp<\/th>\n",
              "      <th>Survived<\/th>\n",
              "    <\/tr>\n",
              "  <\/thead>\n",
              "  <tbody>\n",
              "    <tr>\n",
              "      <th>1<\/th>\n",
              "      <td>1<\/td>\n",
              "      <td>0.535885<\/td>\n",
              "    <\/tr>\n",
              "    <tr>\n",
              "      <th>2<\/th>\n",
              "      <td>2<\/td>\n",
              "      <td>0.464286<\/td>\n",
              "    <\/tr>\n",
              "    <tr>\n",
              "      <th>0<\/th>\n",
              "      <td>0<\/td>\n",
              "      <td>0.345395<\/td>\n",
              "    <\/tr>\n",
              "    <tr>\n",
              "      <th>3<\/th>\n",
              "      <td>3<\/td>\n",
              "      <td>0.250000<\/td>\n",
              "    <\/tr>\n",
              "    <tr>\n",
              "      <th>4<\/th>\n",
              "      <td>4<\/td>\n",
              "      <td>0.166667<\/td>\n",
              "    <\/tr>\n",
              "    <tr>\n",
              "      <th>5<\/th>\n",
              "      <td>5<\/td>\n",
              "      <td>0.000000<\/td>\n",
              "    <\/tr>\n",
              "    <tr>\n",
              "      <th>6<\/th>\n",
              "      <td>8<\/td>\n",
              "      <td>0.000000<\/td>\n",
              "    <\/tr>\n",
              "  <\/tbody>\n",
              "<\/table>\n",
              "<\/div>"
            ]
          },
          "metadata":{
            
          },
          "output_type":"display_data"
        }
      ],
      "metadata":{
        
      }
    },
    {
      "cell_type":"code",
      "source":[
        "# Ebeveyn veya kardeş sayıları 3 olanların hayatta kalma olasılığı % 60\n",
        "train_df[[\"Parch\", \"Survived\"]].groupby([\"Parch\"], as_index=False).mean().sort_values(by = \"Survived\", ascending=False)"
      ],
      "execution_count":211,
      "outputs":[
        {
          "data":{
            "text\/html":[
              "<div>\n",
              "<style scoped>\n",
              "    .dataframe tbody tr th:only-of-type {\n",
              "        vertical-align: middle;\n",
              "    }\n",
              "\n",
              "    .dataframe tbody tr th {\n",
              "        vertical-align: top;\n",
              "    }\n",
              "\n",
              "    .dataframe thead th {\n",
              "        text-align: right;\n",
              "    }\n",
              "<\/style>\n",
              "<table border=\"1\" class=\"dataframe\">\n",
              "  <thead>\n",
              "    <tr style=\"text-align: right;\">\n",
              "      <th><\/th>\n",
              "      <th>Parch<\/th>\n",
              "      <th>Survived<\/th>\n",
              "    <\/tr>\n",
              "  <\/thead>\n",
              "  <tbody>\n",
              "    <tr>\n",
              "      <th>3<\/th>\n",
              "      <td>3<\/td>\n",
              "      <td>0.600000<\/td>\n",
              "    <\/tr>\n",
              "    <tr>\n",
              "      <th>1<\/th>\n",
              "      <td>1<\/td>\n",
              "      <td>0.550847<\/td>\n",
              "    <\/tr>\n",
              "    <tr>\n",
              "      <th>2<\/th>\n",
              "      <td>2<\/td>\n",
              "      <td>0.500000<\/td>\n",
              "    <\/tr>\n",
              "    <tr>\n",
              "      <th>0<\/th>\n",
              "      <td>0<\/td>\n",
              "      <td>0.343658<\/td>\n",
              "    <\/tr>\n",
              "    <tr>\n",
              "      <th>5<\/th>\n",
              "      <td>5<\/td>\n",
              "      <td>0.200000<\/td>\n",
              "    <\/tr>\n",
              "    <tr>\n",
              "      <th>4<\/th>\n",
              "      <td>4<\/td>\n",
              "      <td>0.000000<\/td>\n",
              "    <\/tr>\n",
              "    <tr>\n",
              "      <th>6<\/th>\n",
              "      <td>6<\/td>\n",
              "      <td>0.000000<\/td>\n",
              "    <\/tr>\n",
              "  <\/tbody>\n",
              "<\/table>\n",
              "<\/div>"
            ]
          },
          "metadata":{
            
          },
          "output_type":"display_data"
        }
      ],
      "metadata":{
        
      }
    },
    {
      "cell_type":"code",
      "source":[
        "'''\n",
        "AYKIRI GÖZLEM TESPİTİ (OUTLİERS DETECTİON)\n",
        "\n",
        "Biz bu veri setinde feature bazlı ve score bazlı aykırı değer tespiti yapacağız.\n",
        "İlk olarak feature bazlı aykırı değerleri tespit edelim.\n",
        "Aykırı değer olabilecek özellik veya sutunları(features) yazdığımız fonksiyona vereceğiz. Vereceğimiz sutunlar = ['SibSp', 'Parch', 'Age', 'Fare']\n",
        "[Pclass', 'Name', 'Sex', 'Cabin', 'Embarked', 'Ticket'] sutunları aykırı değer içermez.\n",
        "\n",
        "'''\n",
        "def iqr_detect_outliers(dataframe, data_features):\n",
        "    outliers_indexs=[]\n",
        "    for c in data_features:\n",
        "        quantile_1 = dataframe[c].quantile(0.25)\n",
        "        quantile_3 = dataframe[c].quantile(0.75)\n",
        "        iqr = quantile_3 - quantile_1\n",
        "        lower_tail = quantile_1 - 1.5 * iqr\n",
        "        upper_tail = quantile_3 + 1.5 * iqr\n",
        "        for i,j in enumerate(dataframe[c]):\n",
        "            if j > upper_tail or j < lower_tail:\n",
        "                outliers_indexs.append(i)\n",
        "    outliers_indexs=Counter(outliers_indexs)\n",
        "    multiple_outliers=[]\n",
        "    for i, v in outliers_indexs.items():\n",
        "        if v > 2:\n",
        "            multiple_outliers.append(i)\n",
        "    return multiple_outliers"
      ],
      "execution_count":212,
      "outputs":[
        
      ],
      "metadata":{
        
      }
    },
    {
      "cell_type":"code",
      "source":[
        "# Verdiğimiz 4 sutundan en az 3'ünde aykırı olarak tespit edilen toplam 11 gözlem var\n",
        "outliers_index = (iqr_detect_outliers(train_df, ['SibSp', 'Parch', 'Age', 'Fare']))\n",
        "print(outliers_index)"
      ],
      "execution_count":213,
      "outputs":[
        {
          "name":"stdout",
          "text":[
            "[27, 88, 159, 180, 201, 324, 341, 792, 846, 863, 745]\n"
          ],
          "output_type":"stream"
        }
      ],
      "metadata":{
        
      }
    },
    {
      "cell_type":"code",
      "source":[
        "train_df.iloc[outliers_index] # Aykırı olan gözlemleri iloc ile çağıralım."
      ],
      "execution_count":214,
      "outputs":[
        {
          "data":{
            "text\/html":[
              "<div>\n",
              "<style scoped>\n",
              "    .dataframe tbody tr th:only-of-type {\n",
              "        vertical-align: middle;\n",
              "    }\n",
              "\n",
              "    .dataframe tbody tr th {\n",
              "        vertical-align: top;\n",
              "    }\n",
              "\n",
              "    .dataframe thead th {\n",
              "        text-align: right;\n",
              "    }\n",
              "<\/style>\n",
              "<table border=\"1\" class=\"dataframe\">\n",
              "  <thead>\n",
              "    <tr style=\"text-align: right;\">\n",
              "      <th><\/th>\n",
              "      <th>PassengerId<\/th>\n",
              "      <th>Survived<\/th>\n",
              "      <th>Pclass<\/th>\n",
              "      <th>Name<\/th>\n",
              "      <th>Sex<\/th>\n",
              "      <th>Age<\/th>\n",
              "      <th>SibSp<\/th>\n",
              "      <th>Parch<\/th>\n",
              "      <th>Ticket<\/th>\n",
              "      <th>Fare<\/th>\n",
              "      <th>Cabin<\/th>\n",
              "      <th>Embarked<\/th>\n",
              "    <\/tr>\n",
              "  <\/thead>\n",
              "  <tbody>\n",
              "    <tr>\n",
              "      <th>27<\/th>\n",
              "      <td>28<\/td>\n",
              "      <td>0<\/td>\n",
              "      <td>1<\/td>\n",
              "      <td>Fortune, Mr. Charles Alexander<\/td>\n",
              "      <td>male<\/td>\n",
              "      <td>19.0<\/td>\n",
              "      <td>3<\/td>\n",
              "      <td>2<\/td>\n",
              "      <td>19950<\/td>\n",
              "      <td>263.00<\/td>\n",
              "      <td>C23 C25 C27<\/td>\n",
              "      <td>S<\/td>\n",
              "    <\/tr>\n",
              "    <tr>\n",
              "      <th>88<\/th>\n",
              "      <td>89<\/td>\n",
              "      <td>1<\/td>\n",
              "      <td>1<\/td>\n",
              "      <td>Fortune, Miss. Mabel Helen<\/td>\n",
              "      <td>female<\/td>\n",
              "      <td>23.0<\/td>\n",
              "      <td>3<\/td>\n",
              "      <td>2<\/td>\n",
              "      <td>19950<\/td>\n",
              "      <td>263.00<\/td>\n",
              "      <td>C23 C25 C27<\/td>\n",
              "      <td>S<\/td>\n",
              "    <\/tr>\n",
              "    <tr>\n",
              "      <th>159<\/th>\n",
              "      <td>160<\/td>\n",
              "      <td>0<\/td>\n",
              "      <td>3<\/td>\n",
              "      <td>Sage, Master. Thomas Henry<\/td>\n",
              "      <td>male<\/td>\n",
              "      <td>NaN<\/td>\n",
              "      <td>8<\/td>\n",
              "      <td>2<\/td>\n",
              "      <td>CA. 2343<\/td>\n",
              "      <td>69.55<\/td>\n",
              "      <td>NaN<\/td>\n",
              "      <td>S<\/td>\n",
              "    <\/tr>\n",
              "    <tr>\n",
              "      <th>180<\/th>\n",
              "      <td>181<\/td>\n",
              "      <td>0<\/td>\n",
              "      <td>3<\/td>\n",
              "      <td>Sage, Miss. Constance Gladys<\/td>\n",
              "      <td>female<\/td>\n",
              "      <td>NaN<\/td>\n",
              "      <td>8<\/td>\n",
              "      <td>2<\/td>\n",
              "      <td>CA. 2343<\/td>\n",
              "      <td>69.55<\/td>\n",
              "      <td>NaN<\/td>\n",
              "      <td>S<\/td>\n",
              "    <\/tr>\n",
              "    <tr>\n",
              "      <th>201<\/th>\n",
              "      <td>202<\/td>\n",
              "      <td>0<\/td>\n",
              "      <td>3<\/td>\n",
              "      <td>Sage, Mr. Frederick<\/td>\n",
              "      <td>male<\/td>\n",
              "      <td>NaN<\/td>\n",
              "      <td>8<\/td>\n",
              "      <td>2<\/td>\n",
              "      <td>CA. 2343<\/td>\n",
              "      <td>69.55<\/td>\n",
              "      <td>NaN<\/td>\n",
              "      <td>S<\/td>\n",
              "    <\/tr>\n",
              "    <tr>\n",
              "      <th>324<\/th>\n",
              "      <td>325<\/td>\n",
              "      <td>0<\/td>\n",
              "      <td>3<\/td>\n",
              "      <td>Sage, Mr. George John Jr<\/td>\n",
              "      <td>male<\/td>\n",
              "      <td>NaN<\/td>\n",
              "      <td>8<\/td>\n",
              "      <td>2<\/td>\n",
              "      <td>CA. 2343<\/td>\n",
              "      <td>69.55<\/td>\n",
              "      <td>NaN<\/td>\n",
              "      <td>S<\/td>\n",
              "    <\/tr>\n",
              "    <tr>\n",
              "      <th>341<\/th>\n",
              "      <td>342<\/td>\n",
              "      <td>1<\/td>\n",
              "      <td>1<\/td>\n",
              "      <td>Fortune, Miss. Alice Elizabeth<\/td>\n",
              "      <td>female<\/td>\n",
              "      <td>24.0<\/td>\n",
              "      <td>3<\/td>\n",
              "      <td>2<\/td>\n",
              "      <td>19950<\/td>\n",
              "      <td>263.00<\/td>\n",
              "      <td>C23 C25 C27<\/td>\n",
              "      <td>S<\/td>\n",
              "    <\/tr>\n",
              "    <tr>\n",
              "      <th>792<\/th>\n",
              "      <td>793<\/td>\n",
              "      <td>0<\/td>\n",
              "      <td>3<\/td>\n",
              "      <td>Sage, Miss. Stella Anna<\/td>\n",
              "      <td>female<\/td>\n",
              "      <td>NaN<\/td>\n",
              "      <td>8<\/td>\n",
              "      <td>2<\/td>\n",
              "      <td>CA. 2343<\/td>\n",
              "      <td>69.55<\/td>\n",
              "      <td>NaN<\/td>\n",
              "      <td>S<\/td>\n",
              "    <\/tr>\n",
              "    <tr>\n",
              "      <th>846<\/th>\n",
              "      <td>847<\/td>\n",
              "      <td>0<\/td>\n",
              "      <td>3<\/td>\n",
              "      <td>Sage, Mr. Douglas Bullen<\/td>\n",
              "      <td>male<\/td>\n",
              "      <td>NaN<\/td>\n",
              "      <td>8<\/td>\n",
              "      <td>2<\/td>\n",
              "      <td>CA. 2343<\/td>\n",
              "      <td>69.55<\/td>\n",
              "      <td>NaN<\/td>\n",
              "      <td>S<\/td>\n",
              "    <\/tr>\n",
              "    <tr>\n",
              "      <th>863<\/th>\n",
              "      <td>864<\/td>\n",
              "      <td>0<\/td>\n",
              "      <td>3<\/td>\n",
              "      <td>Sage, Miss. Dorothy Edith \"Dolly\"<\/td>\n",
              "      <td>female<\/td>\n",
              "      <td>NaN<\/td>\n",
              "      <td>8<\/td>\n",
              "      <td>2<\/td>\n",
              "      <td>CA. 2343<\/td>\n",
              "      <td>69.55<\/td>\n",
              "      <td>NaN<\/td>\n",
              "      <td>S<\/td>\n",
              "    <\/tr>\n",
              "    <tr>\n",
              "      <th>745<\/th>\n",
              "      <td>746<\/td>\n",
              "      <td>0<\/td>\n",
              "      <td>1<\/td>\n",
              "      <td>Crosby, Capt. Edward Gifford<\/td>\n",
              "      <td>male<\/td>\n",
              "      <td>70.0<\/td>\n",
              "      <td>1<\/td>\n",
              "      <td>1<\/td>\n",
              "      <td>WE\/P 5735<\/td>\n",
              "      <td>71.00<\/td>\n",
              "      <td>B22<\/td>\n",
              "      <td>S<\/td>\n",
              "    <\/tr>\n",
              "  <\/tbody>\n",
              "<\/table>\n",
              "<\/div>"
            ]
          },
          "metadata":{
            
          },
          "output_type":"display_data"
        }
      ],
      "metadata":{
        
      }
    },
    {
      "cell_type":"code",
      "source":[
        "# Aykırı gözlemleri verimizden atalım\n",
        "train_df = train_df.drop(index=outliers_index)"
      ],
      "execution_count":215,
      "outputs":[
        
      ],
      "metadata":{
        
      }
    },
    {
      "cell_type":"code",
      "source":[
        "'''\n",
        "Bu 4 kolondan(['SibSp', 'Parch', 'Age', 'Fare']) en az 3'ünde aykırı olarak tespit edilenleri silmiştik.\n",
        "Şimdi ise tekrar grafiğe baktığımızda bu Fare sutununda çok fazla aykırı gözlem olduğunu görüyoruz.\n",
        "Bu aykırı gözlemleri üst ve alt sınıra eşitleyeceğiz.\n",
        "''' \n",
        "columns = ['Survived', 'Age', 'SibSp', 'Parch', 'Fare']\n",
        "df_melted = pd.melt(train_df[columns], id_vars='Survived', var_name='features', value_name='value')\n",
        "plt.figure()\n",
        "sns.boxplot(x ='features', y='value', data=df_melted)\n",
        "plt.xticks(rotation=90)\n",
        "plt.show()"
      ],
      "execution_count":216,
      "outputs":[
        {
          "data":{
            "image\/png":"[encoded data removed]"
          },
          "metadata":{
            "image\/png":{
              "width":0,
              "height":0
            }
          },
          "output_type":"display_data"
        }
      ],
      "metadata":{
        
      }
    },
    {
      "cell_type":"code",
      "source":[
        "'''\n",
        "Fare sutunundaki aykırı değerleri üst ve alt sınıra eşitledik\n",
        "quantile_1 = train_df['Fare'].quantile(0.25)\n",
        "quantile_3 = train_df['Fare'].quantile(0.75)\n",
        "iqr = quantile_3 - quantile_1\n",
        "lower_tail = quantile_1 - 1.5 * iqr\n",
        "upper_tail = quantile_3 + 1.5 * iqr\n",
        "for i,j in enumerate(train_df['Fare']):\n",
        "    if j > upper_tail:\n",
        "        train_df.loc[i, 'Fare'] = upper_tail\n",
        "    elif j < lower_tail:\n",
        "        train_df.loc[i, 'Fare'] = lower_tail\n",
        "\n",
        "'''"
      ],
      "execution_count":217,
      "outputs":[
        {
          "data":{
            "text\/plain":[
              "\"\\nFare sutunundaki aykırı değerleri üst ve alt sınıra eşitledik\\nquantile_1 = train_df['Fare'].quantile(0.25)\\nquantile_3 = train_df['Fare'].quantile(0.75)\\niqr = quantile_3 - quantile_1\\nlower_tail = quantile_1 - 1.5 * iqr\\nupper_tail = quantile_3 + 1.5 * iqr\\nfor i,j in enumerate(train_df['Fare']):\\n    if j > upper_tail:\\n        train_df.loc[i, 'Fare'] = upper_tail\\n    elif j < lower_tail:\\n        train_df.loc[i, 'Fare'] = lower_tail\\n\\n\""
            ]
          },
          "metadata":{
            
          },
          "output_type":"display_data"
        }
      ],
      "metadata":{
        
      }
    },
    {
      "cell_type":"code",
      "source":[
        "sns.boxplot(data = train_df, x='Fare')"
      ],
      "execution_count":218,
      "outputs":[
        {
          "data":{
            "text\/plain":[
              "<AxesSubplot:xlabel='Fare'>"
            ],
            "image\/png":"[encoded data removed]"
          },
          "metadata":{
            "image\/png":{
              "width":0,
              "height":0
            }
          },
          "output_type":"display_data"
        }
      ],
      "metadata":{
        
      }
    },
    {
      "cell_type":"code",
      "source":[
        "# Feature bazında aykırı(outliers) değerleri tespit edelim\n",
        "'''\n",
        "def iqr_detect_outliers(dataframe,data_features):\n",
        "    outliers_upper = []\n",
        "    outliers_lower = []\n",
        "    for c in data_features:\n",
        "        quantile_1 = dataframe[c].quantile(0.25)\n",
        "        quantile_3 = dataframe[c].quantile(0.75)\n",
        "        iqr = quantile_3 - quantile_1\n",
        "        Lower_tail = quantile_1 - 1.5 * iqr\n",
        "        Upper_tail = quantile_3 + 1.5 * iqr\n",
        "        for i,j in enumerate(dataframe[c]):\n",
        "            if j > Upper_tail:\n",
        "                dataframe.loc[i,c] = Upper_tail\n",
        "                #outliers_upper.append(i)\n",
        "            elif j < Lower_tail:\n",
        "                dataframe.loc[i,c] = Lower_tail\n",
        "                #outliers_lower.append(i)\n",
        "    \n",
        "    outliers=Counter(outliers)\n",
        "    multiple_outliers=[]\n",
        "    for i, v in outliers.items():\n",
        "        if v > 2:\n",
        "            multiple_outliers.append(i)\n",
        "    return multiple_outliers\n",
        "    '''"
      ],
      "execution_count":219,
      "outputs":[
        {
          "data":{
            "text\/plain":[
              "'\\ndef iqr_detect_outliers(dataframe,data_features):\\n    outliers_upper = []\\n    outliers_lower = []\\n    for c in data_features:\\n        quantile_1 = dataframe[c].quantile(0.25)\\n        quantile_3 = dataframe[c].quantile(0.75)\\n        iqr = quantile_3 - quantile_1\\n        Lower_tail = quantile_1 - 1.5 * iqr\\n        Upper_tail = quantile_3 + 1.5 * iqr\\n        for i,j in enumerate(dataframe[c]):\\n            if j > Upper_tail:\\n                dataframe.loc[i,c] = Upper_tail\\n                #outliers_upper.append(i)\\n            elif j < Lower_tail:\\n                dataframe.loc[i,c] = Lower_tail\\n                #outliers_lower.append(i)\\n    \\n    outliers=Counter(outliers)\\n    multiple_outliers=[]\\n    for i, v in outliers.items():\\n        if v > 2:\\n            multiple_outliers.append(i)\\n    return multiple_outliers\\n    '"
            ]
          },
          "metadata":{
            
          },
          "output_type":"display_data"
        }
      ],
      "metadata":{
        
      }
    },
    {
      "cell_type":"code",
      "source":[
        "train_df_len = len(train_df)\n",
        "df = pd.concat([train_df, test_df], axis=0).reset_index(drop=True)"
      ],
      "execution_count":220,
      "outputs":[
        
      ],
      "metadata":{
        
      }
    },
    {
      "cell_type":"code",
      "source":[
        "df.head()"
      ],
      "execution_count":221,
      "outputs":[
        {
          "data":{
            "text\/html":[
              "<div>\n",
              "<style scoped>\n",
              "    .dataframe tbody tr th:only-of-type {\n",
              "        vertical-align: middle;\n",
              "    }\n",
              "\n",
              "    .dataframe tbody tr th {\n",
              "        vertical-align: top;\n",
              "    }\n",
              "\n",
              "    .dataframe thead th {\n",
              "        text-align: right;\n",
              "    }\n",
              "<\/style>\n",
              "<table border=\"1\" class=\"dataframe\">\n",
              "  <thead>\n",
              "    <tr style=\"text-align: right;\">\n",
              "      <th><\/th>\n",
              "      <th>PassengerId<\/th>\n",
              "      <th>Survived<\/th>\n",
              "      <th>Pclass<\/th>\n",
              "      <th>Name<\/th>\n",
              "      <th>Sex<\/th>\n",
              "      <th>Age<\/th>\n",
              "      <th>SibSp<\/th>\n",
              "      <th>Parch<\/th>\n",
              "      <th>Ticket<\/th>\n",
              "      <th>Fare<\/th>\n",
              "      <th>Cabin<\/th>\n",
              "      <th>Embarked<\/th>\n",
              "    <\/tr>\n",
              "  <\/thead>\n",
              "  <tbody>\n",
              "    <tr>\n",
              "      <th>0<\/th>\n",
              "      <td>1<\/td>\n",
              "      <td>0.0<\/td>\n",
              "      <td>3<\/td>\n",
              "      <td>Braund, Mr. Owen Harris<\/td>\n",
              "      <td>male<\/td>\n",
              "      <td>22.0<\/td>\n",
              "      <td>1<\/td>\n",
              "      <td>0<\/td>\n",
              "      <td>A\/5 21171<\/td>\n",
              "      <td>7.2500<\/td>\n",
              "      <td>NaN<\/td>\n",
              "      <td>S<\/td>\n",
              "    <\/tr>\n",
              "    <tr>\n",
              "      <th>1<\/th>\n",
              "      <td>2<\/td>\n",
              "      <td>1.0<\/td>\n",
              "      <td>1<\/td>\n",
              "      <td>Cumings, Mrs. John Bradley (Florence Briggs Th...<\/td>\n",
              "      <td>female<\/td>\n",
              "      <td>38.0<\/td>\n",
              "      <td>1<\/td>\n",
              "      <td>0<\/td>\n",
              "      <td>PC 17599<\/td>\n",
              "      <td>71.2833<\/td>\n",
              "      <td>C85<\/td>\n",
              "      <td>C<\/td>\n",
              "    <\/tr>\n",
              "    <tr>\n",
              "      <th>2<\/th>\n",
              "      <td>3<\/td>\n",
              "      <td>1.0<\/td>\n",
              "      <td>3<\/td>\n",
              "      <td>Heikkinen, Miss. Laina<\/td>\n",
              "      <td>female<\/td>\n",
              "      <td>26.0<\/td>\n",
              "      <td>0<\/td>\n",
              "      <td>0<\/td>\n",
              "      <td>STON\/O2. 3101282<\/td>\n",
              "      <td>7.9250<\/td>\n",
              "      <td>NaN<\/td>\n",
              "      <td>S<\/td>\n",
              "    <\/tr>\n",
              "    <tr>\n",
              "      <th>3<\/th>\n",
              "      <td>4<\/td>\n",
              "      <td>1.0<\/td>\n",
              "      <td>1<\/td>\n",
              "      <td>Futrelle, Mrs. Jacques Heath (Lily May Peel)<\/td>\n",
              "      <td>female<\/td>\n",
              "      <td>35.0<\/td>\n",
              "      <td>1<\/td>\n",
              "      <td>0<\/td>\n",
              "      <td>113803<\/td>\n",
              "      <td>53.1000<\/td>\n",
              "      <td>C123<\/td>\n",
              "      <td>S<\/td>\n",
              "    <\/tr>\n",
              "    <tr>\n",
              "      <th>4<\/th>\n",
              "      <td>5<\/td>\n",
              "      <td>0.0<\/td>\n",
              "      <td>3<\/td>\n",
              "      <td>Allen, Mr. William Henry<\/td>\n",
              "      <td>male<\/td>\n",
              "      <td>35.0<\/td>\n",
              "      <td>0<\/td>\n",
              "      <td>0<\/td>\n",
              "      <td>373450<\/td>\n",
              "      <td>8.0500<\/td>\n",
              "      <td>NaN<\/td>\n",
              "      <td>S<\/td>\n",
              "    <\/tr>\n",
              "  <\/tbody>\n",
              "<\/table>\n",
              "<\/div>"
            ]
          },
          "metadata":{
            
          },
          "output_type":"display_data"
        }
      ],
      "metadata":{
        
      }
    },
    {
      "cell_type":"code",
      "source":[
        "'''\n",
        "KAYIP VERİLER İLE MÜCADELE (MİSSİNG VALUES HANDLİNG)\n",
        "'''\n",
        "df.columns[df.isnull().any()] # Eksik verilerin olduğu kolonları çağırdık."
      ],
      "execution_count":222,
      "outputs":[
        {
          "data":{
            "text\/plain":[
              "Index(['Survived', 'Age', 'Fare', 'Cabin', 'Embarked'], dtype='object')"
            ]
          },
          "metadata":{
            
          },
          "output_type":"display_data"
        }
      ],
      "metadata":{
        
      }
    },
    {
      "cell_type":"code",
      "source":[
        "df.isnull().sum() # Kolonlardaki toplam eksik gözlem sayısı"
      ],
      "execution_count":223,
      "outputs":[
        {
          "data":{
            "text\/plain":[
              "PassengerId       0\n",
              "Survived        418\n",
              "Pclass            0\n",
              "Name              0\n",
              "Sex               0\n",
              "Age             256\n",
              "SibSp             0\n",
              "Parch             0\n",
              "Ticket            0\n",
              "Fare              1\n",
              "Cabin          1007\n",
              "Embarked          2\n",
              "dtype: int64"
            ]
          },
          "metadata":{
            
          },
          "output_type":"display_data"
        }
      ],
      "metadata":{
        
      }
    },
    {
      "cell_type":"code",
      "source":[
        "# Eksik veriler arasındaki kolerasyonu(ilişkiyi) görmek için missingno kütüphanesinden heatmap() fonksiyonunu kullanıyoruz.\n",
        "# Bizim verisetimizde eksik gözlemlerin kendi aralarında anlamlı bir kolerasyon olmadığını bu grafikte görebiliyoruz.\n",
        "msno.heatmap(df)\n",
        "plt.show()"
      ],
      "execution_count":224,
      "outputs":[
        {
          "data":{
            "image\/png":"[encoded data removed]"
          },
          "metadata":{
            "image\/png":{
              "width":0,
              "height":0
            }
          },
          "output_type":"display_data"
        }
      ],
      "metadata":{
        
      }
    },
    {
      "cell_type":"code",
      "source":[
        "# Biniş yeri eksik olan yolculara baktığımız zaman Pclass(sınıf) ve Fare(ücret) benzer olan yolcular ile kıyaslayıp Embark(biniş yeri) tahmin edeceğiz.\n",
        "df[df[\"Embarked\"].isnull()]"
      ],
      "execution_count":225,
      "outputs":[
        {
          "data":{
            "text\/html":[
              "<div>\n",
              "<style scoped>\n",
              "    .dataframe tbody tr th:only-of-type {\n",
              "        vertical-align: middle;\n",
              "    }\n",
              "\n",
              "    .dataframe tbody tr th {\n",
              "        vertical-align: top;\n",
              "    }\n",
              "\n",
              "    .dataframe thead th {\n",
              "        text-align: right;\n",
              "    }\n",
              "<\/style>\n",
              "<table border=\"1\" class=\"dataframe\">\n",
              "  <thead>\n",
              "    <tr style=\"text-align: right;\">\n",
              "      <th><\/th>\n",
              "      <th>PassengerId<\/th>\n",
              "      <th>Survived<\/th>\n",
              "      <th>Pclass<\/th>\n",
              "      <th>Name<\/th>\n",
              "      <th>Sex<\/th>\n",
              "      <th>Age<\/th>\n",
              "      <th>SibSp<\/th>\n",
              "      <th>Parch<\/th>\n",
              "      <th>Ticket<\/th>\n",
              "      <th>Fare<\/th>\n",
              "      <th>Cabin<\/th>\n",
              "      <th>Embarked<\/th>\n",
              "    <\/tr>\n",
              "  <\/thead>\n",
              "  <tbody>\n",
              "    <tr>\n",
              "      <th>60<\/th>\n",
              "      <td>62<\/td>\n",
              "      <td>1.0<\/td>\n",
              "      <td>1<\/td>\n",
              "      <td>Icard, Miss. Amelie<\/td>\n",
              "      <td>female<\/td>\n",
              "      <td>38.0<\/td>\n",
              "      <td>0<\/td>\n",
              "      <td>0<\/td>\n",
              "      <td>113572<\/td>\n",
              "      <td>80.0<\/td>\n",
              "      <td>B28<\/td>\n",
              "      <td>NaN<\/td>\n",
              "    <\/tr>\n",
              "    <tr>\n",
              "      <th>820<\/th>\n",
              "      <td>830<\/td>\n",
              "      <td>1.0<\/td>\n",
              "      <td>1<\/td>\n",
              "      <td>Stone, Mrs. George Nelson (Martha Evelyn)<\/td>\n",
              "      <td>female<\/td>\n",
              "      <td>62.0<\/td>\n",
              "      <td>0<\/td>\n",
              "      <td>0<\/td>\n",
              "      <td>113572<\/td>\n",
              "      <td>80.0<\/td>\n",
              "      <td>B28<\/td>\n",
              "      <td>NaN<\/td>\n",
              "    <\/tr>\n",
              "  <\/tbody>\n",
              "<\/table>\n",
              "<\/div>"
            ]
          },
          "metadata":{
            
          },
          "output_type":"display_data"
        }
      ],
      "metadata":{
        
      }
    },
    {
      "cell_type":"code",
      "source":[
        "sns.countplot(df[(df[\"Pclass\"] ==1) & (df[\"Fare\"]>70)][\"Embarked\"])"
      ],
      "execution_count":226,
      "outputs":[
        {
          "data":{
            "text\/plain":[
              "<AxesSubplot:xlabel='Embarked', ylabel='count'>"
            ],
            "image\/png":"[encoded data removed]"
          },
          "metadata":{
            "image\/png":{
              "width":0,
              "height":0
            }
          },
          "output_type":"display_data"
        }
      ],
      "metadata":{
        
      }
    },
    {
      "cell_type":"code",
      "source":[
        "plt.figure(figsize=(8,8))\n",
        "sns.boxplot(x=\"Embarked\", y = \"Fare\", data=df)"
      ],
      "execution_count":227,
      "outputs":[
        {
          "data":{
            "text\/plain":[
              "<AxesSubplot:xlabel='Embarked', ylabel='Fare'>"
            ],
            "image\/png":"[encoded data removed]"
          },
          "metadata":{
            "image\/png":{
              "width":0,
              "height":0
            }
          },
          "output_type":"display_data"
        }
      ],
      "metadata":{
        
      }
    },
    {
      "cell_type":"code",
      "source":[
        "# Biniş yeri eksik olan insanların C limanından binmiş olma ihtimali yüksek sonucuna vardık.\n",
        "df.Embarked = df.Embarked.fillna(\"C\")"
      ],
      "execution_count":228,
      "outputs":[
        
      ],
      "metadata":{
        
      }
    },
    {
      "cell_type":"code",
      "source":[
        "df[df[\"Fare\"].isnull()]"
      ],
      "execution_count":229,
      "outputs":[
        {
          "data":{
            "text\/html":[
              "<div>\n",
              "<style scoped>\n",
              "    .dataframe tbody tr th:only-of-type {\n",
              "        vertical-align: middle;\n",
              "    }\n",
              "\n",
              "    .dataframe tbody tr th {\n",
              "        vertical-align: top;\n",
              "    }\n",
              "\n",
              "    .dataframe thead th {\n",
              "        text-align: right;\n",
              "    }\n",
              "<\/style>\n",
              "<table border=\"1\" class=\"dataframe\">\n",
              "  <thead>\n",
              "    <tr style=\"text-align: right;\">\n",
              "      <th><\/th>\n",
              "      <th>PassengerId<\/th>\n",
              "      <th>Survived<\/th>\n",
              "      <th>Pclass<\/th>\n",
              "      <th>Name<\/th>\n",
              "      <th>Sex<\/th>\n",
              "      <th>Age<\/th>\n",
              "      <th>SibSp<\/th>\n",
              "      <th>Parch<\/th>\n",
              "      <th>Ticket<\/th>\n",
              "      <th>Fare<\/th>\n",
              "      <th>Cabin<\/th>\n",
              "      <th>Embarked<\/th>\n",
              "    <\/tr>\n",
              "  <\/thead>\n",
              "  <tbody>\n",
              "    <tr>\n",
              "      <th>1032<\/th>\n",
              "      <td>1044<\/td>\n",
              "      <td>NaN<\/td>\n",
              "      <td>3<\/td>\n",
              "      <td>Storey, Mr. Thomas<\/td>\n",
              "      <td>male<\/td>\n",
              "      <td>60.5<\/td>\n",
              "      <td>0<\/td>\n",
              "      <td>0<\/td>\n",
              "      <td>3701<\/td>\n",
              "      <td>NaN<\/td>\n",
              "      <td>NaN<\/td>\n",
              "      <td>S<\/td>\n",
              "    <\/tr>\n",
              "  <\/tbody>\n",
              "<\/table>\n",
              "<\/div>"
            ]
          },
          "metadata":{
            
          },
          "output_type":"display_data"
        }
      ],
      "metadata":{
        
      }
    },
    {
      "cell_type":"code",
      "source":[
        "plt.grid()\n",
        "sns.histplot(df[df[\"Pclass\"]==3][\"Fare\"])\n",
        "plt.show()"
      ],
      "execution_count":230,
      "outputs":[
        {
          "data":{
            "image\/png":"[encoded data removed]"
          },
          "metadata":{
            "image\/png":{
              "width":0,
              "height":0
            }
          },
          "output_type":"display_data"
        }
      ],
      "metadata":{
        
      }
    },
    {
      "cell_type":"code",
      "source":[
        "sns.boxplot(df[df[\"Pclass\"]==3][\"Fare\"])"
      ],
      "execution_count":231,
      "outputs":[
        {
          "data":{
            "text\/plain":[
              "<AxesSubplot:xlabel='Fare'>"
            ],
            "image\/png":"[encoded data removed]"
          },
          "metadata":{
            "image\/png":{
              "width":0,
              "height":0
            }
          },
          "output_type":"display_data"
        }
      ],
      "metadata":{
        
      }
    },
    {
      "cell_type":"code",
      "source":[
        "# ücret kısmı eksik olan yulcunun değerlerini kendi ile aynı sınıfta(pclass) yolculuk yapanlara bakarak dolduracağız.\n",
        "df[\"Fare\"] = df[\"Fare\"].fillna(df[df[\"Pclass\"]==3][\"Fare\"].median())"
      ],
      "execution_count":232,
      "outputs":[
        
      ],
      "metadata":{
        
      }
    },
    {
      "cell_type":"code",
      "source":[
        "# Verisetinin hayatta kalmaya göre olan kolerasyonuna bakıyoruz.\n",
        "train_df.corr()['Survived']"
      ],
      "execution_count":233,
      "outputs":[
        {
          "data":{
            "text\/plain":[
              "PassengerId   -0.002040\n",
              "Survived       1.000000\n",
              "Pclass        -0.336097\n",
              "Age           -0.074085\n",
              "SibSp          0.003896\n",
              "Parch          0.093612\n",
              "Fare           0.265561\n",
              "Name: Survived, dtype: float64"
            ]
          },
          "metadata":{
            
          },
          "output_type":"display_data"
        }
      ],
      "metadata":{
        
      }
    },
    {
      "cell_type":"code",
      "source":[
        "# Verdiğimiz kolonların birbirleri arasındaki ilişkiye bakalım.\n",
        "list1 = [\"SibSp\", \"Parch\", \"Age\", \"Sex\", \"Fare\", \"Survived\", \"Pclass\"]\n",
        "plt.figure(figsize=(10,6))\n",
        "sns.heatmap(df[list1].corr(), annot=True, fmt=\".2f\", linecolor=\"w\",linewidths=.5)\n",
        "plt.show()"
      ],
      "execution_count":234,
      "outputs":[
        {
          "data":{
            "image\/png":"[encoded data removed]"
          },
          "metadata":{
            "image\/png":{
              "width":0,
              "height":0
            }
          },
          "output_type":"display_data"
        }
      ],
      "metadata":{
        
      }
    },
    {
      "cell_type":"code",
      "source":[
        "# SipSp vs Survived\n",
        "g = sns.factorplot(x = \"SibSp\", y = \"Survived\", data = df, kind = \"bar\", size= 6)\n",
        "plt.grid()\n",
        "g.set_axis_labels(y_var=\"Survived Probability\",x_var=\"SibSp\")\n",
        "plt.show()"
      ],
      "execution_count":235,
      "outputs":[
        {
          "data":{
            "image\/png":"[encoded data removed]"
          },
          "metadata":{
            "image\/png":{
              "width":0,
              "height":0
            }
          },
          "output_type":"display_data"
        }
      ],
      "metadata":{
        
      }
    },
    {
      "cell_type":"code",
      "source":[
        "# Parch vs Survived\n",
        "g = sns.factorplot(x =\"Parch\", y = \"Survived\", data = df, kind = \"bar\", size= 6)\n",
        "plt.grid()\n",
        "g.set_axis_labels(x_var=\"Parch\", y = \"Survived Probability\")\n",
        "plt.show()"
      ],
      "execution_count":236,
      "outputs":[
        {
          "data":{
            "image\/png":"[encoded data removed]"
          },
          "metadata":{
            "image\/png":{
              "width":0,
              "height":0
            }
          },
          "output_type":"display_data"
        }
      ],
      "metadata":{
        
      }
    },
    {
      "cell_type":"code",
      "source":[
        "# Pclass vs Survived\n",
        "g = sns.factorplot(x = \"Pclass\", y = \"Survived\", data = df, kind = \"bar\", size=6)\n",
        "plt.grid()\n",
        "g.set_axis_labels(x_var=\"Pclass\", y_var = \"Survived Probability\")\n",
        "plt.show()"
      ],
      "execution_count":237,
      "outputs":[
        {
          "data":{
            "image\/png":"[encoded data removed]"
          },
          "metadata":{
            "image\/png":{
              "width":0,
              "height":0
            }
          },
          "output_type":"display_data"
        }
      ],
      "metadata":{
        
      }
    },
    {
      "cell_type":"code",
      "source":[
        "# Age vs Survived\n",
        "g = sns.FacetGrid(df, col=\"Survived\",size=6)\n",
        "g.map(sns.histplot, \"Age\")\n",
        "plt.show()"
      ],
      "execution_count":238,
      "outputs":[
        {
          "data":{
            "image\/png":"[encoded data removed]"
          },
          "metadata":{
            "image\/png":{
              "width":0,
              "height":0
            }
          },
          "output_type":"display_data"
        }
      ],
      "metadata":{
        
      }
    },
    {
      "cell_type":"code",
      "source":[
        "# Pclass, Age vs Survived\n",
        "g = sns.FacetGrid(df, col= \"Survived\", row= \"Pclass\", size = 3)\n",
        "g.map(sns.histplot, \"Age\")\n",
        "g.add_legend()\n",
        "plt.show()"
      ],
      "execution_count":239,
      "outputs":[
        {
          "data":{
            "image\/png":"[encoded data removed]"
          },
          "metadata":{
            "image\/png":{
              "width":0,
              "height":0
            }
          },
          "output_type":"display_data"
        }
      ],
      "metadata":{
        
      }
    },
    {
      "cell_type":"code",
      "source":[
        "# Embark, Sex, Pclass vs Survived\n",
        "g = sns.FacetGrid(df, row= \"Embarked\", size=6)\n",
        "g.map(sns.pointplot, \"Pclass\", \"Survived\", \"Sex\")\n",
        "g.add_legend()\n",
        "plt.show()"
      ],
      "execution_count":240,
      "outputs":[
        {
          "data":{
            "image\/png":"[encoded data removed]"
          },
          "metadata":{
            "image\/png":{
              "width":0,
              "height":0
            }
          },
          "output_type":"display_data"
        }
      ],
      "metadata":{
        
      }
    },
    {
      "cell_type":"code",
      "source":[
        "# Embark, Sex, Fare vs Survived\n",
        "g = sns.FacetGrid(df, row= \"Embarked\", col= \"Survived\", size=3.5)\n",
        "g.map(sns.barplot, \"Sex\", \"Fare\")\n",
        "plt.show()"
      ],
      "execution_count":241,
      "outputs":[
        {
          "data":{
            "image\/png":"[encoded data removed]"
          },
          "metadata":{
            "image\/png":{
              "width":0,
              "height":0
            }
          },
          "output_type":"display_data"
        }
      ],
      "metadata":{
        
      }
    },
    {
      "cell_type":"code",
      "source":[
        "# Age\n",
        "df[df[\"Age\"].isnull()]"
      ],
      "execution_count":242,
      "outputs":[
        {
          "data":{
            "text\/html":[
              "<div>\n",
              "<style scoped>\n",
              "    .dataframe tbody tr th:only-of-type {\n",
              "        vertical-align: middle;\n",
              "    }\n",
              "\n",
              "    .dataframe tbody tr th {\n",
              "        vertical-align: top;\n",
              "    }\n",
              "\n",
              "    .dataframe thead th {\n",
              "        text-align: right;\n",
              "    }\n",
              "<\/style>\n",
              "<table border=\"1\" class=\"dataframe\">\n",
              "  <thead>\n",
              "    <tr style=\"text-align: right;\">\n",
              "      <th><\/th>\n",
              "      <th>PassengerId<\/th>\n",
              "      <th>Survived<\/th>\n",
              "      <th>Pclass<\/th>\n",
              "      <th>Name<\/th>\n",
              "      <th>Sex<\/th>\n",
              "      <th>Age<\/th>\n",
              "      <th>SibSp<\/th>\n",
              "      <th>Parch<\/th>\n",
              "      <th>Ticket<\/th>\n",
              "      <th>Fare<\/th>\n",
              "      <th>Cabin<\/th>\n",
              "      <th>Embarked<\/th>\n",
              "    <\/tr>\n",
              "  <\/thead>\n",
              "  <tbody>\n",
              "    <tr>\n",
              "      <th>5<\/th>\n",
              "      <td>6<\/td>\n",
              "      <td>0.0<\/td>\n",
              "      <td>3<\/td>\n",
              "      <td>Moran, Mr. James<\/td>\n",
              "      <td>male<\/td>\n",
              "      <td>NaN<\/td>\n",
              "      <td>0<\/td>\n",
              "      <td>0<\/td>\n",
              "      <td>330877<\/td>\n",
              "      <td>8.4583<\/td>\n",
              "      <td>NaN<\/td>\n",
              "      <td>Q<\/td>\n",
              "    <\/tr>\n",
              "    <tr>\n",
              "      <th>17<\/th>\n",
              "      <td>18<\/td>\n",
              "      <td>1.0<\/td>\n",
              "      <td>2<\/td>\n",
              "      <td>Williams, Mr. Charles Eugene<\/td>\n",
              "      <td>male<\/td>\n",
              "      <td>NaN<\/td>\n",
              "      <td>0<\/td>\n",
              "      <td>0<\/td>\n",
              "      <td>244373<\/td>\n",
              "      <td>13.0000<\/td>\n",
              "      <td>NaN<\/td>\n",
              "      <td>S<\/td>\n",
              "    <\/tr>\n",
              "    <tr>\n",
              "      <th>19<\/th>\n",
              "      <td>20<\/td>\n",
              "      <td>1.0<\/td>\n",
              "      <td>3<\/td>\n",
              "      <td>Masselmani, Mrs. Fatima<\/td>\n",
              "      <td>female<\/td>\n",
              "      <td>NaN<\/td>\n",
              "      <td>0<\/td>\n",
              "      <td>0<\/td>\n",
              "      <td>2649<\/td>\n",
              "      <td>7.2250<\/td>\n",
              "      <td>NaN<\/td>\n",
              "      <td>C<\/td>\n",
              "    <\/tr>\n",
              "    <tr>\n",
              "      <th>26<\/th>\n",
              "      <td>27<\/td>\n",
              "      <td>0.0<\/td>\n",
              "      <td>3<\/td>\n",
              "      <td>Emir, Mr. Farred Chehab<\/td>\n",
              "      <td>male<\/td>\n",
              "      <td>NaN<\/td>\n",
              "      <td>0<\/td>\n",
              "      <td>0<\/td>\n",
              "      <td>2631<\/td>\n",
              "      <td>7.2250<\/td>\n",
              "      <td>NaN<\/td>\n",
              "      <td>C<\/td>\n",
              "    <\/tr>\n",
              "    <tr>\n",
              "      <th>27<\/th>\n",
              "      <td>29<\/td>\n",
              "      <td>1.0<\/td>\n",
              "      <td>3<\/td>\n",
              "      <td>O'Dwyer, Miss. Ellen \"Nellie\"<\/td>\n",
              "      <td>female<\/td>\n",
              "      <td>NaN<\/td>\n",
              "      <td>0<\/td>\n",
              "      <td>0<\/td>\n",
              "      <td>330959<\/td>\n",
              "      <td>7.8792<\/td>\n",
              "      <td>NaN<\/td>\n",
              "      <td>Q<\/td>\n",
              "    <\/tr>\n",
              "    <tr>\n",
              "      <th>...<\/th>\n",
              "      <td>...<\/td>\n",
              "      <td>...<\/td>\n",
              "      <td>...<\/td>\n",
              "      <td>...<\/td>\n",
              "      <td>...<\/td>\n",
              "      <td>...<\/td>\n",
              "      <td>...<\/td>\n",
              "      <td>...<\/td>\n",
              "      <td>...<\/td>\n",
              "      <td>...<\/td>\n",
              "      <td>...<\/td>\n",
              "      <td>...<\/td>\n",
              "    <\/tr>\n",
              "    <tr>\n",
              "      <th>1288<\/th>\n",
              "      <td>1300<\/td>\n",
              "      <td>NaN<\/td>\n",
              "      <td>3<\/td>\n",
              "      <td>Riordan, Miss. Johanna Hannah\"\"<\/td>\n",
              "      <td>female<\/td>\n",
              "      <td>NaN<\/td>\n",
              "      <td>0<\/td>\n",
              "      <td>0<\/td>\n",
              "      <td>334915<\/td>\n",
              "      <td>7.7208<\/td>\n",
              "      <td>NaN<\/td>\n",
              "      <td>Q<\/td>\n",
              "    <\/tr>\n",
              "    <tr>\n",
              "      <th>1290<\/th>\n",
              "      <td>1302<\/td>\n",
              "      <td>NaN<\/td>\n",
              "      <td>3<\/td>\n",
              "      <td>Naughton, Miss. Hannah<\/td>\n",
              "      <td>female<\/td>\n",
              "      <td>NaN<\/td>\n",
              "      <td>0<\/td>\n",
              "      <td>0<\/td>\n",
              "      <td>365237<\/td>\n",
              "      <td>7.7500<\/td>\n",
              "      <td>NaN<\/td>\n",
              "      <td>Q<\/td>\n",
              "    <\/tr>\n",
              "    <tr>\n",
              "      <th>1293<\/th>\n",
              "      <td>1305<\/td>\n",
              "      <td>NaN<\/td>\n",
              "      <td>3<\/td>\n",
              "      <td>Spector, Mr. Woolf<\/td>\n",
              "      <td>male<\/td>\n",
              "      <td>NaN<\/td>\n",
              "      <td>0<\/td>\n",
              "      <td>0<\/td>\n",
              "      <td>A.5. 3236<\/td>\n",
              "      <td>8.0500<\/td>\n",
              "      <td>NaN<\/td>\n",
              "      <td>S<\/td>\n",
              "    <\/tr>\n",
              "    <tr>\n",
              "      <th>1296<\/th>\n",
              "      <td>1308<\/td>\n",
              "      <td>NaN<\/td>\n",
              "      <td>3<\/td>\n",
              "      <td>Ware, Mr. Frederick<\/td>\n",
              "      <td>male<\/td>\n",
              "      <td>NaN<\/td>\n",
              "      <td>0<\/td>\n",
              "      <td>0<\/td>\n",
              "      <td>359309<\/td>\n",
              "      <td>8.0500<\/td>\n",
              "      <td>NaN<\/td>\n",
              "      <td>S<\/td>\n",
              "    <\/tr>\n",
              "    <tr>\n",
              "      <th>1297<\/th>\n",
              "      <td>1309<\/td>\n",
              "      <td>NaN<\/td>\n",
              "      <td>3<\/td>\n",
              "      <td>Peter, Master. Michael J<\/td>\n",
              "      <td>male<\/td>\n",
              "      <td>NaN<\/td>\n",
              "      <td>1<\/td>\n",
              "      <td>1<\/td>\n",
              "      <td>2668<\/td>\n",
              "      <td>22.3583<\/td>\n",
              "      <td>NaN<\/td>\n",
              "      <td>C<\/td>\n",
              "    <\/tr>\n",
              "  <\/tbody>\n",
              "<\/table>\n",
              "<p>256 rows × 12 columns<\/p>\n",
              "<\/div>"
            ]
          },
          "metadata":{
            
          },
          "output_type":"display_data"
        }
      ],
      "metadata":{
        
      }
    },
    {
      "cell_type":"code",
      "source":[
        "# Bu grafiğe bakarsak yaşları eksik olan yolcuların yaşlarını tahmin etmek cinsiyiti kullanamayız. Çünkü yaşlar yaklaşık cinsiyetlere göre eşit dağılımlı\n",
        "sns.factorplot(x = \"Sex\", y = \"Age\", data = df, kind = \"box\")\n",
        "plt.show()"
      ],
      "execution_count":243,
      "outputs":[
        {
          "data":{
            "image\/png":"[encoded data removed]"
          },
          "metadata":{
            "image\/png":{
              "width":0,
              "height":0
            }
          },
          "output_type":"display_data"
        }
      ],
      "metadata":{
        
      }
    },
    {
      "cell_type":"code",
      "source":[
        "sns.factorplot(x = \"Sex\", y = \"Age\", hue = \"Pclass\", data = df, kind = \"box\")\n",
        "plt.grid()\n",
        "plt.show()"
      ],
      "execution_count":244,
      "outputs":[
        {
          "data":{
            "image\/png":"[encoded data removed]"
          },
          "metadata":{
            "image\/png":{
              "width":0,
              "height":0
            }
          },
          "output_type":"display_data"
        }
      ],
      "metadata":{
        
      }
    },
    {
      "cell_type":"code",
      "source":[
        "sns.factorplot(x = \"Parch\", y = \"Age\", data = df, kind = \"box\")\n",
        "sns.factorplot(x = \"SibSp\", y = \"Age\", data = df, kind = \"box\")\n",
        "plt.show()"
      ],
      "execution_count":245,
      "outputs":[
        {
          "data":{
            "image\/png":"[encoded data removed]"
          },
          "metadata":{
            "image\/png":{
              "width":0,
              "height":0
            }
          },
          "output_type":"display_data"
        }
      ],
      "metadata":{
        
      }
    },
    {
      "cell_type":"code",
      "source":[
        "# Kategorik değişken olan cinsiyeti numerik değişkene çevirelim.\n",
        "sex = []\n",
        "for i in df[\"Sex\"]:\n",
        "    if i == \"male\":\n",
        "        sex.append(1)\n",
        "    else:\n",
        "        sex.append(0)"
      ],
      "execution_count":246,
      "outputs":[
        
      ],
      "metadata":{
        
      }
    },
    {
      "cell_type":"code",
      "source":[
        "# Eski cinsiyet sutununu yeni numerik yaptığımız sutun ile değiştirelim.\n",
        "df.drop([\"Sex\"], axis=1, inplace=True)"
      ],
      "execution_count":247,
      "outputs":[
        
      ],
      "metadata":{
        
      }
    },
    {
      "cell_type":"code",
      "source":[
        "df[\"Sex\"] = sex"
      ],
      "execution_count":248,
      "outputs":[
        
      ],
      "metadata":{
        
      }
    },
    {
      "cell_type":"code",
      "source":[
        "sns.heatmap(df[[\"Age\",\"SibSp\",\"Parch\",\"Sex\",\"Pclass\"]].corr(), annot=True, linewidths=.2, linecolor=\"w\", fmt=\".1f\")\n",
        "plt.show()"
      ],
      "execution_count":249,
      "outputs":[
        {
          "data":{
            "image\/png":"[encoded data removed]"
          },
          "metadata":{
            "image\/png":{
              "width":0,
              "height":0
            }
          },
          "output_type":"display_data"
        }
      ],
      "metadata":{
        
      }
    },
    {
      "cell_type":"code",
      "source":[
        "# Age"
      ],
      "execution_count":250,
      "outputs":[
        
      ],
      "metadata":{
        
      }
    },
    {
      "cell_type":"code",
      "source":[
        "# Yaş ile ilişkili olan özellikleri koşul oluşturarak dolduralım.\n",
        "index_nan_age =list(df[\"Age\"][df[\"Age\"].isnull()].index)\n",
        "for i in index_nan_age:\n",
        "    age_pred = df[\"Age\"][((df[\"SibSp\"]==df.iloc[i][\"SibSp\"]) & (df[\"Parch\"]==df.iloc[i][\"Parch\"]) & (df[\"Pclass\"]==df.iloc[i][\"Pclass\"]))].median()\n",
        "    if not np.isnan(age_pred):\n",
        "        df[\"Age\"].iloc[i] = age_pred"
      ],
      "execution_count":251,
      "outputs":[
        
      ],
      "metadata":{
        
      }
    },
    {
      "cell_type":"code",
      "source":[
        "# iki hala gözlem eksik onları da yaşın genel median(ortanca değer) ile dolduralım.\n",
        "df[\"Age\"][df[\"Age\"].isnull()]"
      ],
      "execution_count":252,
      "outputs":[
        {
          "data":{
            "text\/plain":[
              "1222   NaN\n",
              "1245   NaN\n",
              "Name: Age, dtype: float64"
            ]
          },
          "metadata":{
            
          },
          "output_type":"display_data"
        }
      ],
      "metadata":{
        
      }
    },
    {
      "cell_type":"code",
      "source":[
        "df[\"Age\"] = df[\"Age\"].fillna(df[\"Age\"].median())"
      ],
      "execution_count":253,
      "outputs":[
        
      ],
      "metadata":{
        
      }
    },
    {
      "cell_type":"code",
      "source":[
        "'''\n",
        "Feature Engineering\n",
        "\n",
        "Name sutunundan ünvan kısımlarını çıkarıp tahminleme için kullanalım.\n",
        "Name & Title\n",
        "'''\n",
        "title = []\n",
        "name = df[\"Name\"]\n",
        "for i in name:\n",
        "    title.append(i.split(\".\")[0].split(\",\")[-1].strip())"
      ],
      "execution_count":254,
      "outputs":[
        
      ],
      "metadata":{
        
      }
    },
    {
      "cell_type":"code",
      "source":[
        "df[\"Title\"] = title"
      ],
      "execution_count":255,
      "outputs":[
        
      ],
      "metadata":{
        
      }
    },
    {
      "cell_type":"code",
      "source":[
        "plt.figure(figsize=(16,4))\n",
        "sns.countplot(x = \"Title\", data=df)\n",
        "plt.xticks(rotation = 60)\n",
        "plt.show()"
      ],
      "execution_count":256,
      "outputs":[
        {
          "data":{
            "image\/png":"[encoded data removed]"
          },
          "metadata":{
            "image\/png":{
              "width":0,
              "height":0
            }
          },
          "output_type":"display_data"
        }
      ],
      "metadata":{
        
      }
    },
    {
      "cell_type":"code",
      "source":[
        "unvan = df[\"Title\"].copy()"
      ],
      "execution_count":257,
      "outputs":[
        
      ],
      "metadata":{
        
      }
    },
    {
      "cell_type":"code",
      "source":[
        "# elde ettiğimiz ünvanları halk, rütbeliler ve soylular olarak 3 kategorik değişkene indirgeyelim.\n",
        "for i,j in enumerate(unvan):\n",
        "    if j == 'Mme' or j == 'Mlle' or j == 'Mrs' or j == 'Ms' or j == 'Miss' or j == 'Mr' :\n",
        "        unvan[i]= 'Folk'\n",
        "    \n",
        "    elif j == 'Major' or j == 'Dr' or j == 'Capt' or j == 'Col' or j == 'Rev' or j == 'Master':\n",
        "        unvan[i] = 'Ranked'\n",
        "    elif j == 'Lady' or j == 'Don' or j == 'Dona' or j == 'the Countess' or j == 'Sir' or j == 'Jonkheer':\n",
        "        unvan[i] = 'Royalyty'"
      ],
      "execution_count":258,
      "outputs":[
        
      ],
      "metadata":{
        
      }
    },
    {
      "cell_type":"code",
      "source":[
        "unvan"
      ],
      "execution_count":259,
      "outputs":[
        {
          "data":{
            "text\/plain":[
              "0           Folk\n",
              "1           Folk\n",
              "2           Folk\n",
              "3           Folk\n",
              "4           Folk\n",
              "          ...   \n",
              "1293        Folk\n",
              "1294    Royalyty\n",
              "1295        Folk\n",
              "1296        Folk\n",
              "1297      Ranked\n",
              "Name: Title, Length: 1298, dtype: object"
            ]
          },
          "metadata":{
            
          },
          "output_type":"display_data"
        }
      ],
      "metadata":{
        
      }
    },
    {
      "cell_type":"code",
      "source":[
        "df[\"Title\"]=unvan"
      ],
      "execution_count":260,
      "outputs":[
        
      ],
      "metadata":{
        
      }
    },
    {
      "cell_type":"code",
      "source":[
        "# Bu grafikten de anlaşılacağı gibi toplumdaki statüsü yüksek olanların kurtulma şansı daha fazla\n",
        "g = sns.factorplot(x = \"Title\", y = \"Survived\", data = df, kind = \"bar\")\n",
        "plt.show()"
      ],
      "execution_count":261,
      "outputs":[
        {
          "data":{
            "image\/png":"[encoded data removed]"
          },
          "metadata":{
            "image\/png":{
              "width":0,
              "height":0
            }
          },
          "output_type":"display_data"
        }
      ],
      "metadata":{
        
      }
    },
    {
      "cell_type":"code",
      "source":[
        "# Family\n",
        "# \"SibSp\" + \"Parch\" aileyle ilişkili olduğu için tek bir yeni özellik çıkaralım\n",
        "df[\"Family\"] = df[\"SibSp\"] + df[\"Parch\"] + 1"
      ],
      "execution_count":262,
      "outputs":[
        
      ],
      "metadata":{
        
      }
    },
    {
      "cell_type":"code",
      "source":[
        "g = sns.factorplot(x = \"Family\", y = \"Survived\", data = df, kind = \"bar\")\n",
        "plt.show()"
      ],
      "execution_count":263,
      "outputs":[
        {
          "data":{
            "image\/png":"[encoded data removed]"
          },
          "metadata":{
            "image\/png":{
              "width":0,
              "height":0
            }
          },
          "output_type":"display_data"
        }
      ],
      "metadata":{
        
      }
    },
    {
      "cell_type":"code",
      "source":[
        "# ailenin büyüklüğüne göre yeni bir feature çıkaralım\n",
        "family_size = []\n",
        "for i in df[\"Family\"]:\n",
        "    if i == 1:\n",
        "       family_size.append(\"Alone\")\n",
        "    elif 1<i<5:\n",
        "        family_size.append(\"Small Family\")\n",
        "    else:\n",
        "        family_size.append(\"Big Family\")"
      ],
      "execution_count":264,
      "outputs":[
        
      ],
      "metadata":{
        
      }
    },
    {
      "cell_type":"code",
      "source":[
        "df[\"Family Size\"] = family_size"
      ],
      "execution_count":265,
      "outputs":[
        
      ],
      "metadata":{
        
      }
    },
    {
      "cell_type":"code",
      "source":[
        "sns.countplot(df[\"Family Size\"])\n",
        "plt.show()"
      ],
      "execution_count":266,
      "outputs":[
        {
          "data":{
            "image\/png":"[encoded data removed]"
          },
          "metadata":{
            "image\/png":{
              "width":0,
              "height":0
            }
          },
          "output_type":"display_data"
        }
      ],
      "metadata":{
        
      }
    },
    {
      "cell_type":"code",
      "source":[
        "g = sns.factorplot(x = \"Family Size\", y = \"Survived\", data = df, kind = \"bar\")\n",
        "plt.show()"
      ],
      "execution_count":267,
      "outputs":[
        {
          "data":{
            "image\/png":"[encoded data removed]"
          },
          "metadata":{
            "image\/png":{
              "width":0,
              "height":0
            }
          },
          "output_type":"display_data"
        }
      ],
      "metadata":{
        
      }
    },
    {
      "cell_type":"code",
      "source":[
        "# Family size ile yeni dummy variables oluşturalım.\n",
        "df = pd.get_dummies(df, columns=[\"Family Size\"])"
      ],
      "execution_count":268,
      "outputs":[
        
      ],
      "metadata":{
        
      }
    },
    {
      "cell_type":"code",
      "source":[
        "sns.countplot(df.Embarked)\n",
        "plt.show()"
      ],
      "execution_count":269,
      "outputs":[
        {
          "data":{
            "image\/png":"[encoded data removed]"
          },
          "metadata":{
            "image\/png":{
              "width":0,
              "height":0
            }
          },
          "output_type":"display_data"
        }
      ],
      "metadata":{
        
      }
    },
    {
      "cell_type":"code",
      "source":[
        "# Embarked\n",
        "g = sns.factorplot(x = \"Embarked\", y = \"Survived\", data = df, kind = \"bar\")\n",
        "plt.show()"
      ],
      "execution_count":270,
      "outputs":[
        {
          "data":{
            "image\/png":"[encoded data removed]"
          },
          "metadata":{
            "image\/png":{
              "width":0,
              "height":0
            }
          },
          "output_type":"display_data"
        }
      ],
      "metadata":{
        
      }
    },
    {
      "cell_type":"code",
      "source":[
        "# Biniş yerini de Dummy variabes oluşturalım.\n",
        "df = pd.get_dummies(df, columns= [\"Embarked\"])"
      ],
      "execution_count":271,
      "outputs":[
        
      ],
      "metadata":{
        
      }
    },
    {
      "cell_type":"code",
      "source":[
        "# Ticket\n",
        "df[\"Ticket\"].head(20)"
      ],
      "execution_count":272,
      "outputs":[
        {
          "data":{
            "text\/plain":[
              "0            A\/5 21171\n",
              "1             PC 17599\n",
              "2     STON\/O2. 3101282\n",
              "3               113803\n",
              "4               373450\n",
              "5               330877\n",
              "6                17463\n",
              "7               349909\n",
              "8               347742\n",
              "9               237736\n",
              "10             PP 9549\n",
              "11              113783\n",
              "12           A\/5. 2151\n",
              "13              347082\n",
              "14              350406\n",
              "15              248706\n",
              "16              382652\n",
              "17              244373\n",
              "18              345763\n",
              "19                2649\n",
              "Name: Ticket, dtype: object"
            ]
          },
          "metadata":{
            
          },
          "output_type":"display_data"
        }
      ],
      "metadata":{
        
      }
    },
    {
      "cell_type":"code",
      "source":[
        "# Biletden de yeni feature extraction yapalım.\n",
        "tickets = []\n",
        "for i in list(df[\"Ticket\"]):\n",
        "    if not i.isdigit():\n",
        "        tickets.append(i.replace(\".\", \"\").replace(\"\/\",\"\").strip().split()[0])\n",
        "    else:\n",
        "        tickets.append(\"x\")"
      ],
      "execution_count":273,
      "outputs":[
        
      ],
      "metadata":{
        
      }
    },
    {
      "cell_type":"code",
      "source":[
        "plt.figure(figsize=(16,3))\n",
        "sns.countplot(tickets)\n",
        "plt.xticks(rotation = 60)\n",
        "plt.show()"
      ],
      "execution_count":274,
      "outputs":[
        {
          "data":{
            "image\/png":"[encoded data removed]"
          },
          "metadata":{
            "image\/png":{
              "width":0,
              "height":0
            }
          },
          "output_type":"display_data"
        }
      ],
      "metadata":{
        
      }
    },
    {
      "cell_type":"code",
      "source":[
        "df[\"Tic\"] = tickets\n",
        "sns.factorplot(x=\"Tic\", y = \"Survived\", data = df, kind =\"bar\",size=9)\n",
        "plt.xticks(rotation = 70)\n",
        "plt.show()"
      ],
      "execution_count":275,
      "outputs":[
        {
          "data":{
            "image\/png":"[encoded data removed]"
          },
          "metadata":{
            "image\/png":{
              "width":0,
              "height":0
            }
          },
          "output_type":"display_data"
        }
      ],
      "metadata":{
        
      }
    },
    {
      "cell_type":"code",
      "source":[
        "'''\n",
        "Sklearn ile de isterseniz bu şekilde label enncoding yapabiliriz.\n",
        "from sklearn import preprocessing \n",
        "label = preprocessing.LabelEncoder() \n",
        "df['Tic']= label.fit_transform(df['Tic'])\n",
        "'''"
      ],
      "execution_count":276,
      "outputs":[
        {
          "data":{
            "text\/plain":[
              "\"\\nSklearn ile de isterseniz bu şekilde label enncoding yapabiliriz.\\nfrom sklearn import preprocessing \\nlabel = preprocessing.LabelEncoder() \\ndf['Tic']= label.fit_transform(df['Tic'])\\n\""
            ]
          },
          "metadata":{
            
          },
          "output_type":"display_data"
        }
      ],
      "metadata":{
        
      }
    },
    {
      "cell_type":"code",
      "source":[
        "df = pd.get_dummies(df, columns=['Tic'])"
      ],
      "execution_count":277,
      "outputs":[
        
      ],
      "metadata":{
        
      }
    },
    {
      "cell_type":"code",
      "source":[
        "# Pclass\n",
        "df = pd.get_dummies(df, columns=[\"Pclass\"])"
      ],
      "execution_count":278,
      "outputs":[
        
      ],
      "metadata":{
        
      }
    },
    {
      "cell_type":"code",
      "source":[
        "from sklearn.model_selection import train_test_split, StratifiedKFold, GridSearchCV, cross_val_score\n",
        "from sklearn.linear_model import LogisticRegression\n",
        "from sklearn.svm import SVC\n",
        "from sklearn.ensemble import VotingClassifier, RandomForestClassifier\n",
        "from sklearn.neighbors import KNeighborsClassifier\n",
        "from sklearn.tree import DecisionTreeClassifier\n",
        "from xgboost import XGBClassifier\n",
        "import lightgbm as lgb\n",
        "from sklearn.metrics import accuracy_score"
      ],
      "execution_count":279,
      "outputs":[
        
      ],
      "metadata":{
        
      }
    },
    {
      "cell_type":"code",
      "source":[
        "# Ordinal Encoding\n",
        "ordinal_Encoding = {'Folk': 1, 'Ranked': 2, 'Royalyty': 3}\n",
        "df[\"Title\"] = df[\"Title\"].map(ordinal_Encoding)"
      ],
      "execution_count":280,
      "outputs":[
        
      ],
      "metadata":{
        
      }
    },
    {
      "cell_type":"code",
      "source":[
        "train_df_len"
      ],
      "execution_count":281,
      "outputs":[
        {
          "data":{
            "text\/plain":[
              "880"
            ]
          },
          "metadata":{
            
          },
          "output_type":"display_data"
        }
      ],
      "metadata":{
        
      }
    },
    {
      "cell_type":"code",
      "source":[
        "test = df[train_df_len :]\n",
        "test.drop(labels = [\"Survived\"], axis= 1, inplace=True)\n",
        "train = df[:train_df_len]\n",
        "x_train = train.drop(labels=[\"PassengerId\", \"Cabin\", \"Survived\", \"Name\", \"Ticket\", \"Family\"], axis=1)\n",
        "y_train = train[\"Survived\"]\n",
        "x_train, x_test, y_train, y_test = train_test_split(x_train, y_train, test_size=.30, random_state=15)\n",
        "print(\"x_train\" , len(x_train))\n",
        "print(\"x_test\" , len(x_test))\n",
        "print(\"y_train\" , len(y_train))\n",
        "print(\"y_test\" , len(y_test))\n",
        "print(\"test\" , len(test))"
      ],
      "execution_count":309,
      "outputs":[
        {
          "name":"stdout",
          "text":[
            "x_train 616\n",
            "x_test 264\n",
            "y_train 616\n",
            "y_test 264\n",
            "test 418\n"
          ],
          "output_type":"stream"
        }
      ],
      "metadata":{
        
      }
    },
    {
      "cell_type":"code",
      "source":[
        "# Şimdi verimiz makine öğrenmesi modeline vermeye hazır hale geldi.\n",
        "x_train.head()"
      ],
      "execution_count":310,
      "outputs":[
        {
          "data":{
            "text\/html":[
              "<div>\n",
              "<style scoped>\n",
              "    .dataframe tbody tr th:only-of-type {\n",
              "        vertical-align: middle;\n",
              "    }\n",
              "\n",
              "    .dataframe tbody tr th {\n",
              "        vertical-align: top;\n",
              "    }\n",
              "\n",
              "    .dataframe thead th {\n",
              "        text-align: right;\n",
              "    }\n",
              "<\/style>\n",
              "<table border=\"1\" class=\"dataframe\">\n",
              "  <thead>\n",
              "    <tr style=\"text-align: right;\">\n",
              "      <th><\/th>\n",
              "      <th>Age<\/th>\n",
              "      <th>SibSp<\/th>\n",
              "      <th>Parch<\/th>\n",
              "      <th>Fare<\/th>\n",
              "      <th>Sex<\/th>\n",
              "      <th>Title<\/th>\n",
              "      <th>Family Size_Alone<\/th>\n",
              "      <th>Family Size_Big Family<\/th>\n",
              "      <th>Family Size_Small Family<\/th>\n",
              "      <th>Embarked_C<\/th>\n",
              "      <th>...<\/th>\n",
              "      <th>Tic_STONO<\/th>\n",
              "      <th>Tic_STONO2<\/th>\n",
              "      <th>Tic_STONOQ<\/th>\n",
              "      <th>Tic_SWPP<\/th>\n",
              "      <th>Tic_WC<\/th>\n",
              "      <th>Tic_WEP<\/th>\n",
              "      <th>Tic_x<\/th>\n",
              "      <th>Pclass_1<\/th>\n",
              "      <th>Pclass_2<\/th>\n",
              "      <th>Pclass_3<\/th>\n",
              "    <\/tr>\n",
              "  <\/thead>\n",
              "  <tbody>\n",
              "    <tr>\n",
              "      <th>796<\/th>\n",
              "      <td>31.0<\/td>\n",
              "      <td>0<\/td>\n",
              "      <td>0<\/td>\n",
              "      <td>7.7750<\/td>\n",
              "      <td>1<\/td>\n",
              "      <td>1<\/td>\n",
              "      <td>1<\/td>\n",
              "      <td>0<\/td>\n",
              "      <td>0<\/td>\n",
              "      <td>0<\/td>\n",
              "      <td>...<\/td>\n",
              "      <td>0<\/td>\n",
              "      <td>0<\/td>\n",
              "      <td>0<\/td>\n",
              "      <td>0<\/td>\n",
              "      <td>0<\/td>\n",
              "      <td>0<\/td>\n",
              "      <td>1<\/td>\n",
              "      <td>0<\/td>\n",
              "      <td>0<\/td>\n",
              "      <td>1<\/td>\n",
              "    <\/tr>\n",
              "    <tr>\n",
              "      <th>494<\/th>\n",
              "      <td>21.0<\/td>\n",
              "      <td>0<\/td>\n",
              "      <td>0<\/td>\n",
              "      <td>7.7500<\/td>\n",
              "      <td>0<\/td>\n",
              "      <td>1<\/td>\n",
              "      <td>1<\/td>\n",
              "      <td>0<\/td>\n",
              "      <td>0<\/td>\n",
              "      <td>0<\/td>\n",
              "      <td>...<\/td>\n",
              "      <td>0<\/td>\n",
              "      <td>0<\/td>\n",
              "      <td>0<\/td>\n",
              "      <td>0<\/td>\n",
              "      <td>0<\/td>\n",
              "      <td>0<\/td>\n",
              "      <td>1<\/td>\n",
              "      <td>0<\/td>\n",
              "      <td>0<\/td>\n",
              "      <td>1<\/td>\n",
              "    <\/tr>\n",
              "    <tr>\n",
              "      <th>754<\/th>\n",
              "      <td>20.0<\/td>\n",
              "      <td>0<\/td>\n",
              "      <td>0<\/td>\n",
              "      <td>7.2292<\/td>\n",
              "      <td>1<\/td>\n",
              "      <td>1<\/td>\n",
              "      <td>1<\/td>\n",
              "      <td>0<\/td>\n",
              "      <td>0<\/td>\n",
              "      <td>1<\/td>\n",
              "      <td>...<\/td>\n",
              "      <td>0<\/td>\n",
              "      <td>0<\/td>\n",
              "      <td>0<\/td>\n",
              "      <td>0<\/td>\n",
              "      <td>0<\/td>\n",
              "      <td>0<\/td>\n",
              "      <td>1<\/td>\n",
              "      <td>0<\/td>\n",
              "      <td>0<\/td>\n",
              "      <td>1<\/td>\n",
              "    <\/tr>\n",
              "    <tr>\n",
              "      <th>643<\/th>\n",
              "      <td>25.0<\/td>\n",
              "      <td>0<\/td>\n",
              "      <td>0<\/td>\n",
              "      <td>7.8958<\/td>\n",
              "      <td>1<\/td>\n",
              "      <td>1<\/td>\n",
              "      <td>1<\/td>\n",
              "      <td>0<\/td>\n",
              "      <td>0<\/td>\n",
              "      <td>0<\/td>\n",
              "      <td>...<\/td>\n",
              "      <td>0<\/td>\n",
              "      <td>0<\/td>\n",
              "      <td>0<\/td>\n",
              "      <td>0<\/td>\n",
              "      <td>0<\/td>\n",
              "      <td>0<\/td>\n",
              "      <td>1<\/td>\n",
              "      <td>0<\/td>\n",
              "      <td>0<\/td>\n",
              "      <td>1<\/td>\n",
              "    <\/tr>\n",
              "    <tr>\n",
              "      <th>588<\/th>\n",
              "      <td>36.0<\/td>\n",
              "      <td>1<\/td>\n",
              "      <td>1<\/td>\n",
              "      <td>24.1500<\/td>\n",
              "      <td>1<\/td>\n",
              "      <td>1<\/td>\n",
              "      <td>0<\/td>\n",
              "      <td>0<\/td>\n",
              "      <td>1<\/td>\n",
              "      <td>0<\/td>\n",
              "      <td>...<\/td>\n",
              "      <td>0<\/td>\n",
              "      <td>0<\/td>\n",
              "      <td>0<\/td>\n",
              "      <td>0<\/td>\n",
              "      <td>0<\/td>\n",
              "      <td>0<\/td>\n",
              "      <td>1<\/td>\n",
              "      <td>0<\/td>\n",
              "      <td>0<\/td>\n",
              "      <td>1<\/td>\n",
              "    <\/tr>\n",
              "  <\/tbody>\n",
              "<\/table>\n",
              "<p>5 rows × 52 columns<\/p>\n",
              "<\/div>"
            ]
          },
          "metadata":{
            
          },
          "output_type":"display_data"
        }
      ],
      "metadata":{
        
      }
    },
    {
      "cell_type":"code",
      "source":[
        "# CatBoostCalssifier modelimiz ile train ve test verimizin doğruluk oranına bakalım\n",
        "from catboost import CatBoostClassifier\n",
        "cat_model=CatBoostClassifier()\n",
        "cat_model.fit(x_train, y_train)\n",
        "acc_cat_train = cat_model.score(x_train, y_train)\n",
        "acc_cat_test = cat_model.score(x_test, y_test)\n",
        "print(\"train_acc\", acc_cat_train) # train verisinin doğruluk olanı\n",
        "print(\"test_acc\", acc_cat_test) # test verisinin doğruluk olanı"
      ],
      "execution_count":284,
      "outputs":[
        {
          "name":"stdout",
          "text":[
            "Learning rate set to 0.008377\n",
            "0:\tlearn: 0.6885072\ttotal: 1.74ms\tremaining: 1.74s\n",
            "1:\tlearn: 0.6841998\ttotal: 3.45ms\tremaining: 1.72s\n",
            "2:\tlearn: 0.6789286\ttotal: 5.05ms\tremaining: 1.68s\n",
            "3:\tlearn: 0.6742289\ttotal: 6.72ms\tremaining: 1.67s\n",
            "4:\tlearn: 0.6689716\ttotal: 8.35ms\tremaining: 1.66s\n",
            "5:\tlearn: 0.6639899\ttotal: 10.1ms\tremaining: 1.67s\n",
            "6:\tlearn: 0.6590630\ttotal: 11.7ms\tremaining: 1.66s\n",
            "7:\tlearn: 0.6549062\ttotal: 13.4ms\tremaining: 1.66s\n",
            "8:\tlearn: 0.6497460\ttotal: 15ms\tremaining: 1.65s\n",
            "9:\tlearn: 0.6455072\ttotal: 16.7ms\tremaining: 1.66s\n",
            "10:\tlearn: 0.6412587\ttotal: 18.5ms\tremaining: 1.66s\n",
            "11:\tlearn: 0.6378750\ttotal: 19.9ms\tremaining: 1.64s\n",
            "12:\tlearn: 0.6342517\ttotal: 21.5ms\tremaining: 1.64s\n",
            "13:\tlearn: 0.6304776\ttotal: 22.9ms\tremaining: 1.61s\n",
            "14:\tlearn: 0.6261623\ttotal: 24.5ms\tremaining: 1.61s\n",
            "15:\tlearn: 0.6230268\ttotal: 25.3ms\tremaining: 1.55s\n",
            "16:\tlearn: 0.6208350\ttotal: 26.9ms\tremaining: 1.55s\n",
            "17:\tlearn: 0.6173012\ttotal: 28.5ms\tremaining: 1.55s\n",
            "18:\tlearn: 0.6137862\ttotal: 30.1ms\tremaining: 1.55s\n",
            "19:\tlearn: 0.6099322\ttotal: 31.7ms\tremaining: 1.55s\n",
            "20:\tlearn: 0.6061346\ttotal: 33.3ms\tremaining: 1.55s\n",
            "21:\tlearn: 0.6026414\ttotal: 34.9ms\tremaining: 1.55s\n",
            "22:\tlearn: 0.5996035\ttotal: 36.4ms\tremaining: 1.55s\n",
            "23:\tlearn: 0.5965067\ttotal: 38.1ms\tremaining: 1.55s\n",
            "24:\tlearn: 0.5934820\ttotal: 39.7ms\tremaining: 1.55s\n",
            "25:\tlearn: 0.5906692\ttotal: 41.3ms\tremaining: 1.55s\n",
            "26:\tlearn: 0.5870301\ttotal: 42.9ms\tremaining: 1.54s\n",
            "27:\tlearn: 0.5840939\ttotal: 44.6ms\tremaining: 1.55s\n",
            "28:\tlearn: 0.5810419\ttotal: 46.2ms\tremaining: 1.55s\n",
            "29:\tlearn: 0.5779934\ttotal: 47.8ms\tremaining: 1.55s\n",
            "30:\tlearn: 0.5747680\ttotal: 49.5ms\tremaining: 1.55s\n",
            "31:\tlearn: 0.5720484\ttotal: 51.3ms\tremaining: 1.55s\n",
            "32:\tlearn: 0.5692718\ttotal: 52.9ms\tremaining: 1.55s\n",
            "33:\tlearn: 0.5666216\ttotal: 54.7ms\tremaining: 1.55s\n",
            "34:\tlearn: 0.5639402\ttotal: 56.4ms\tremaining: 1.55s\n",
            "35:\tlearn: 0.5610972\ttotal: 58.1ms\tremaining: 1.56s\n",
            "36:\tlearn: 0.5588254\ttotal: 59.4ms\tremaining: 1.54s\n",
            "37:\tlearn: 0.5561101\ttotal: 61.1ms\tremaining: 1.54s\n",
            "38:\tlearn: 0.5536032\ttotal: 62.7ms\tremaining: 1.54s\n",
            "39:\tlearn: 0.5506058\ttotal: 64.3ms\tremaining: 1.54s\n",
            "40:\tlearn: 0.5485844\ttotal: 66ms\tremaining: 1.54s\n",
            "41:\tlearn: 0.5457768\ttotal: 67.7ms\tremaining: 1.54s\n",
            "42:\tlearn: 0.5435429\ttotal: 69.3ms\tremaining: 1.54s\n",
            "43:\tlearn: 0.5412936\ttotal: 70.9ms\tremaining: 1.54s\n",
            "44:\tlearn: 0.5392568\ttotal: 72.5ms\tremaining: 1.54s\n",
            "45:\tlearn: 0.5372455\ttotal: 74.2ms\tremaining: 1.54s\n",
            "46:\tlearn: 0.5351281\ttotal: 76.1ms\tremaining: 1.54s\n",
            "47:\tlearn: 0.5327971\ttotal: 77.9ms\tremaining: 1.54s\n",
            "48:\tlearn: 0.5309092\ttotal: 79.5ms\tremaining: 1.54s\n",
            "49:\tlearn: 0.5286937\ttotal: 81.3ms\tremaining: 1.54s\n",
            "50:\tlearn: 0.5268938\ttotal: 82.9ms\tremaining: 1.54s\n",
            "51:\tlearn: 0.5245087\ttotal: 84.6ms\tremaining: 1.54s\n",
            "52:\tlearn: 0.5227763\ttotal: 86.2ms\tremaining: 1.54s\n",
            "53:\tlearn: 0.5210892\ttotal: 87.4ms\tremaining: 1.53s\n",
            "54:\tlearn: 0.5190879\ttotal: 89.1ms\tremaining: 1.53s\n",
            "55:\tlearn: 0.5172454\ttotal: 90.8ms\tremaining: 1.53s\n",
            "56:\tlearn: 0.5153085\ttotal: 92.4ms\tremaining: 1.53s\n",
            "57:\tlearn: 0.5131647\ttotal: 94.1ms\tremaining: 1.53s\n",
            "58:\tlearn: 0.5113595\ttotal: 95.7ms\tremaining: 1.53s\n",
            "59:\tlearn: 0.5095550\ttotal: 97.4ms\tremaining: 1.52s\n",
            "60:\tlearn: 0.5075024\ttotal: 99ms\tremaining: 1.52s\n",
            "61:\tlearn: 0.5059244\ttotal: 101ms\tremaining: 1.52s\n",
            "62:\tlearn: 0.5042764\ttotal: 102ms\tremaining: 1.52s\n",
            "63:\tlearn: 0.5023921\ttotal: 104ms\tremaining: 1.52s\n",
            "64:\tlearn: 0.5006035\ttotal: 106ms\tremaining: 1.53s\n",
            "65:\tlearn: 0.4988712\ttotal: 108ms\tremaining: 1.53s\n",
            "66:\tlearn: 0.4973521\ttotal: 110ms\tremaining: 1.53s\n",
            "67:\tlearn: 0.4962574\ttotal: 111ms\tremaining: 1.52s\n",
            "68:\tlearn: 0.4947949\ttotal: 112ms\tremaining: 1.52s\n",
            "69:\tlearn: 0.4932070\ttotal: 114ms\tremaining: 1.51s\n",
            "70:\tlearn: 0.4916468\ttotal: 116ms\tremaining: 1.51s\n",
            "71:\tlearn: 0.4901614\ttotal: 117ms\tremaining: 1.51s\n",
            "72:\tlearn: 0.4889831\ttotal: 119ms\tremaining: 1.51s\n",
            "73:\tlearn: 0.4876289\ttotal: 121ms\tremaining: 1.51s\n",
            "74:\tlearn: 0.4863885\ttotal: 122ms\tremaining: 1.51s\n",
            "75:\tlearn: 0.4853898\ttotal: 124ms\tremaining: 1.51s\n",
            "76:\tlearn: 0.4842462\ttotal: 126ms\tremaining: 1.5s\n",
            "77:\tlearn: 0.4836009\ttotal: 126ms\tremaining: 1.49s\n",
            "78:\tlearn: 0.4824706\ttotal: 128ms\tremaining: 1.49s\n",
            "79:\tlearn: 0.4812534\ttotal: 130ms\tremaining: 1.49s\n",
            "80:\tlearn: 0.4798117\ttotal: 131ms\tremaining: 1.49s\n",
            "81:\tlearn: 0.4785879\ttotal: 133ms\tremaining: 1.49s\n",
            "82:\tlearn: 0.4772174\ttotal: 135ms\tremaining: 1.49s\n",
            "83:\tlearn: 0.4759050\ttotal: 136ms\tremaining: 1.49s\n",
            "84:\tlearn: 0.4748059\ttotal: 138ms\tremaining: 1.48s\n",
            "85:\tlearn: 0.4736343\ttotal: 139ms\tremaining: 1.48s\n",
            "86:\tlearn: 0.4728005\ttotal: 141ms\tremaining: 1.48s\n",
            "87:\tlearn: 0.4718646\ttotal: 143ms\tremaining: 1.48s\n",
            "88:\tlearn: 0.4705843\ttotal: 144ms\tremaining: 1.48s\n",
            "89:\tlearn: 0.4698426\ttotal: 146ms\tremaining: 1.48s\n",
            "90:\tlearn: 0.4686432\ttotal: 148ms\tremaining: 1.47s\n",
            "91:\tlearn: 0.4674326\ttotal: 149ms\tremaining: 1.47s\n",
            "92:\tlearn: 0.4660873\ttotal: 151ms\tremaining: 1.47s\n",
            "93:\tlearn: 0.4647765\ttotal: 153ms\tremaining: 1.47s\n",
            "94:\tlearn: 0.4642908\ttotal: 154ms\tremaining: 1.47s\n",
            "95:\tlearn: 0.4634985\ttotal: 155ms\tremaining: 1.46s\n",
            "96:\tlearn: 0.4626294\ttotal: 157ms\tremaining: 1.46s\n",
            "97:\tlearn: 0.4617224\ttotal: 160ms\tremaining: 1.47s\n",
            "98:\tlearn: 0.4607151\ttotal: 162ms\tremaining: 1.48s\n",
            "99:\tlearn: 0.4598580\ttotal: 164ms\tremaining: 1.47s\n",
            "100:\tlearn: 0.4589494\ttotal: 165ms\tremaining: 1.47s\n",
            "101:\tlearn: 0.4578415\ttotal: 167ms\tremaining: 1.47s\n",
            "102:\tlearn: 0.4570631\ttotal: 168ms\tremaining: 1.47s\n",
            "103:\tlearn: 0.4561929\ttotal: 170ms\tremaining: 1.46s\n",
            "104:\tlearn: 0.4553971\ttotal: 172ms\tremaining: 1.46s\n",
            "105:\tlearn: 0.4543620\ttotal: 173ms\tremaining: 1.46s\n",
            "106:\tlearn: 0.4533177\ttotal: 175ms\tremaining: 1.46s\n",
            "107:\tlearn: 0.4524365\ttotal: 177ms\tremaining: 1.46s\n",
            "108:\tlearn: 0.4518371\ttotal: 178ms\tremaining: 1.46s\n",
            "109:\tlearn: 0.4507554\ttotal: 180ms\tremaining: 1.46s\n",
            "110:\tlearn: 0.4501041\ttotal: 182ms\tremaining: 1.46s\n",
            "111:\tlearn: 0.4491740\ttotal: 184ms\tremaining: 1.46s\n",
            "112:\tlearn: 0.4484563\ttotal: 185ms\tremaining: 1.45s\n",
            "113:\tlearn: 0.4479905\ttotal: 186ms\tremaining: 1.45s\n",
            "114:\tlearn: 0.4474452\ttotal: 187ms\tremaining: 1.44s\n",
            "115:\tlearn: 0.4471500\ttotal: 188ms\tremaining: 1.44s\n",
            "116:\tlearn: 0.4465862\ttotal: 190ms\tremaining: 1.43s\n",
            "117:\tlearn: 0.4456284\ttotal: 192ms\tremaining: 1.43s\n",
            "118:\tlearn: 0.4449247\ttotal: 193ms\tremaining: 1.43s\n",
            "119:\tlearn: 0.4439763\ttotal: 195ms\tremaining: 1.43s\n",
            "120:\tlearn: 0.4431205\ttotal: 197ms\tremaining: 1.43s\n",
            "121:\tlearn: 0.4426964\ttotal: 198ms\tremaining: 1.43s\n",
            "122:\tlearn: 0.4419986\ttotal: 200ms\tremaining: 1.43s\n",
            "123:\tlearn: 0.4415439\ttotal: 202ms\tremaining: 1.43s\n",
            "124:\tlearn: 0.4409123\ttotal: 204ms\tremaining: 1.43s\n",
            "125:\tlearn: 0.4402664\ttotal: 205ms\tremaining: 1.42s\n",
            "126:\tlearn: 0.4396984\ttotal: 207ms\tremaining: 1.42s\n",
            "127:\tlearn: 0.4389678\ttotal: 209ms\tremaining: 1.42s\n",
            "128:\tlearn: 0.4383524\ttotal: 211ms\tremaining: 1.42s\n",
            "129:\tlearn: 0.4374165\ttotal: 212ms\tremaining: 1.42s\n",
            "130:\tlearn: 0.4367055\ttotal: 214ms\tremaining: 1.42s\n",
            "131:\tlearn: 0.4363371\ttotal: 216ms\tremaining: 1.42s\n",
            "132:\tlearn: 0.4355458\ttotal: 217ms\tremaining: 1.42s\n",
            "133:\tlearn: 0.4350153\ttotal: 219ms\tremaining: 1.41s\n",
            "134:\tlearn: 0.4341504\ttotal: 221ms\tremaining: 1.41s\n",
            "135:\tlearn: 0.4334205\ttotal: 222ms\tremaining: 1.41s\n",
            "136:\tlearn: 0.4324802\ttotal: 224ms\tremaining: 1.41s\n",
            "137:\tlearn: 0.4316321\ttotal: 226ms\tremaining: 1.41s\n",
            "138:\tlearn: 0.4311539\ttotal: 227ms\tremaining: 1.41s\n",
            "139:\tlearn: 0.4305705\ttotal: 229ms\tremaining: 1.41s\n",
            "140:\tlearn: 0.4298017\ttotal: 230ms\tremaining: 1.4s\n",
            "141:\tlearn: 0.4293037\ttotal: 232ms\tremaining: 1.4s\n",
            "142:\tlearn: 0.4288530\ttotal: 234ms\tremaining: 1.4s\n",
            "143:\tlearn: 0.4281069\ttotal: 235ms\tremaining: 1.4s\n",
            "144:\tlearn: 0.4274039\ttotal: 237ms\tremaining: 1.4s\n",
            "145:\tlearn: 0.4271679\ttotal: 238ms\tremaining: 1.39s\n",
            "146:\tlearn: 0.4265309\ttotal: 240ms\tremaining: 1.39s\n",
            "147:\tlearn: 0.4260556\ttotal: 241ms\tremaining: 1.39s\n",
            "148:\tlearn: 0.4254219\ttotal: 243ms\tremaining: 1.39s\n",
            "149:\tlearn: 0.4249716\ttotal: 244ms\tremaining: 1.39s\n",
            "150:\tlearn: 0.4244219\ttotal: 246ms\tremaining: 1.38s\n",
            "151:\tlearn: 0.4238732\ttotal: 248ms\tremaining: 1.38s\n",
            "152:\tlearn: 0.4230918\ttotal: 249ms\tremaining: 1.38s\n",
            "153:\tlearn: 0.4227923\ttotal: 250ms\tremaining: 1.38s\n",
            "154:\tlearn: 0.4226327\ttotal: 251ms\tremaining: 1.37s\n",
            "155:\tlearn: 0.4223405\ttotal: 253ms\tremaining: 1.37s\n",
            "156:\tlearn: 0.4219683\ttotal: 255ms\tremaining: 1.37s\n",
            "157:\tlearn: 0.4212902\ttotal: 257ms\tremaining: 1.37s\n",
            "158:\tlearn: 0.4206871\ttotal: 258ms\tremaining: 1.37s\n",
            "159:\tlearn: 0.4202925\ttotal: 260ms\tremaining: 1.36s\n",
            "160:\tlearn: 0.4200409\ttotal: 261ms\tremaining: 1.36s\n",
            "161:\tlearn: 0.4195181\ttotal: 263ms\tremaining: 1.36s\n",
            "162:\tlearn: 0.4191955\ttotal: 265ms\tremaining: 1.36s\n",
            "163:\tlearn: 0.4186850\ttotal: 266ms\tremaining: 1.36s\n",
            "164:\tlearn: 0.4180673\ttotal: 268ms\tremaining: 1.36s\n",
            "165:\tlearn: 0.4177492\ttotal: 271ms\tremaining: 1.36s\n",
            "166:\tlearn: 0.4172027\ttotal: 273ms\tremaining: 1.36s\n",
            "167:\tlearn: 0.4171281\ttotal: 274ms\tremaining: 1.35s\n",
            "168:\tlearn: 0.4167713\ttotal: 275ms\tremaining: 1.35s\n",
            "169:\tlearn: 0.4161173\ttotal: 277ms\tremaining: 1.35s\n",
            "170:\tlearn: 0.4157610\ttotal: 279ms\tremaining: 1.35s\n",
            "171:\tlearn: 0.4155808\ttotal: 280ms\tremaining: 1.35s\n",
            "172:\tlearn: 0.4153018\ttotal: 282ms\tremaining: 1.35s\n",
            "173:\tlearn: 0.4149276\ttotal: 284ms\tremaining: 1.35s\n",
            "174:\tlearn: 0.4143195\ttotal: 285ms\tremaining: 1.34s\n",
            "175:\tlearn: 0.4138377\ttotal: 287ms\tremaining: 1.34s\n",
            "176:\tlearn: 0.4131385\ttotal: 289ms\tremaining: 1.34s\n",
            "177:\tlearn: 0.4125583\ttotal: 290ms\tremaining: 1.34s\n",
            "178:\tlearn: 0.4122479\ttotal: 292ms\tremaining: 1.34s\n",
            "179:\tlearn: 0.4117942\ttotal: 294ms\tremaining: 1.34s\n",
            "180:\tlearn: 0.4116495\ttotal: 295ms\tremaining: 1.34s\n",
            "181:\tlearn: 0.4114031\ttotal: 297ms\tremaining: 1.33s\n",
            "182:\tlearn: 0.4111875\ttotal: 299ms\tremaining: 1.33s\n",
            "183:\tlearn: 0.4108497\ttotal: 301ms\tremaining: 1.33s\n",
            "184:\tlearn: 0.4104340\ttotal: 302ms\tremaining: 1.33s\n",
            "185:\tlearn: 0.4099113\ttotal: 304ms\tremaining: 1.33s\n",
            "186:\tlearn: 0.4097084\ttotal: 306ms\tremaining: 1.33s\n",
            "187:\tlearn: 0.4095470\ttotal: 308ms\tremaining: 1.33s\n",
            "188:\tlearn: 0.4092446\ttotal: 309ms\tremaining: 1.33s\n",
            "189:\tlearn: 0.4089694\ttotal: 311ms\tremaining: 1.32s\n",
            "190:\tlearn: 0.4085358\ttotal: 313ms\tremaining: 1.32s\n",
            "191:\tlearn: 0.4082028\ttotal: 314ms\tremaining: 1.32s\n",
            "192:\tlearn: 0.4078706\ttotal: 316ms\tremaining: 1.32s\n",
            "193:\tlearn: 0.4076073\ttotal: 318ms\tremaining: 1.32s\n",
            "194:\tlearn: 0.4072660\ttotal: 319ms\tremaining: 1.32s\n",
            "195:\tlearn: 0.4068096\ttotal: 321ms\tremaining: 1.32s\n",
            "196:\tlearn: 0.4065222\ttotal: 324ms\tremaining: 1.32s\n",
            "197:\tlearn: 0.4061819\ttotal: 326ms\tremaining: 1.32s\n",
            "198:\tlearn: 0.4057643\ttotal: 327ms\tremaining: 1.32s\n",
            "199:\tlearn: 0.4056914\ttotal: 328ms\tremaining: 1.31s\n",
            "200:\tlearn: 0.4054327\ttotal: 330ms\tremaining: 1.31s\n",
            "201:\tlearn: 0.4050949\ttotal: 331ms\tremaining: 1.31s\n",
            "202:\tlearn: 0.4048207\ttotal: 333ms\tremaining: 1.31s\n",
            "203:\tlearn: 0.4044190\ttotal: 335ms\tremaining: 1.31s\n",
            "204:\tlearn: 0.4042040\ttotal: 337ms\tremaining: 1.3s\n",
            "205:\tlearn: 0.4040249\ttotal: 338ms\tremaining: 1.3s\n",
            "206:\tlearn: 0.4037565\ttotal: 340ms\tremaining: 1.3s\n",
            "207:\tlearn: 0.4032996\ttotal: 342ms\tremaining: 1.3s\n",
            "208:\tlearn: 0.4031827\ttotal: 343ms\tremaining: 1.3s\n",
            "209:\tlearn: 0.4029321\ttotal: 345ms\tremaining: 1.3s\n",
            "210:\tlearn: 0.4028399\ttotal: 347ms\tremaining: 1.29s\n",
            "211:\tlearn: 0.4026426\ttotal: 348ms\tremaining: 1.29s\n",
            "212:\tlearn: 0.4023767\ttotal: 350ms\tremaining: 1.29s\n",
            "213:\tlearn: 0.4023120\ttotal: 351ms\tremaining: 1.29s\n",
            "214:\tlearn: 0.4019852\ttotal: 352ms\tremaining: 1.29s\n",
            "215:\tlearn: 0.4014888\ttotal: 354ms\tremaining: 1.28s\n",
            "216:\tlearn: 0.4012594\ttotal: 355ms\tremaining: 1.28s\n",
            "217:\tlearn: 0.4010261\ttotal: 357ms\tremaining: 1.28s\n",
            "218:\tlearn: 0.4008371\ttotal: 359ms\tremaining: 1.28s\n",
            "219:\tlearn: 0.4006469\ttotal: 360ms\tremaining: 1.28s\n",
            "220:\tlearn: 0.4005738\ttotal: 362ms\tremaining: 1.27s\n",
            "221:\tlearn: 0.4002449\ttotal: 363ms\tremaining: 1.27s\n",
            "222:\tlearn: 0.3998603\ttotal: 365ms\tremaining: 1.27s\n",
            "223:\tlearn: 0.3995166\ttotal: 366ms\tremaining: 1.27s\n",
            "224:\tlearn: 0.3992124\ttotal: 368ms\tremaining: 1.27s\n",
            "225:\tlearn: 0.3990315\ttotal: 370ms\tremaining: 1.27s\n",
            "226:\tlearn: 0.3988186\ttotal: 371ms\tremaining: 1.26s\n",
            "227:\tlearn: 0.3986299\ttotal: 373ms\tremaining: 1.26s\n",
            "228:\tlearn: 0.3983759\ttotal: 375ms\tremaining: 1.26s\n",
            "229:\tlearn: 0.3981850\ttotal: 376ms\tremaining: 1.26s\n",
            "230:\tlearn: 0.3979912\ttotal: 378ms\tremaining: 1.26s\n",
            "231:\tlearn: 0.3978264\ttotal: 380ms\tremaining: 1.26s\n",
            "232:\tlearn: 0.3976074\ttotal: 381ms\tremaining: 1.25s\n",
            "233:\tlearn: 0.3973101\ttotal: 383ms\tremaining: 1.25s\n",
            "234:\tlearn: 0.3970807\ttotal: 385ms\tremaining: 1.25s\n",
            "235:\tlearn: 0.3967729\ttotal: 386ms\tremaining: 1.25s\n",
            "236:\tlearn: 0.3965775\ttotal: 388ms\tremaining: 1.25s\n",
            "237:\tlearn: 0.3963089\ttotal: 390ms\tremaining: 1.25s\n",
            "238:\tlearn: 0.3959128\ttotal: 391ms\tremaining: 1.25s\n",
            "239:\tlearn: 0.3955901\ttotal: 393ms\tremaining: 1.24s\n",
            "240:\tlearn: 0.3952974\ttotal: 395ms\tremaining: 1.24s\n",
            "241:\tlearn: 0.3950721\ttotal: 397ms\tremaining: 1.24s\n",
            "242:\tlearn: 0.3947704\ttotal: 398ms\tremaining: 1.24s\n",
            "243:\tlearn: 0.3944868\ttotal: 400ms\tremaining: 1.24s\n",
            "244:\tlearn: 0.3941643\ttotal: 402ms\tremaining: 1.24s\n",
            "245:\tlearn: 0.3940305\ttotal: 403ms\tremaining: 1.24s\n",
            "246:\tlearn: 0.3939119\ttotal: 405ms\tremaining: 1.23s\n",
            "247:\tlearn: 0.3937330\ttotal: 407ms\tremaining: 1.23s\n",
            "248:\tlearn: 0.3933491\ttotal: 408ms\tremaining: 1.23s\n",
            "249:\tlearn: 0.3930515\ttotal: 410ms\tremaining: 1.23s\n",
            "250:\tlearn: 0.3928873\ttotal: 412ms\tremaining: 1.23s\n",
            "251:\tlearn: 0.3926949\ttotal: 414ms\tremaining: 1.23s\n",
            "252:\tlearn: 0.3925290\ttotal: 415ms\tremaining: 1.23s\n",
            "253:\tlearn: 0.3923327\ttotal: 417ms\tremaining: 1.22s\n",
            "254:\tlearn: 0.3921527\ttotal: 419ms\tremaining: 1.22s\n",
            "255:\tlearn: 0.3919876\ttotal: 420ms\tremaining: 1.22s\n",
            "256:\tlearn: 0.3916931\ttotal: 422ms\tremaining: 1.22s\n",
            "257:\tlearn: 0.3913634\ttotal: 424ms\tremaining: 1.22s\n",
            "258:\tlearn: 0.3909630\ttotal: 426ms\tremaining: 1.22s\n",
            "259:\tlearn: 0.3907054\ttotal: 427ms\tremaining: 1.22s\n",
            "260:\tlearn: 0.3905691\ttotal: 429ms\tremaining: 1.21s\n",
            "261:\tlearn: 0.3904555\ttotal: 431ms\tremaining: 1.21s\n",
            "262:\tlearn: 0.3902021\ttotal: 432ms\tremaining: 1.21s\n",
            "263:\tlearn: 0.3900518\ttotal: 435ms\tremaining: 1.21s\n",
            "264:\tlearn: 0.3896152\ttotal: 437ms\tremaining: 1.21s\n",
            "265:\tlearn: 0.3893752\ttotal: 439ms\tremaining: 1.21s\n",
            "266:\tlearn: 0.3892708\ttotal: 440ms\tremaining: 1.21s\n",
            "267:\tlearn: 0.3889239\ttotal: 442ms\tremaining: 1.21s\n",
            "268:\tlearn: 0.3888123\ttotal: 444ms\tremaining: 1.21s\n",
            "269:\tlearn: 0.3886314\ttotal: 445ms\tremaining: 1.2s\n",
            "270:\tlearn: 0.3884458\ttotal: 447ms\tremaining: 1.2s\n",
            "271:\tlearn: 0.3883729\ttotal: 449ms\tremaining: 1.2s\n",
            "272:\tlearn: 0.3882612\ttotal: 450ms\tremaining: 1.2s\n",
            "273:\tlearn: 0.3880382\ttotal: 452ms\tremaining: 1.2s\n",
            "274:\tlearn: 0.3877463\ttotal: 454ms\tremaining: 1.2s\n",
            "275:\tlearn: 0.3876505\ttotal: 455ms\tremaining: 1.19s\n",
            "276:\tlearn: 0.3875980\ttotal: 457ms\tremaining: 1.19s\n",
            "277:\tlearn: 0.3874481\ttotal: 458ms\tremaining: 1.19s\n",
            "278:\tlearn: 0.3870922\ttotal: 460ms\tremaining: 1.19s\n",
            "279:\tlearn: 0.3869047\ttotal: 462ms\tremaining: 1.19s\n",
            "280:\tlearn: 0.3866889\ttotal: 464ms\tremaining: 1.19s\n",
            "281:\tlearn: 0.3863693\ttotal: 466ms\tremaining: 1.19s\n",
            "282:\tlearn: 0.3860943\ttotal: 467ms\tremaining: 1.18s\n",
            "283:\tlearn: 0.3859775\ttotal: 469ms\tremaining: 1.18s\n",
            "284:\tlearn: 0.3857505\ttotal: 471ms\tremaining: 1.18s\n",
            "285:\tlearn: 0.3856342\ttotal: 472ms\tremaining: 1.18s\n",
            "286:\tlearn: 0.3853925\ttotal: 474ms\tremaining: 1.18s\n",
            "287:\tlearn: 0.3852835\ttotal: 476ms\tremaining: 1.18s\n",
            "288:\tlearn: 0.3851989\ttotal: 477ms\tremaining: 1.17s\n",
            "289:\tlearn: 0.3850721\ttotal: 479ms\tremaining: 1.17s\n",
            "290:\tlearn: 0.3846736\ttotal: 481ms\tremaining: 1.17s\n",
            "291:\tlearn: 0.3844806\ttotal: 482ms\tremaining: 1.17s\n",
            "292:\tlearn: 0.3841850\ttotal: 484ms\tremaining: 1.17s\n",
            "293:\tlearn: 0.3840703\ttotal: 490ms\tremaining: 1.18s\n",
            "294:\tlearn: 0.3838658\ttotal: 491ms\tremaining: 1.17s\n",
            "295:\tlearn: 0.3836427\ttotal: 493ms\tremaining: 1.17s\n",
            "296:\tlearn: 0.3834361\ttotal: 495ms\tremaining: 1.17s\n",
            "297:\tlearn: 0.3832257\ttotal: 497ms\tremaining: 1.17s\n",
            "298:\tlearn: 0.3829881\ttotal: 498ms\tremaining: 1.17s\n",
            "299:\tlearn: 0.3828605\ttotal: 500ms\tremaining: 1.17s\n",
            "300:\tlearn: 0.3827001\ttotal: 501ms\tremaining: 1.16s\n",
            "301:\tlearn: 0.3823108\ttotal: 503ms\tremaining: 1.16s\n",
            "302:\tlearn: 0.3820485\ttotal: 505ms\tremaining: 1.16s\n",
            "303:\tlearn: 0.3817276\ttotal: 506ms\tremaining: 1.16s\n",
            "304:\tlearn: 0.3814522\ttotal: 508ms\tremaining: 1.16s\n",
            "305:\tlearn: 0.3813141\ttotal: 509ms\tremaining: 1.15s\n",
            "306:\tlearn: 0.3810683\ttotal: 510ms\tremaining: 1.15s\n",
            "307:\tlearn: 0.3808596\ttotal: 512ms\tremaining: 1.15s\n",
            "308:\tlearn: 0.3806914\ttotal: 514ms\tremaining: 1.15s\n",
            "309:\tlearn: 0.3804231\ttotal: 515ms\tremaining: 1.15s\n",
            "310:\tlearn: 0.3801076\ttotal: 517ms\tremaining: 1.15s\n",
            "311:\tlearn: 0.3798234\ttotal: 519ms\tremaining: 1.14s\n",
            "312:\tlearn: 0.3797724\ttotal: 520ms\tremaining: 1.14s\n",
            "313:\tlearn: 0.3794887\ttotal: 522ms\tremaining: 1.14s\n",
            "314:\tlearn: 0.3794295\ttotal: 523ms\tremaining: 1.14s\n",
            "315:\tlearn: 0.3791922\ttotal: 525ms\tremaining: 1.14s\n",
            "316:\tlearn: 0.3790630\ttotal: 526ms\tremaining: 1.13s\n",
            "317:\tlearn: 0.3788284\ttotal: 528ms\tremaining: 1.13s\n",
            "318:\tlearn: 0.3787397\ttotal: 530ms\tremaining: 1.13s\n",
            "319:\tlearn: 0.3785478\ttotal: 532ms\tremaining: 1.13s\n",
            "320:\tlearn: 0.3783515\ttotal: 534ms\tremaining: 1.13s\n",
            "321:\tlearn: 0.3782712\ttotal: 535ms\tremaining: 1.13s\n",
            "322:\tlearn: 0.3781015\ttotal: 537ms\tremaining: 1.13s\n",
            "323:\tlearn: 0.3780300\ttotal: 539ms\tremaining: 1.12s\n",
            "324:\tlearn: 0.3779181\ttotal: 541ms\tremaining: 1.12s\n",
            "325:\tlearn: 0.3778652\ttotal: 542ms\tremaining: 1.12s\n",
            "326:\tlearn: 0.3776931\ttotal: 544ms\tremaining: 1.12s\n",
            "327:\tlearn: 0.3775801\ttotal: 545ms\tremaining: 1.12s\n",
            "328:\tlearn: 0.3774777\ttotal: 547ms\tremaining: 1.11s\n",
            "329:\tlearn: 0.3772484\ttotal: 549ms\tremaining: 1.11s\n",
            "330:\tlearn: 0.3770985\ttotal: 550ms\tremaining: 1.11s\n",
            "331:\tlearn: 0.3768756\ttotal: 552ms\tremaining: 1.11s\n",
            "332:\tlearn: 0.3767281\ttotal: 554ms\tremaining: 1.11s\n",
            "333:\tlearn: 0.3764785\ttotal: 555ms\tremaining: 1.11s\n",
            "334:\tlearn: 0.3760401\ttotal: 557ms\tremaining: 1.1s\n",
            "335:\tlearn: 0.3757669\ttotal: 559ms\tremaining: 1.1s\n",
            "336:\tlearn: 0.3756760\ttotal: 560ms\tremaining: 1.1s\n",
            "337:\tlearn: 0.3754582\ttotal: 562ms\tremaining: 1.1s\n",
            "338:\tlearn: 0.3752455\ttotal: 564ms\tremaining: 1.1s\n",
            "339:\tlearn: 0.3750902\ttotal: 566ms\tremaining: 1.1s\n",
            "340:\tlearn: 0.3750094\ttotal: 567ms\tremaining: 1.1s\n",
            "341:\tlearn: 0.3746791\ttotal: 569ms\tremaining: 1.09s\n",
            "342:\tlearn: 0.3743793\ttotal: 571ms\tremaining: 1.09s\n",
            "343:\tlearn: 0.3742286\ttotal: 572ms\tremaining: 1.09s\n",
            "344:\tlearn: 0.3740521\ttotal: 574ms\tremaining: 1.09s\n",
            "345:\tlearn: 0.3737870\ttotal: 575ms\tremaining: 1.09s\n",
            "346:\tlearn: 0.3736923\ttotal: 577ms\tremaining: 1.08s\n",
            "347:\tlearn: 0.3735634\ttotal: 579ms\tremaining: 1.08s\n",
            "348:\tlearn: 0.3731773\ttotal: 580ms\tremaining: 1.08s\n",
            "349:\tlearn: 0.3730172\ttotal: 582ms\tremaining: 1.08s\n",
            "350:\tlearn: 0.3728788\ttotal: 584ms\tremaining: 1.08s\n",
            "351:\tlearn: 0.3727463\ttotal: 585ms\tremaining: 1.08s\n",
            "352:\tlearn: 0.3724778\ttotal: 587ms\tremaining: 1.08s\n",
            "353:\tlearn: 0.3723852\ttotal: 589ms\tremaining: 1.07s\n",
            "354:\tlearn: 0.3722741\ttotal: 591ms\tremaining: 1.07s\n",
            "355:\tlearn: 0.3720123\ttotal: 592ms\tremaining: 1.07s\n",
            "356:\tlearn: 0.3717615\ttotal: 594ms\tremaining: 1.07s\n",
            "357:\tlearn: 0.3715943\ttotal: 596ms\tremaining: 1.07s\n",
            "358:\tlearn: 0.3714930\ttotal: 598ms\tremaining: 1.07s\n",
            "359:\tlearn: 0.3712320\ttotal: 603ms\tremaining: 1.07s\n",
            "360:\tlearn: 0.3710135\ttotal: 605ms\tremaining: 1.07s\n",
            "361:\tlearn: 0.3707994\ttotal: 606ms\tremaining: 1.07s\n",
            "362:\tlearn: 0.3705339\ttotal: 608ms\tremaining: 1.07s\n",
            "363:\tlearn: 0.3704064\ttotal: 610ms\tremaining: 1.06s\n",
            "364:\tlearn: 0.3703124\ttotal: 611ms\tremaining: 1.06s\n",
            "365:\tlearn: 0.3703011\ttotal: 612ms\tremaining: 1.06s\n",
            "366:\tlearn: 0.3701301\ttotal: 614ms\tremaining: 1.06s\n",
            "367:\tlearn: 0.3700297\ttotal: 615ms\tremaining: 1.06s\n",
            "368:\tlearn: 0.3698535\ttotal: 617ms\tremaining: 1.05s\n",
            "369:\tlearn: 0.3697552\ttotal: 619ms\tremaining: 1.05s\n",
            "370:\tlearn: 0.3695081\ttotal: 620ms\tremaining: 1.05s\n",
            "371:\tlearn: 0.3692771\ttotal: 622ms\tremaining: 1.05s\n",
            "372:\tlearn: 0.3692651\ttotal: 623ms\tremaining: 1.05s\n",
            "373:\tlearn: 0.3691988\ttotal: 624ms\tremaining: 1.04s\n",
            "374:\tlearn: 0.3691741\ttotal: 625ms\tremaining: 1.04s\n",
            "375:\tlearn: 0.3690497\ttotal: 627ms\tremaining: 1.04s\n",
            "376:\tlearn: 0.3687906\ttotal: 628ms\tremaining: 1.04s\n",
            "377:\tlearn: 0.3685491\ttotal: 630ms\tremaining: 1.04s\n",
            "378:\tlearn: 0.3682643\ttotal: 632ms\tremaining: 1.03s\n",
            "379:\tlearn: 0.3679122\ttotal: 633ms\tremaining: 1.03s\n",
            "380:\tlearn: 0.3676825\ttotal: 635ms\tremaining: 1.03s\n",
            "381:\tlearn: 0.3675394\ttotal: 637ms\tremaining: 1.03s\n",
            "382:\tlearn: 0.3674480\ttotal: 638ms\tremaining: 1.03s\n",
            "383:\tlearn: 0.3673594\ttotal: 640ms\tremaining: 1.03s\n",
            "384:\tlearn: 0.3671597\ttotal: 642ms\tremaining: 1.02s\n",
            "385:\tlearn: 0.3669858\ttotal: 643ms\tremaining: 1.02s\n",
            "386:\tlearn: 0.3668183\ttotal: 645ms\tremaining: 1.02s\n",
            "387:\tlearn: 0.3665136\ttotal: 647ms\tremaining: 1.02s\n",
            "388:\tlearn: 0.3663079\ttotal: 649ms\tremaining: 1.02s\n",
            "389:\tlearn: 0.3662549\ttotal: 650ms\tremaining: 1.02s\n",
            "390:\tlearn: 0.3659945\ttotal: 652ms\tremaining: 1.01s\n",
            "391:\tlearn: 0.3659277\ttotal: 655ms\tremaining: 1.01s\n",
            "392:\tlearn: 0.3658822\ttotal: 657ms\tremaining: 1.01s\n",
            "393:\tlearn: 0.3658680\ttotal: 657ms\tremaining: 1.01s\n",
            "394:\tlearn: 0.3658156\ttotal: 659ms\tremaining: 1.01s\n",
            "395:\tlearn: 0.3657142\ttotal: 660ms\tremaining: 1.01s\n",
            "396:\tlearn: 0.3656404\ttotal: 662ms\tremaining: 1s\n",
            "397:\tlearn: 0.3656181\ttotal: 663ms\tremaining: 1s\n",
            "398:\tlearn: 0.3654812\ttotal: 665ms\tremaining: 1s\n",
            "399:\tlearn: 0.3652854\ttotal: 666ms\tremaining: 1000ms\n",
            "400:\tlearn: 0.3649995\ttotal: 668ms\tremaining: 998ms\n",
            "401:\tlearn: 0.3647226\ttotal: 670ms\tremaining: 997ms\n",
            "402:\tlearn: 0.3645825\ttotal: 672ms\tremaining: 995ms\n",
            "403:\tlearn: 0.3644895\ttotal: 673ms\tremaining: 993ms\n",
            "404:\tlearn: 0.3644102\ttotal: 675ms\tremaining: 992ms\n",
            "405:\tlearn: 0.3642572\ttotal: 677ms\tremaining: 990ms\n",
            "406:\tlearn: 0.3641741\ttotal: 678ms\tremaining: 988ms\n",
            "407:\tlearn: 0.3641460\ttotal: 679ms\tremaining: 985ms\n",
            "408:\tlearn: 0.3638662\ttotal: 681ms\tremaining: 984ms\n",
            "409:\tlearn: 0.3636344\ttotal: 683ms\tremaining: 982ms\n",
            "410:\tlearn: 0.3633659\ttotal: 684ms\tremaining: 981ms\n",
            "411:\tlearn: 0.3632668\ttotal: 686ms\tremaining: 979ms\n",
            "412:\tlearn: 0.3631576\ttotal: 688ms\tremaining: 978ms\n",
            "413:\tlearn: 0.3629338\ttotal: 690ms\tremaining: 976ms\n",
            "414:\tlearn: 0.3628218\ttotal: 691ms\tremaining: 975ms\n",
            "415:\tlearn: 0.3627242\ttotal: 693ms\tremaining: 973ms\n",
            "416:\tlearn: 0.3625775\ttotal: 695ms\tremaining: 972ms\n",
            "417:\tlearn: 0.3625400\ttotal: 697ms\tremaining: 970ms\n",
            "418:\tlearn: 0.3624778\ttotal: 698ms\tremaining: 969ms\n",
            "419:\tlearn: 0.3622876\ttotal: 700ms\tremaining: 967ms\n",
            "420:\tlearn: 0.3622341\ttotal: 702ms\tremaining: 965ms\n",
            "421:\tlearn: 0.3620840\ttotal: 704ms\tremaining: 964ms\n",
            "422:\tlearn: 0.3619452\ttotal: 705ms\tremaining: 962ms\n",
            "423:\tlearn: 0.3617420\ttotal: 707ms\tremaining: 960ms\n",
            "424:\tlearn: 0.3615071\ttotal: 709ms\tremaining: 959ms\n",
            "425:\tlearn: 0.3613523\ttotal: 710ms\tremaining: 957ms\n",
            "426:\tlearn: 0.3611226\ttotal: 712ms\tremaining: 955ms\n",
            "427:\tlearn: 0.3610142\ttotal: 714ms\tremaining: 954ms\n",
            "428:\tlearn: 0.3608952\ttotal: 715ms\tremaining: 952ms\n",
            "429:\tlearn: 0.3605930\ttotal: 717ms\tremaining: 950ms\n",
            "430:\tlearn: 0.3603619\ttotal: 719ms\tremaining: 949ms\n",
            "431:\tlearn: 0.3602719\ttotal: 720ms\tremaining: 947ms\n",
            "432:\tlearn: 0.3601090\ttotal: 722ms\tremaining: 945ms\n",
            "433:\tlearn: 0.3599333\ttotal: 724ms\tremaining: 944ms\n",
            "434:\tlearn: 0.3598067\ttotal: 725ms\tremaining: 942ms\n",
            "435:\tlearn: 0.3594970\ttotal: 727ms\tremaining: 940ms\n",
            "436:\tlearn: 0.3593997\ttotal: 728ms\tremaining: 938ms\n",
            "437:\tlearn: 0.3593283\ttotal: 730ms\tremaining: 937ms\n",
            "438:\tlearn: 0.3592132\ttotal: 732ms\tremaining: 935ms\n",
            "439:\tlearn: 0.3590165\ttotal: 734ms\tremaining: 934ms\n",
            "440:\tlearn: 0.3589230\ttotal: 735ms\tremaining: 932ms\n",
            "441:\tlearn: 0.3588391\ttotal: 737ms\tremaining: 931ms\n",
            "442:\tlearn: 0.3584757\ttotal: 739ms\tremaining: 929ms\n",
            "443:\tlearn: 0.3582030\ttotal: 741ms\tremaining: 928ms\n",
            "444:\tlearn: 0.3581479\ttotal: 742ms\tremaining: 926ms\n",
            "445:\tlearn: 0.3577848\ttotal: 744ms\tremaining: 924ms\n",
            "446:\tlearn: 0.3577077\ttotal: 746ms\tremaining: 923ms\n",
            "447:\tlearn: 0.3575956\ttotal: 747ms\tremaining: 921ms\n",
            "448:\tlearn: 0.3574777\ttotal: 749ms\tremaining: 919ms\n",
            "449:\tlearn: 0.3572597\ttotal: 751ms\tremaining: 918ms\n",
            "450:\tlearn: 0.3571617\ttotal: 752ms\tremaining: 916ms\n",
            "451:\tlearn: 0.3570162\ttotal: 754ms\tremaining: 914ms\n",
            "452:\tlearn: 0.3569438\ttotal: 756ms\tremaining: 913ms\n",
            "453:\tlearn: 0.3569179\ttotal: 757ms\tremaining: 910ms\n",
            "454:\tlearn: 0.3568345\ttotal: 758ms\tremaining: 908ms\n",
            "455:\tlearn: 0.3567556\ttotal: 760ms\tremaining: 906ms\n",
            "456:\tlearn: 0.3566716\ttotal: 761ms\tremaining: 904ms\n",
            "457:\tlearn: 0.3565935\ttotal: 763ms\tremaining: 903ms\n",
            "458:\tlearn: 0.3563646\ttotal: 765ms\tremaining: 902ms\n",
            "459:\tlearn: 0.3560960\ttotal: 767ms\tremaining: 901ms\n",
            "460:\tlearn: 0.3559846\ttotal: 769ms\tremaining: 899ms\n",
            "461:\tlearn: 0.3558326\ttotal: 771ms\tremaining: 897ms\n",
            "462:\tlearn: 0.3554744\ttotal: 772ms\tremaining: 896ms\n",
            "463:\tlearn: 0.3554051\ttotal: 774ms\tremaining: 894ms\n",
            "464:\tlearn: 0.3553245\ttotal: 775ms\tremaining: 892ms\n",
            "465:\tlearn: 0.3552005\ttotal: 777ms\tremaining: 890ms\n",
            "466:\tlearn: 0.3551152\ttotal: 779ms\tremaining: 889ms\n",
            "467:\tlearn: 0.3551008\ttotal: 779ms\tremaining: 886ms\n",
            "468:\tlearn: 0.3550309\ttotal: 780ms\tremaining: 884ms\n",
            "469:\tlearn: 0.3549257\ttotal: 782ms\tremaining: 882ms\n",
            "470:\tlearn: 0.3548281\ttotal: 784ms\tremaining: 880ms\n",
            "471:\tlearn: 0.3547628\ttotal: 785ms\tremaining: 879ms\n",
            "472:\tlearn: 0.3547207\ttotal: 787ms\tremaining: 877ms\n",
            "473:\tlearn: 0.3546616\ttotal: 789ms\tremaining: 875ms\n",
            "474:\tlearn: 0.3545937\ttotal: 790ms\tremaining: 874ms\n",
            "475:\tlearn: 0.3543929\ttotal: 792ms\tremaining: 872ms\n",
            "476:\tlearn: 0.3542125\ttotal: 794ms\tremaining: 870ms\n",
            "477:\tlearn: 0.3541416\ttotal: 795ms\tremaining: 869ms\n",
            "478:\tlearn: 0.3539436\ttotal: 797ms\tremaining: 867ms\n",
            "479:\tlearn: 0.3538926\ttotal: 799ms\tremaining: 865ms\n",
            "480:\tlearn: 0.3536753\ttotal: 800ms\tremaining: 864ms\n",
            "481:\tlearn: 0.3535863\ttotal: 802ms\tremaining: 862ms\n",
            "482:\tlearn: 0.3535375\ttotal: 804ms\tremaining: 860ms\n",
            "483:\tlearn: 0.3534278\ttotal: 805ms\tremaining: 859ms\n",
            "484:\tlearn: 0.3531772\ttotal: 807ms\tremaining: 857ms\n",
            "485:\tlearn: 0.3530594\ttotal: 809ms\tremaining: 855ms\n",
            "486:\tlearn: 0.3528517\ttotal: 810ms\tremaining: 854ms\n",
            "487:\tlearn: 0.3527528\ttotal: 812ms\tremaining: 852ms\n",
            "488:\tlearn: 0.3524974\ttotal: 814ms\tremaining: 850ms\n",
            "489:\tlearn: 0.3524192\ttotal: 818ms\tremaining: 851ms\n",
            "490:\tlearn: 0.3523222\ttotal: 819ms\tremaining: 849ms\n",
            "491:\tlearn: 0.3521839\ttotal: 821ms\tremaining: 848ms\n",
            "492:\tlearn: 0.3519297\ttotal: 823ms\tremaining: 846ms\n",
            "493:\tlearn: 0.3519092\ttotal: 824ms\tremaining: 844ms\n",
            "494:\tlearn: 0.3518629\ttotal: 826ms\tremaining: 843ms\n",
            "495:\tlearn: 0.3517052\ttotal: 828ms\tremaining: 841ms\n",
            "496:\tlearn: 0.3516570\ttotal: 829ms\tremaining: 839ms\n",
            "497:\tlearn: 0.3514072\ttotal: 831ms\tremaining: 838ms\n",
            "498:\tlearn: 0.3511130\ttotal: 833ms\tremaining: 836ms\n",
            "499:\tlearn: 0.3509937\ttotal: 835ms\tremaining: 835ms\n",
            "500:\tlearn: 0.3509567\ttotal: 836ms\tremaining: 833ms\n",
            "501:\tlearn: 0.3509005\ttotal: 838ms\tremaining: 831ms\n",
            "502:\tlearn: 0.3505907\ttotal: 839ms\tremaining: 829ms\n",
            "503:\tlearn: 0.3505230\ttotal: 841ms\tremaining: 828ms\n",
            "504:\tlearn: 0.3503474\ttotal: 843ms\tremaining: 826ms\n",
            "505:\tlearn: 0.3502372\ttotal: 844ms\tremaining: 824ms\n",
            "506:\tlearn: 0.3502009\ttotal: 846ms\tremaining: 823ms\n",
            "507:\tlearn: 0.3501763\ttotal: 847ms\tremaining: 821ms\n",
            "508:\tlearn: 0.3500569\ttotal: 849ms\tremaining: 819ms\n",
            "509:\tlearn: 0.3499209\ttotal: 851ms\tremaining: 817ms\n",
            "510:\tlearn: 0.3496657\ttotal: 852ms\tremaining: 815ms\n",
            "511:\tlearn: 0.3495115\ttotal: 854ms\tremaining: 814ms\n",
            "512:\tlearn: 0.3494598\ttotal: 856ms\tremaining: 812ms\n",
            "513:\tlearn: 0.3493728\ttotal: 857ms\tremaining: 810ms\n",
            "514:\tlearn: 0.3493111\ttotal: 859ms\tremaining: 809ms\n",
            "515:\tlearn: 0.3491739\ttotal: 860ms\tremaining: 807ms\n",
            "516:\tlearn: 0.3490115\ttotal: 862ms\tremaining: 805ms\n",
            "517:\tlearn: 0.3489430\ttotal: 864ms\tremaining: 804ms\n",
            "518:\tlearn: 0.3487824\ttotal: 865ms\tremaining: 802ms\n",
            "519:\tlearn: 0.3486394\ttotal: 867ms\tremaining: 800ms\n",
            "520:\tlearn: 0.3485827\ttotal: 869ms\tremaining: 799ms\n",
            "521:\tlearn: 0.3484192\ttotal: 870ms\tremaining: 797ms\n",
            "522:\tlearn: 0.3482455\ttotal: 872ms\tremaining: 795ms\n",
            "523:\tlearn: 0.3480969\ttotal: 874ms\tremaining: 794ms\n",
            "524:\tlearn: 0.3480580\ttotal: 875ms\tremaining: 792ms\n",
            "525:\tlearn: 0.3479686\ttotal: 877ms\tremaining: 790ms\n",
            "526:\tlearn: 0.3478150\ttotal: 879ms\tremaining: 789ms\n",
            "527:\tlearn: 0.3476941\ttotal: 880ms\tremaining: 787ms\n",
            "528:\tlearn: 0.3475807\ttotal: 882ms\tremaining: 785ms\n",
            "529:\tlearn: 0.3473863\ttotal: 884ms\tremaining: 784ms\n",
            "530:\tlearn: 0.3472538\ttotal: 885ms\tremaining: 782ms\n",
            "531:\tlearn: 0.3472009\ttotal: 887ms\tremaining: 780ms\n",
            "532:\tlearn: 0.3469630\ttotal: 888ms\tremaining: 778ms\n",
            "533:\tlearn: 0.3467303\ttotal: 890ms\tremaining: 777ms\n",
            "534:\tlearn: 0.3466430\ttotal: 892ms\tremaining: 775ms\n",
            "535:\tlearn: 0.3465401\ttotal: 894ms\tremaining: 774ms\n",
            "536:\tlearn: 0.3464866\ttotal: 895ms\tremaining: 772ms\n",
            "537:\tlearn: 0.3463177\ttotal: 897ms\tremaining: 770ms\n",
            "538:\tlearn: 0.3461785\ttotal: 899ms\tremaining: 769ms\n",
            "539:\tlearn: 0.3460271\ttotal: 901ms\tremaining: 767ms\n",
            "540:\tlearn: 0.3457934\ttotal: 902ms\tremaining: 766ms\n",
            "541:\tlearn: 0.3456814\ttotal: 904ms\tremaining: 764ms\n",
            "542:\tlearn: 0.3456128\ttotal: 906ms\tremaining: 762ms\n",
            "543:\tlearn: 0.3455357\ttotal: 907ms\tremaining: 761ms\n",
            "544:\tlearn: 0.3454916\ttotal: 909ms\tremaining: 759ms\n",
            "545:\tlearn: 0.3454182\ttotal: 910ms\tremaining: 757ms\n",
            "546:\tlearn: 0.3452062\ttotal: 912ms\tremaining: 755ms\n",
            "547:\tlearn: 0.3450879\ttotal: 913ms\tremaining: 753ms\n",
            "548:\tlearn: 0.3449886\ttotal: 915ms\tremaining: 752ms\n",
            "549:\tlearn: 0.3447721\ttotal: 917ms\tremaining: 750ms\n",
            "550:\tlearn: 0.3446800\ttotal: 918ms\tremaining: 748ms\n",
            "551:\tlearn: 0.3446511\ttotal: 919ms\tremaining: 746ms\n",
            "552:\tlearn: 0.3444695\ttotal: 921ms\tremaining: 744ms\n",
            "553:\tlearn: 0.3444335\ttotal: 923ms\tremaining: 743ms\n",
            "554:\tlearn: 0.3443358\ttotal: 925ms\tremaining: 742ms\n",
            "555:\tlearn: 0.3441571\ttotal: 928ms\tremaining: 741ms\n",
            "556:\tlearn: 0.3440087\ttotal: 930ms\tremaining: 739ms\n",
            "557:\tlearn: 0.3438880\ttotal: 931ms\tremaining: 738ms\n",
            "558:\tlearn: 0.3437698\ttotal: 933ms\tremaining: 736ms\n",
            "559:\tlearn: 0.3436501\ttotal: 934ms\tremaining: 734ms\n",
            "560:\tlearn: 0.3435452\ttotal: 936ms\tremaining: 733ms\n",
            "561:\tlearn: 0.3434835\ttotal: 937ms\tremaining: 730ms\n",
            "562:\tlearn: 0.3432429\ttotal: 939ms\tremaining: 729ms\n",
            "563:\tlearn: 0.3430724\ttotal: 941ms\tremaining: 727ms\n",
            "564:\tlearn: 0.3430195\ttotal: 942ms\tremaining: 725ms\n",
            "565:\tlearn: 0.3429714\ttotal: 944ms\tremaining: 724ms\n",
            "566:\tlearn: 0.3428526\ttotal: 945ms\tremaining: 722ms\n",
            "567:\tlearn: 0.3426631\ttotal: 947ms\tremaining: 720ms\n",
            "568:\tlearn: 0.3426524\ttotal: 949ms\tremaining: 719ms\n",
            "569:\tlearn: 0.3425720\ttotal: 950ms\tremaining: 717ms\n",
            "570:\tlearn: 0.3425016\ttotal: 952ms\tremaining: 715ms\n",
            "571:\tlearn: 0.3424259\ttotal: 954ms\tremaining: 714ms\n",
            "572:\tlearn: 0.3422907\ttotal: 956ms\tremaining: 712ms\n",
            "573:\tlearn: 0.3422562\ttotal: 957ms\tremaining: 711ms\n",
            "574:\tlearn: 0.3422074\ttotal: 959ms\tremaining: 709ms\n",
            "575:\tlearn: 0.3420762\ttotal: 961ms\tremaining: 707ms\n",
            "576:\tlearn: 0.3420474\ttotal: 962ms\tremaining: 706ms\n",
            "577:\tlearn: 0.3418950\ttotal: 964ms\tremaining: 704ms\n",
            "578:\tlearn: 0.3417540\ttotal: 966ms\tremaining: 702ms\n",
            "579:\tlearn: 0.3416479\ttotal: 967ms\tremaining: 701ms\n",
            "580:\tlearn: 0.3416004\ttotal: 969ms\tremaining: 699ms\n",
            "581:\tlearn: 0.3415302\ttotal: 971ms\tremaining: 697ms\n",
            "582:\tlearn: 0.3414059\ttotal: 973ms\tremaining: 696ms\n",
            "583:\tlearn: 0.3411769\ttotal: 974ms\tremaining: 694ms\n",
            "584:\tlearn: 0.3410792\ttotal: 976ms\tremaining: 692ms\n",
            "585:\tlearn: 0.3409571\ttotal: 978ms\tremaining: 691ms\n",
            "586:\tlearn: 0.3407250\ttotal: 980ms\tremaining: 690ms\n",
            "587:\tlearn: 0.3406700\ttotal: 983ms\tremaining: 689ms\n",
            "588:\tlearn: 0.3406282\ttotal: 984ms\tremaining: 687ms\n",
            "589:\tlearn: 0.3405760\ttotal: 986ms\tremaining: 685ms\n",
            "590:\tlearn: 0.3405101\ttotal: 987ms\tremaining: 683ms\n",
            "591:\tlearn: 0.3404700\ttotal: 989ms\tremaining: 682ms\n",
            "592:\tlearn: 0.3404308\ttotal: 990ms\tremaining: 680ms\n",
            "593:\tlearn: 0.3402410\ttotal: 992ms\tremaining: 678ms\n",
            "594:\tlearn: 0.3402149\ttotal: 993ms\tremaining: 676ms\n",
            "595:\tlearn: 0.3401391\ttotal: 995ms\tremaining: 675ms\n",
            "596:\tlearn: 0.3400226\ttotal: 997ms\tremaining: 673ms\n",
            "597:\tlearn: 0.3399622\ttotal: 999ms\tremaining: 671ms\n",
            "598:\tlearn: 0.3398414\ttotal: 1s\tremaining: 670ms\n",
            "599:\tlearn: 0.3398064\ttotal: 1s\tremaining: 668ms\n",
            "600:\tlearn: 0.3396003\ttotal: 1s\tremaining: 666ms\n",
            "601:\tlearn: 0.3394037\ttotal: 1s\tremaining: 664ms\n",
            "602:\tlearn: 0.3392239\ttotal: 1.01s\tremaining: 663ms\n",
            "603:\tlearn: 0.3390709\ttotal: 1.01s\tremaining: 661ms\n",
            "604:\tlearn: 0.3389701\ttotal: 1.01s\tremaining: 660ms\n",
            "605:\tlearn: 0.3388853\ttotal: 1.01s\tremaining: 658ms\n",
            "606:\tlearn: 0.3387372\ttotal: 1.01s\tremaining: 656ms\n",
            "607:\tlearn: 0.3385064\ttotal: 1.01s\tremaining: 655ms\n",
            "608:\tlearn: 0.3384771\ttotal: 1.02s\tremaining: 653ms\n",
            "609:\tlearn: 0.3384511\ttotal: 1.02s\tremaining: 651ms\n",
            "610:\tlearn: 0.3382764\ttotal: 1.02s\tremaining: 650ms\n",
            "611:\tlearn: 0.3382195\ttotal: 1.02s\tremaining: 648ms\n",
            "612:\tlearn: 0.3380782\ttotal: 1.02s\tremaining: 646ms\n",
            "613:\tlearn: 0.3379727\ttotal: 1.02s\tremaining: 645ms\n",
            "614:\tlearn: 0.3379279\ttotal: 1.03s\tremaining: 643ms\n",
            "615:\tlearn: 0.3376571\ttotal: 1.03s\tremaining: 641ms\n",
            "616:\tlearn: 0.3375512\ttotal: 1.03s\tremaining: 640ms\n",
            "617:\tlearn: 0.3375298\ttotal: 1.03s\tremaining: 638ms\n",
            "618:\tlearn: 0.3375176\ttotal: 1.03s\tremaining: 636ms\n",
            "619:\tlearn: 0.3373989\ttotal: 1.03s\tremaining: 634ms\n",
            "620:\tlearn: 0.3372339\ttotal: 1.04s\tremaining: 633ms\n",
            "621:\tlearn: 0.3370214\ttotal: 1.04s\tremaining: 631ms\n",
            "622:\tlearn: 0.3368888\ttotal: 1.04s\tremaining: 629ms\n",
            "623:\tlearn: 0.3368176\ttotal: 1.04s\tremaining: 628ms\n",
            "624:\tlearn: 0.3367472\ttotal: 1.04s\tremaining: 626ms\n",
            "625:\tlearn: 0.3367065\ttotal: 1.04s\tremaining: 624ms\n",
            "626:\tlearn: 0.3366165\ttotal: 1.05s\tremaining: 622ms\n",
            "627:\tlearn: 0.3364071\ttotal: 1.05s\tremaining: 621ms\n",
            "628:\tlearn: 0.3361739\ttotal: 1.05s\tremaining: 619ms\n",
            "629:\tlearn: 0.3361627\ttotal: 1.05s\tremaining: 617ms\n",
            "630:\tlearn: 0.3360764\ttotal: 1.05s\tremaining: 615ms\n",
            "631:\tlearn: 0.3359041\ttotal: 1.05s\tremaining: 613ms\n",
            "632:\tlearn: 0.3357911\ttotal: 1.05s\tremaining: 612ms\n",
            "633:\tlearn: 0.3357309\ttotal: 1.06s\tremaining: 610ms\n",
            "634:\tlearn: 0.3356942\ttotal: 1.06s\tremaining: 608ms\n",
            "635:\tlearn: 0.3356823\ttotal: 1.06s\tremaining: 606ms\n",
            "636:\tlearn: 0.3355216\ttotal: 1.06s\tremaining: 605ms\n",
            "637:\tlearn: 0.3354835\ttotal: 1.06s\tremaining: 603ms\n",
            "638:\tlearn: 0.3354468\ttotal: 1.06s\tremaining: 601ms\n",
            "639:\tlearn: 0.3353033\ttotal: 1.06s\tremaining: 600ms\n",
            "640:\tlearn: 0.3351508\ttotal: 1.07s\tremaining: 598ms\n",
            "641:\tlearn: 0.3350344\ttotal: 1.07s\tremaining: 596ms\n",
            "642:\tlearn: 0.3350110\ttotal: 1.07s\tremaining: 594ms\n",
            "643:\tlearn: 0.3348805\ttotal: 1.07s\tremaining: 593ms\n",
            "644:\tlearn: 0.3348148\ttotal: 1.07s\tremaining: 591ms\n",
            "645:\tlearn: 0.3347832\ttotal: 1.07s\tremaining: 589ms\n",
            "646:\tlearn: 0.3346984\ttotal: 1.08s\tremaining: 588ms\n",
            "647:\tlearn: 0.3345575\ttotal: 1.08s\tremaining: 586ms\n",
            "648:\tlearn: 0.3345265\ttotal: 1.08s\tremaining: 585ms\n",
            "649:\tlearn: 0.3344765\ttotal: 1.08s\tremaining: 583ms\n",
            "650:\tlearn: 0.3344344\ttotal: 1.08s\tremaining: 581ms\n",
            "651:\tlearn: 0.3343636\ttotal: 1.08s\tremaining: 579ms\n",
            "652:\tlearn: 0.3342604\ttotal: 1.09s\tremaining: 578ms\n",
            "653:\tlearn: 0.3342518\ttotal: 1.09s\tremaining: 576ms\n",
            "654:\tlearn: 0.3342050\ttotal: 1.09s\tremaining: 575ms\n",
            "655:\tlearn: 0.3340356\ttotal: 1.09s\tremaining: 573ms\n",
            "656:\tlearn: 0.3339681\ttotal: 1.09s\tremaining: 572ms\n",
            "657:\tlearn: 0.3339345\ttotal: 1.1s\tremaining: 570ms\n",
            "658:\tlearn: 0.3338690\ttotal: 1.1s\tremaining: 568ms\n",
            "659:\tlearn: 0.3337638\ttotal: 1.1s\tremaining: 566ms\n",
            "660:\tlearn: 0.3337271\ttotal: 1.1s\tremaining: 565ms\n",
            "661:\tlearn: 0.3335524\ttotal: 1.1s\tremaining: 563ms\n",
            "662:\tlearn: 0.3333712\ttotal: 1.1s\tremaining: 562ms\n",
            "663:\tlearn: 0.3332440\ttotal: 1.11s\tremaining: 560ms\n",
            "664:\tlearn: 0.3332052\ttotal: 1.11s\tremaining: 558ms\n",
            "665:\tlearn: 0.3329183\ttotal: 1.11s\tremaining: 557ms\n",
            "666:\tlearn: 0.3328637\ttotal: 1.11s\tremaining: 555ms\n",
            "667:\tlearn: 0.3327314\ttotal: 1.11s\tremaining: 553ms\n",
            "668:\tlearn: 0.3326699\ttotal: 1.11s\tremaining: 552ms\n",
            "669:\tlearn: 0.3323901\ttotal: 1.12s\tremaining: 550ms\n",
            "670:\tlearn: 0.3323782\ttotal: 1.12s\tremaining: 548ms\n",
            "671:\tlearn: 0.3323462\ttotal: 1.12s\tremaining: 546ms\n",
            "672:\tlearn: 0.3321694\ttotal: 1.12s\tremaining: 545ms\n",
            "673:\tlearn: 0.3321140\ttotal: 1.12s\tremaining: 543ms\n",
            "674:\tlearn: 0.3320768\ttotal: 1.12s\tremaining: 541ms\n",
            "675:\tlearn: 0.3318954\ttotal: 1.13s\tremaining: 540ms\n",
            "676:\tlearn: 0.3318725\ttotal: 1.13s\tremaining: 538ms\n",
            "677:\tlearn: 0.3318424\ttotal: 1.13s\tremaining: 536ms\n",
            "678:\tlearn: 0.3317660\ttotal: 1.13s\tremaining: 535ms\n",
            "679:\tlearn: 0.3317168\ttotal: 1.13s\tremaining: 533ms\n",
            "680:\tlearn: 0.3317043\ttotal: 1.13s\tremaining: 531ms\n",
            "681:\tlearn: 0.3314901\ttotal: 1.14s\tremaining: 529ms\n",
            "682:\tlearn: 0.3314130\ttotal: 1.14s\tremaining: 528ms\n",
            "683:\tlearn: 0.3314009\ttotal: 1.14s\tremaining: 526ms\n",
            "684:\tlearn: 0.3313159\ttotal: 1.14s\tremaining: 524ms\n",
            "685:\tlearn: 0.3312311\ttotal: 1.14s\tremaining: 523ms\n",
            "686:\tlearn: 0.3312183\ttotal: 1.14s\tremaining: 521ms\n",
            "687:\tlearn: 0.3310675\ttotal: 1.15s\tremaining: 520ms\n",
            "688:\tlearn: 0.3308522\ttotal: 1.15s\tremaining: 518ms\n",
            "689:\tlearn: 0.3307124\ttotal: 1.15s\tremaining: 516ms\n",
            "690:\tlearn: 0.3306050\ttotal: 1.15s\tremaining: 515ms\n",
            "691:\tlearn: 0.3305630\ttotal: 1.15s\tremaining: 513ms\n",
            "692:\tlearn: 0.3305405\ttotal: 1.15s\tremaining: 511ms\n",
            "693:\tlearn: 0.3303892\ttotal: 1.16s\tremaining: 510ms\n",
            "694:\tlearn: 0.3303425\ttotal: 1.16s\tremaining: 508ms\n",
            "695:\tlearn: 0.3302077\ttotal: 1.16s\tremaining: 506ms\n",
            "696:\tlearn: 0.3301509\ttotal: 1.16s\tremaining: 505ms\n",
            "697:\tlearn: 0.3300813\ttotal: 1.16s\tremaining: 503ms\n",
            "698:\tlearn: 0.3300494\ttotal: 1.16s\tremaining: 501ms\n",
            "699:\tlearn: 0.3300121\ttotal: 1.17s\tremaining: 500ms\n",
            "700:\tlearn: 0.3297000\ttotal: 1.17s\tremaining: 498ms\n",
            "701:\tlearn: 0.3296173\ttotal: 1.17s\tremaining: 496ms\n",
            "702:\tlearn: 0.3294627\ttotal: 1.17s\tremaining: 494ms\n",
            "703:\tlearn: 0.3293507\ttotal: 1.17s\tremaining: 493ms\n",
            "704:\tlearn: 0.3293240\ttotal: 1.17s\tremaining: 491ms\n",
            "705:\tlearn: 0.3292659\ttotal: 1.18s\tremaining: 490ms\n",
            "706:\tlearn: 0.3291985\ttotal: 1.18s\tremaining: 488ms\n",
            "707:\tlearn: 0.3290012\ttotal: 1.18s\tremaining: 486ms\n",
            "708:\tlearn: 0.3288682\ttotal: 1.18s\tremaining: 485ms\n",
            "709:\tlearn: 0.3288588\ttotal: 1.18s\tremaining: 483ms\n",
            "710:\tlearn: 0.3287892\ttotal: 1.18s\tremaining: 481ms\n",
            "711:\tlearn: 0.3286881\ttotal: 1.19s\tremaining: 480ms\n",
            "712:\tlearn: 0.3286285\ttotal: 1.19s\tremaining: 478ms\n",
            "713:\tlearn: 0.3284259\ttotal: 1.19s\tremaining: 476ms\n",
            "714:\tlearn: 0.3283689\ttotal: 1.19s\tremaining: 475ms\n",
            "715:\tlearn: 0.3283219\ttotal: 1.19s\tremaining: 473ms\n",
            "716:\tlearn: 0.3282629\ttotal: 1.19s\tremaining: 472ms\n",
            "717:\tlearn: 0.3282313\ttotal: 1.2s\tremaining: 470ms\n",
            "718:\tlearn: 0.3281857\ttotal: 1.2s\tremaining: 468ms\n",
            "719:\tlearn: 0.3281651\ttotal: 1.2s\tremaining: 467ms\n",
            "720:\tlearn: 0.3281402\ttotal: 1.2s\tremaining: 465ms\n",
            "721:\tlearn: 0.3280858\ttotal: 1.2s\tremaining: 463ms\n",
            "722:\tlearn: 0.3280039\ttotal: 1.2s\tremaining: 462ms\n",
            "723:\tlearn: 0.3278447\ttotal: 1.21s\tremaining: 460ms\n",
            "724:\tlearn: 0.3277355\ttotal: 1.21s\tremaining: 458ms\n",
            "725:\tlearn: 0.3276647\ttotal: 1.21s\tremaining: 457ms\n",
            "726:\tlearn: 0.3275300\ttotal: 1.21s\tremaining: 455ms\n",
            "727:\tlearn: 0.3274458\ttotal: 1.21s\tremaining: 453ms\n",
            "728:\tlearn: 0.3273422\ttotal: 1.22s\tremaining: 452ms\n",
            "729:\tlearn: 0.3270043\ttotal: 1.22s\tremaining: 450ms\n",
            "730:\tlearn: 0.3269153\ttotal: 1.22s\tremaining: 448ms\n",
            "731:\tlearn: 0.3266073\ttotal: 1.22s\tremaining: 447ms\n",
            "732:\tlearn: 0.3265372\ttotal: 1.22s\tremaining: 445ms\n",
            "733:\tlearn: 0.3263247\ttotal: 1.22s\tremaining: 443ms\n",
            "734:\tlearn: 0.3261939\ttotal: 1.23s\tremaining: 442ms\n",
            "735:\tlearn: 0.3259859\ttotal: 1.23s\tremaining: 440ms\n",
            "736:\tlearn: 0.3256414\ttotal: 1.23s\tremaining: 438ms\n",
            "737:\tlearn: 0.3255621\ttotal: 1.23s\tremaining: 437ms\n",
            "738:\tlearn: 0.3253241\ttotal: 1.23s\tremaining: 435ms\n",
            "739:\tlearn: 0.3251475\ttotal: 1.23s\tremaining: 433ms\n",
            "740:\tlearn: 0.3250343\ttotal: 1.24s\tremaining: 432ms\n",
            "741:\tlearn: 0.3247536\ttotal: 1.24s\tremaining: 430ms\n",
            "742:\tlearn: 0.3247257\ttotal: 1.24s\tremaining: 428ms\n",
            "743:\tlearn: 0.3246937\ttotal: 1.24s\tremaining: 427ms\n",
            "744:\tlearn: 0.3246405\ttotal: 1.24s\tremaining: 425ms\n",
            "745:\tlearn: 0.3243497\ttotal: 1.24s\tremaining: 424ms\n",
            "746:\tlearn: 0.3241812\ttotal: 1.25s\tremaining: 422ms\n",
            "747:\tlearn: 0.3240587\ttotal: 1.25s\tremaining: 420ms\n",
            "748:\tlearn: 0.3239647\ttotal: 1.25s\tremaining: 419ms\n",
            "749:\tlearn: 0.3238256\ttotal: 1.25s\tremaining: 417ms\n",
            "750:\tlearn: 0.3236917\ttotal: 1.25s\tremaining: 416ms\n",
            "751:\tlearn: 0.3236554\ttotal: 1.25s\tremaining: 414ms\n",
            "752:\tlearn: 0.3233714\ttotal: 1.26s\tremaining: 412ms\n",
            "753:\tlearn: 0.3232819\ttotal: 1.26s\tremaining: 411ms\n",
            "754:\tlearn: 0.3232538\ttotal: 1.26s\tremaining: 409ms\n",
            "755:\tlearn: 0.3231348\ttotal: 1.26s\tremaining: 407ms\n",
            "756:\tlearn: 0.3230672\ttotal: 1.26s\tremaining: 406ms\n",
            "757:\tlearn: 0.3230433\ttotal: 1.26s\tremaining: 404ms\n",
            "758:\tlearn: 0.3229811\ttotal: 1.27s\tremaining: 402ms\n",
            "759:\tlearn: 0.3228902\ttotal: 1.27s\tremaining: 401ms\n",
            "760:\tlearn: 0.3227818\ttotal: 1.27s\tremaining: 399ms\n",
            "761:\tlearn: 0.3227413\ttotal: 1.27s\tremaining: 397ms\n",
            "762:\tlearn: 0.3226617\ttotal: 1.27s\tremaining: 396ms\n",
            "763:\tlearn: 0.3226029\ttotal: 1.28s\tremaining: 394ms\n",
            "764:\tlearn: 0.3225639\ttotal: 1.28s\tremaining: 392ms\n",
            "765:\tlearn: 0.3225444\ttotal: 1.28s\tremaining: 391ms\n",
            "766:\tlearn: 0.3223681\ttotal: 1.28s\tremaining: 389ms\n",
            "767:\tlearn: 0.3220745\ttotal: 1.28s\tremaining: 387ms\n",
            "768:\tlearn: 0.3219361\ttotal: 1.28s\tremaining: 386ms\n",
            "769:\tlearn: 0.3215883\ttotal: 1.28s\tremaining: 384ms\n",
            "770:\tlearn: 0.3215370\ttotal: 1.29s\tremaining: 382ms\n",
            "771:\tlearn: 0.3215002\ttotal: 1.29s\tremaining: 381ms\n",
            "772:\tlearn: 0.3214585\ttotal: 1.29s\tremaining: 379ms\n",
            "773:\tlearn: 0.3213908\ttotal: 1.29s\tremaining: 377ms\n",
            "774:\tlearn: 0.3212529\ttotal: 1.29s\tremaining: 376ms\n",
            "775:\tlearn: 0.3212162\ttotal: 1.29s\tremaining: 374ms\n",
            "776:\tlearn: 0.3211819\ttotal: 1.3s\tremaining: 372ms\n",
            "777:\tlearn: 0.3211383\ttotal: 1.3s\tremaining: 371ms\n",
            "778:\tlearn: 0.3209880\ttotal: 1.3s\tremaining: 369ms\n",
            "779:\tlearn: 0.3208494\ttotal: 1.3s\tremaining: 367ms\n",
            "780:\tlearn: 0.3207427\ttotal: 1.3s\tremaining: 366ms\n",
            "781:\tlearn: 0.3206994\ttotal: 1.31s\tremaining: 365ms\n",
            "782:\tlearn: 0.3206540\ttotal: 1.31s\tremaining: 363ms\n",
            "783:\tlearn: 0.3205370\ttotal: 1.31s\tremaining: 361ms\n",
            "784:\tlearn: 0.3204700\ttotal: 1.31s\tremaining: 360ms\n",
            "785:\tlearn: 0.3201699\ttotal: 1.31s\tremaining: 358ms\n",
            "786:\tlearn: 0.3201395\ttotal: 1.32s\tremaining: 356ms\n",
            "787:\tlearn: 0.3200923\ttotal: 1.32s\tremaining: 355ms\n",
            "788:\tlearn: 0.3199276\ttotal: 1.32s\tremaining: 353ms\n",
            "789:\tlearn: 0.3198555\ttotal: 1.32s\tremaining: 351ms\n",
            "790:\tlearn: 0.3198083\ttotal: 1.32s\tremaining: 350ms\n",
            "791:\tlearn: 0.3197801\ttotal: 1.32s\tremaining: 348ms\n",
            "792:\tlearn: 0.3196409\ttotal: 1.33s\tremaining: 346ms\n",
            "793:\tlearn: 0.3195354\ttotal: 1.33s\tremaining: 345ms\n",
            "794:\tlearn: 0.3194755\ttotal: 1.33s\tremaining: 343ms\n",
            "795:\tlearn: 0.3194351\ttotal: 1.33s\tremaining: 341ms\n",
            "796:\tlearn: 0.3194230\ttotal: 1.33s\tremaining: 340ms\n",
            "797:\tlearn: 0.3193974\ttotal: 1.33s\tremaining: 338ms\n",
            "798:\tlearn: 0.3193732\ttotal: 1.34s\tremaining: 336ms\n",
            "799:\tlearn: 0.3191141\ttotal: 1.34s\tremaining: 335ms\n",
            "800:\tlearn: 0.3190973\ttotal: 1.34s\tremaining: 333ms\n",
            "801:\tlearn: 0.3189077\ttotal: 1.34s\tremaining: 331ms\n",
            "802:\tlearn: 0.3188792\ttotal: 1.34s\tremaining: 330ms\n",
            "803:\tlearn: 0.3185472\ttotal: 1.34s\tremaining: 328ms\n",
            "804:\tlearn: 0.3184076\ttotal: 1.35s\tremaining: 326ms\n",
            "805:\tlearn: 0.3181495\ttotal: 1.35s\tremaining: 325ms\n",
            "806:\tlearn: 0.3181054\ttotal: 1.35s\tremaining: 323ms\n",
            "807:\tlearn: 0.3180345\ttotal: 1.35s\tremaining: 321ms\n",
            "808:\tlearn: 0.3179136\ttotal: 1.35s\tremaining: 320ms\n",
            "809:\tlearn: 0.3177591\ttotal: 1.35s\tremaining: 318ms\n",
            "810:\tlearn: 0.3175411\ttotal: 1.36s\tremaining: 316ms\n",
            "811:\tlearn: 0.3174189\ttotal: 1.36s\tremaining: 315ms\n",
            "812:\tlearn: 0.3173436\ttotal: 1.36s\tremaining: 313ms\n",
            "813:\tlearn: 0.3170368\ttotal: 1.36s\tremaining: 311ms\n",
            "814:\tlearn: 0.3169040\ttotal: 1.36s\tremaining: 310ms\n",
            "815:\tlearn: 0.3168388\ttotal: 1.36s\tremaining: 308ms\n",
            "816:\tlearn: 0.3167983\ttotal: 1.37s\tremaining: 306ms\n",
            "817:\tlearn: 0.3166721\ttotal: 1.37s\tremaining: 305ms\n",
            "818:\tlearn: 0.3165873\ttotal: 1.37s\tremaining: 303ms\n",
            "819:\tlearn: 0.3163402\ttotal: 1.37s\tremaining: 301ms\n",
            "820:\tlearn: 0.3163140\ttotal: 1.37s\tremaining: 300ms\n",
            "821:\tlearn: 0.3160993\ttotal: 1.38s\tremaining: 298ms\n",
            "822:\tlearn: 0.3160417\ttotal: 1.38s\tremaining: 296ms\n",
            "823:\tlearn: 0.3157921\ttotal: 1.38s\tremaining: 295ms\n",
            "824:\tlearn: 0.3155966\ttotal: 1.38s\tremaining: 293ms\n",
            "825:\tlearn: 0.3154727\ttotal: 1.38s\tremaining: 291ms\n",
            "826:\tlearn: 0.3154345\ttotal: 1.38s\tremaining: 290ms\n",
            "827:\tlearn: 0.3153610\ttotal: 1.39s\tremaining: 288ms\n",
            "828:\tlearn: 0.3151658\ttotal: 1.39s\tremaining: 286ms\n",
            "829:\tlearn: 0.3151232\ttotal: 1.39s\tremaining: 285ms\n",
            "830:\tlearn: 0.3150242\ttotal: 1.39s\tremaining: 283ms\n",
            "831:\tlearn: 0.3148556\ttotal: 1.39s\tremaining: 281ms\n",
            "832:\tlearn: 0.3148112\ttotal: 1.39s\tremaining: 280ms\n",
            "833:\tlearn: 0.3147835\ttotal: 1.4s\tremaining: 278ms\n",
            "834:\tlearn: 0.3146491\ttotal: 1.4s\tremaining: 276ms\n",
            "835:\tlearn: 0.3145089\ttotal: 1.4s\tremaining: 275ms\n",
            "836:\tlearn: 0.3143560\ttotal: 1.4s\tremaining: 273ms\n",
            "837:\tlearn: 0.3141997\ttotal: 1.4s\tremaining: 271ms\n",
            "838:\tlearn: 0.3140884\ttotal: 1.4s\tremaining: 270ms\n",
            "839:\tlearn: 0.3139908\ttotal: 1.41s\tremaining: 268ms\n",
            "840:\tlearn: 0.3136957\ttotal: 1.41s\tremaining: 266ms\n",
            "841:\tlearn: 0.3136590\ttotal: 1.41s\tremaining: 265ms\n",
            "842:\tlearn: 0.3135583\ttotal: 1.41s\tremaining: 263ms\n",
            "843:\tlearn: 0.3135273\ttotal: 1.42s\tremaining: 262ms\n",
            "844:\tlearn: 0.3133158\ttotal: 1.42s\tremaining: 260ms\n",
            "845:\tlearn: 0.3132753\ttotal: 1.42s\tremaining: 258ms\n",
            "846:\tlearn: 0.3132149\ttotal: 1.42s\tremaining: 257ms\n",
            "847:\tlearn: 0.3131834\ttotal: 1.42s\tremaining: 255ms\n",
            "848:\tlearn: 0.3131661\ttotal: 1.42s\tremaining: 253ms\n",
            "849:\tlearn: 0.3131422\ttotal: 1.43s\tremaining: 252ms\n",
            "850:\tlearn: 0.3131120\ttotal: 1.43s\tremaining: 250ms\n",
            "851:\tlearn: 0.3128374\ttotal: 1.43s\tremaining: 248ms\n",
            "852:\tlearn: 0.3127361\ttotal: 1.43s\tremaining: 247ms\n",
            "853:\tlearn: 0.3125231\ttotal: 1.43s\tremaining: 245ms\n",
            "854:\tlearn: 0.3123345\ttotal: 1.43s\tremaining: 243ms\n",
            "855:\tlearn: 0.3121542\ttotal: 1.44s\tremaining: 241ms\n",
            "856:\tlearn: 0.3119187\ttotal: 1.44s\tremaining: 240ms\n",
            "857:\tlearn: 0.3117867\ttotal: 1.44s\tremaining: 238ms\n",
            "858:\tlearn: 0.3117330\ttotal: 1.44s\tremaining: 236ms\n",
            "859:\tlearn: 0.3116745\ttotal: 1.44s\tremaining: 235ms\n",
            "860:\tlearn: 0.3115084\ttotal: 1.44s\tremaining: 233ms\n",
            "861:\tlearn: 0.3114679\ttotal: 1.45s\tremaining: 231ms\n",
            "862:\tlearn: 0.3114528\ttotal: 1.45s\tremaining: 230ms\n",
            "863:\tlearn: 0.3112637\ttotal: 1.45s\tremaining: 228ms\n",
            "864:\tlearn: 0.3112106\ttotal: 1.45s\tremaining: 226ms\n",
            "865:\tlearn: 0.3110298\ttotal: 1.45s\tremaining: 225ms\n",
            "866:\tlearn: 0.3109522\ttotal: 1.45s\tremaining: 223ms\n",
            "867:\tlearn: 0.3107689\ttotal: 1.46s\tremaining: 221ms\n",
            "868:\tlearn: 0.3107263\ttotal: 1.46s\tremaining: 220ms\n",
            "869:\tlearn: 0.3105098\ttotal: 1.46s\tremaining: 218ms\n",
            "870:\tlearn: 0.3104366\ttotal: 1.46s\tremaining: 216ms\n",
            "871:\tlearn: 0.3103837\ttotal: 1.46s\tremaining: 215ms\n",
            "872:\tlearn: 0.3103440\ttotal: 1.46s\tremaining: 213ms\n",
            "873:\tlearn: 0.3102246\ttotal: 1.47s\tremaining: 211ms\n",
            "874:\tlearn: 0.3101928\ttotal: 1.47s\tremaining: 210ms\n",
            "875:\tlearn: 0.3101119\ttotal: 1.47s\tremaining: 208ms\n",
            "876:\tlearn: 0.3099484\ttotal: 1.47s\tremaining: 206ms\n",
            "877:\tlearn: 0.3099114\ttotal: 1.47s\tremaining: 205ms\n",
            "878:\tlearn: 0.3098164\ttotal: 1.48s\tremaining: 203ms\n",
            "879:\tlearn: 0.3097333\ttotal: 1.48s\tremaining: 201ms\n",
            "880:\tlearn: 0.3097087\ttotal: 1.48s\tremaining: 200ms\n",
            "881:\tlearn: 0.3096778\ttotal: 1.48s\tremaining: 198ms\n",
            "882:\tlearn: 0.3095587\ttotal: 1.48s\tremaining: 196ms\n",
            "883:\tlearn: 0.3094513\ttotal: 1.48s\tremaining: 195ms\n",
            "884:\tlearn: 0.3093849\ttotal: 1.49s\tremaining: 193ms\n",
            "885:\tlearn: 0.3093506\ttotal: 1.49s\tremaining: 191ms\n",
            "886:\tlearn: 0.3091894\ttotal: 1.49s\tremaining: 190ms\n",
            "887:\tlearn: 0.3090681\ttotal: 1.49s\tremaining: 188ms\n",
            "888:\tlearn: 0.3090407\ttotal: 1.49s\tremaining: 186ms\n",
            "889:\tlearn: 0.3087821\ttotal: 1.49s\tremaining: 185ms\n",
            "890:\tlearn: 0.3086021\ttotal: 1.5s\tremaining: 183ms\n",
            "891:\tlearn: 0.3085860\ttotal: 1.5s\tremaining: 181ms\n",
            "892:\tlearn: 0.3085616\ttotal: 1.5s\tremaining: 180ms\n",
            "893:\tlearn: 0.3085161\ttotal: 1.5s\tremaining: 178ms\n",
            "894:\tlearn: 0.3084438\ttotal: 1.5s\tremaining: 176ms\n",
            "895:\tlearn: 0.3084316\ttotal: 1.5s\tremaining: 175ms\n",
            "896:\tlearn: 0.3081939\ttotal: 1.5s\tremaining: 173ms\n",
            "897:\tlearn: 0.3081824\ttotal: 1.51s\tremaining: 171ms\n",
            "898:\tlearn: 0.3081269\ttotal: 1.51s\tremaining: 169ms\n",
            "899:\tlearn: 0.3079332\ttotal: 1.51s\tremaining: 168ms\n",
            "900:\tlearn: 0.3078095\ttotal: 1.51s\tremaining: 166ms\n",
            "901:\tlearn: 0.3077884\ttotal: 1.51s\tremaining: 164ms\n",
            "902:\tlearn: 0.3077138\ttotal: 1.51s\tremaining: 163ms\n",
            "903:\tlearn: 0.3076960\ttotal: 1.52s\tremaining: 161ms\n",
            "904:\tlearn: 0.3076780\ttotal: 1.52s\tremaining: 159ms\n",
            "905:\tlearn: 0.3075330\ttotal: 1.52s\tremaining: 158ms\n",
            "906:\tlearn: 0.3074769\ttotal: 1.52s\tremaining: 156ms\n",
            "907:\tlearn: 0.3074048\ttotal: 1.52s\tremaining: 154ms\n",
            "908:\tlearn: 0.3071883\ttotal: 1.52s\tremaining: 153ms\n",
            "909:\tlearn: 0.3069897\ttotal: 1.53s\tremaining: 151ms\n",
            "910:\tlearn: 0.3069692\ttotal: 1.53s\tremaining: 149ms\n",
            "911:\tlearn: 0.3069325\ttotal: 1.53s\tremaining: 148ms\n",
            "912:\tlearn: 0.3068600\ttotal: 1.53s\tremaining: 146ms\n",
            "913:\tlearn: 0.3068250\ttotal: 1.53s\tremaining: 144ms\n",
            "914:\tlearn: 0.3066218\ttotal: 1.53s\tremaining: 143ms\n",
            "915:\tlearn: 0.3065174\ttotal: 1.54s\tremaining: 141ms\n",
            "916:\tlearn: 0.3064849\ttotal: 1.54s\tremaining: 139ms\n",
            "917:\tlearn: 0.3064345\ttotal: 1.54s\tremaining: 138ms\n",
            "918:\tlearn: 0.3063843\ttotal: 1.54s\tremaining: 136ms\n",
            "919:\tlearn: 0.3063595\ttotal: 1.54s\tremaining: 134ms\n",
            "920:\tlearn: 0.3062939\ttotal: 1.54s\tremaining: 132ms\n",
            "921:\tlearn: 0.3062440\ttotal: 1.55s\tremaining: 131ms\n",
            "922:\tlearn: 0.3061918\ttotal: 1.55s\tremaining: 129ms\n",
            "923:\tlearn: 0.3061587\ttotal: 1.55s\tremaining: 127ms\n",
            "924:\tlearn: 0.3061329\ttotal: 1.55s\tremaining: 126ms\n",
            "925:\tlearn: 0.3061136\ttotal: 1.55s\tremaining: 124ms\n",
            "926:\tlearn: 0.3060537\ttotal: 1.55s\tremaining: 122ms\n",
            "927:\tlearn: 0.3058424\ttotal: 1.56s\tremaining: 121ms\n",
            "928:\tlearn: 0.3055955\ttotal: 1.56s\tremaining: 119ms\n",
            "929:\tlearn: 0.3055731\ttotal: 1.56s\tremaining: 117ms\n",
            "930:\tlearn: 0.3055492\ttotal: 1.56s\tremaining: 116ms\n",
            "931:\tlearn: 0.3055142\ttotal: 1.56s\tremaining: 114ms\n",
            "932:\tlearn: 0.3054238\ttotal: 1.56s\tremaining: 112ms\n",
            "933:\tlearn: 0.3053921\ttotal: 1.57s\tremaining: 111ms\n",
            "934:\tlearn: 0.3053741\ttotal: 1.57s\tremaining: 109ms\n",
            "935:\tlearn: 0.3051039\ttotal: 1.57s\tremaining: 107ms\n",
            "936:\tlearn: 0.3050659\ttotal: 1.57s\tremaining: 106ms\n",
            "937:\tlearn: 0.3050049\ttotal: 1.57s\tremaining: 104ms\n",
            "938:\tlearn: 0.3048353\ttotal: 1.57s\tremaining: 102ms\n",
            "939:\tlearn: 0.3045250\ttotal: 1.58s\tremaining: 101ms\n",
            "940:\tlearn: 0.3043205\ttotal: 1.58s\tremaining: 99ms\n",
            "941:\tlearn: 0.3040652\ttotal: 1.58s\tremaining: 97.4ms\n",
            "942:\tlearn: 0.3038499\ttotal: 1.58s\tremaining: 95.7ms\n",
            "943:\tlearn: 0.3037262\ttotal: 1.58s\tremaining: 94ms\n",
            "944:\tlearn: 0.3036264\ttotal: 1.59s\tremaining: 92.3ms\n",
            "945:\tlearn: 0.3033313\ttotal: 1.59s\tremaining: 90.7ms\n",
            "946:\tlearn: 0.3031666\ttotal: 1.59s\tremaining: 89ms\n",
            "947:\tlearn: 0.3030629\ttotal: 1.59s\tremaining: 87.3ms\n",
            "948:\tlearn: 0.3028759\ttotal: 1.59s\tremaining: 85.6ms\n",
            "949:\tlearn: 0.3028546\ttotal: 1.59s\tremaining: 83.9ms\n",
            "950:\tlearn: 0.3028206\ttotal: 1.6s\tremaining: 82.2ms\n",
            "951:\tlearn: 0.3027082\ttotal: 1.6s\tremaining: 80.6ms\n",
            "952:\tlearn: 0.3024251\ttotal: 1.6s\tremaining: 78.9ms\n",
            "953:\tlearn: 0.3023555\ttotal: 1.6s\tremaining: 77.2ms\n",
            "954:\tlearn: 0.3022363\ttotal: 1.6s\tremaining: 75.5ms\n",
            "955:\tlearn: 0.3020701\ttotal: 1.6s\tremaining: 73.8ms\n",
            "956:\tlearn: 0.3020273\ttotal: 1.61s\tremaining: 72.2ms\n",
            "957:\tlearn: 0.3018190\ttotal: 1.61s\tremaining: 70.5ms\n",
            "958:\tlearn: 0.3017361\ttotal: 1.61s\tremaining: 68.8ms\n",
            "959:\tlearn: 0.3015314\ttotal: 1.61s\tremaining: 67.1ms\n",
            "960:\tlearn: 0.3014405\ttotal: 1.61s\tremaining: 65.4ms\n",
            "961:\tlearn: 0.3012884\ttotal: 1.61s\tremaining: 63.8ms\n",
            "962:\tlearn: 0.3011962\ttotal: 1.61s\tremaining: 62.1ms\n",
            "963:\tlearn: 0.3011462\ttotal: 1.62s\tremaining: 60.4ms\n",
            "964:\tlearn: 0.3011282\ttotal: 1.62s\tremaining: 58.7ms\n",
            "965:\tlearn: 0.3010604\ttotal: 1.62s\tremaining: 57ms\n",
            "966:\tlearn: 0.3010106\ttotal: 1.62s\tremaining: 55.4ms\n",
            "967:\tlearn: 0.3007113\ttotal: 1.62s\tremaining: 53.7ms\n",
            "968:\tlearn: 0.3005966\ttotal: 1.63s\tremaining: 52ms\n",
            "969:\tlearn: 0.3005582\ttotal: 1.63s\tremaining: 50.3ms\n",
            "970:\tlearn: 0.3004156\ttotal: 1.63s\tremaining: 48.7ms\n",
            "971:\tlearn: 0.3003760\ttotal: 1.63s\tremaining: 47ms\n",
            "972:\tlearn: 0.3003584\ttotal: 1.63s\tremaining: 45.3ms\n",
            "973:\tlearn: 0.3003409\ttotal: 1.63s\tremaining: 43.6ms\n",
            "974:\tlearn: 0.3002378\ttotal: 1.64s\tremaining: 42ms\n",
            "975:\tlearn: 0.3001824\ttotal: 1.64s\tremaining: 40.3ms\n",
            "976:\tlearn: 0.3000860\ttotal: 1.64s\tremaining: 38.6ms\n",
            "977:\tlearn: 0.3000267\ttotal: 1.64s\tremaining: 37ms\n",
            "978:\tlearn: 0.3000022\ttotal: 1.64s\tremaining: 35.3ms\n",
            "979:\tlearn: 0.2998652\ttotal: 1.65s\tremaining: 33.6ms\n",
            "980:\tlearn: 0.2997918\ttotal: 1.65s\tremaining: 31.9ms\n",
            "981:\tlearn: 0.2997721\ttotal: 1.65s\tremaining: 30.2ms\n",
            "982:\tlearn: 0.2995898\ttotal: 1.65s\tremaining: 28.6ms\n",
            "983:\tlearn: 0.2995653\ttotal: 1.65s\tremaining: 26.9ms\n",
            "984:\tlearn: 0.2995307\ttotal: 1.65s\tremaining: 25.2ms\n",
            "985:\tlearn: 0.2993709\ttotal: 1.66s\tremaining: 23.5ms\n",
            "986:\tlearn: 0.2993590\ttotal: 1.66s\tremaining: 21.8ms\n",
            "987:\tlearn: 0.2992885\ttotal: 1.66s\tremaining: 20.2ms\n",
            "988:\tlearn: 0.2990188\ttotal: 1.66s\tremaining: 18.5ms\n",
            "989:\tlearn: 0.2989942\ttotal: 1.66s\tremaining: 16.8ms\n",
            "990:\tlearn: 0.2989189\ttotal: 1.66s\tremaining: 15.1ms\n",
            "991:\tlearn: 0.2987231\ttotal: 1.67s\tremaining: 13.4ms\n",
            "992:\tlearn: 0.2986854\ttotal: 1.67s\tremaining: 11.8ms\n",
            "993:\tlearn: 0.2985476\ttotal: 1.67s\tremaining: 10.1ms\n",
            "994:\tlearn: 0.2985122\ttotal: 1.67s\tremaining: 8.39ms\n",
            "995:\tlearn: 0.2984035\ttotal: 1.67s\tremaining: 6.72ms\n",
            "996:\tlearn: 0.2983808\ttotal: 1.67s\tremaining: 5.04ms\n",
            "997:\tlearn: 0.2981815\ttotal: 1.68s\tremaining: 3.36ms\n",
            "998:\tlearn: 0.2980380\ttotal: 1.68s\tremaining: 1.68ms\n",
            "999:\tlearn: 0.2979464\ttotal: 1.68s\tremaining: 0us\n",
            "train_acc 0.887987012987013\n",
            "test_acc 0.8598484848484849\n"
          ],
          "output_type":"stream"
        }
      ],
      "metadata":{
        
      }
    },
    {
      "cell_type":"code",
      "source":[
        "# LGBMClassifier(LightGBM) modelimiz ile train ve test verimizin doğruluk oranına bakalım\n",
        "lgb_model = lgb.LGBMClassifier()\n",
        "lgb_model.fit(x_train, y_train)\n",
        "acc_lgb_train = lgb_model.score(x_train, y_train)\n",
        "acc_lgb_testn = lgb_model.score(x_test, y_test)\n",
        "print(\"train_acc\", acc_lgb_train)\n",
        "print(\"test_acc\", acc_lgb_testn)"
      ],
      "execution_count":312,
      "outputs":[
        {
          "name":"stdout",
          "text":[
            "train_acc 0.939935064935065\n",
            "test_acc 0.8484848484848485\n"
          ],
          "output_type":"stream"
        }
      ],
      "metadata":{
        
      }
    },
    {
      "cell_type":"code",
      "source":[
        "# XGBoost modelimiz ile train ve test verimizin doğruluk oranına bakalım\n",
        "xgboost_model = XGBClassifier()\n",
        "xgboost_model.fit(x_train, y_train)\n",
        "acc_xgb_train = xgboost_model.score(x_train, y_train)\n",
        "acc_xgb_testn = xgboost_model.score(x_test, y_test)\n",
        "print(\"train_acc\", acc_xgb_train)\n",
        "print(\"test_acc\", acc_xgb_testn)"
      ],
      "execution_count":286,
      "outputs":[
        {
          "name":"stdout",
          "text":[
            "train_acc 0.9724025974025974\n",
            "test_acc 0.8409090909090909\n"
          ],
          "output_type":"stream"
        }
      ],
      "metadata":{
        
      }
    },
    {
      "cell_type":"code",
      "source":[
        "# LogisticRegression modelimiz ile train ve test verimizin doğruluk oranına bakalım\n",
        "logreg = LogisticRegression()\n",
        "logreg.fit(x_train,y_train)\n",
        "acc_log_train = logreg.score(x_train, y_train)\n",
        "acc_log_test = logreg.score(x_test, y_test)\n",
        "print(\"train_acc\", acc_log_train)\n",
        "print(\"test_acc\", acc_log_test)"
      ],
      "execution_count":287,
      "outputs":[
        {
          "name":"stdout",
          "text":[
            "train_acc 0.8035714285714286\n",
            "test_acc 0.8484848484848485\n"
          ],
          "output_type":"stream"
        }
      ],
      "metadata":{
        
      }
    },
    {
      "cell_type":"code",
      "source":[
        "# Hyper parameter tuning and gridsearch\n",
        "# Random Forest, SVM ve LogisticRegression modellerimizin hyper parametrelerini tune edelim.\n",
        "# Score sonuçlarını cv_result listesinin içine atalım.\n",
        "# best_estimator listesinin içine iste kullanıcağımız tüm modelleri atalım.\n",
        "random_s =42\n",
        "classifier = [  SVC(random_state=random_s, probability=True), \n",
        "                RandomForestClassifier(random_state=random_s), \n",
        "                LogisticRegression(random_state=random_s)]\n",
        "\n",
        "svc_params_grid = { \"kernel\" : [\"rbf\"], \n",
        "                   \"gamma\" : [.001, .01, .1, 1], \n",
        "                   \"C\" : [1, 10, 50, 100, 200, 300, 1000]}\n",
        "\n",
        "rf_params_grid = {\"max_features\" : [1, 3, 10], \n",
        "                  \"min_samples_split\" : [2, 3, 10], \n",
        "                  \"min_samples_leaf\" : [1, 3, 10], \n",
        "                  \"bootstrap\" : [False], \n",
        "                  \"n_estimators\" : [100, 300], \n",
        "                  \"criterion\" : [\"gini\"]}\n",
        "\n",
        "log_params_grid = { \"C\" : np.logspace(-3, 3, 7), \n",
        "                   \"penalty\" : ['l1', 'l2', 'elasticnet', 'none']}\n",
        "\n",
        "\n",
        "\n",
        "classifier_params = [svc_params_grid, \n",
        "                     rf_params_grid, \n",
        "                     log_params_grid]"
      ],
      "execution_count":288,
      "outputs":[
        
      ],
      "metadata":{
        
      }
    },
    {
      "cell_type":"code",
      "source":[
        "# GridSearchCV ile modellerimizin en iyi parametrelerini bulanım ve cross validation(çapraz doğrulama) yapalım\n",
        "# Çapraz doğrulama verinin tüm kısımlarının test ve train olma şansı vererek bize nihai doğruluk oranlarını verir.\n",
        "cv_result = []\n",
        "best_estimator = []\n",
        "for i in range(len(classifier)):\n",
        "    clf = GridSearchCV(classifier[i], param_grid= classifier_params[i], cv = 5, scoring= \"accuracy\", n_jobs=-1, verbose=True)\n",
        "    clf.fit(x_train, y_train)\n",
        "    cv_result.append(clf.best_score_)\n",
        "    best_estimator.append(clf.best_estimator_)\n",
        "    print(cv_result[i])"
      ],
      "execution_count":289,
      "outputs":[
        {
          "name":"stdout",
          "text":[
            "Fitting 5 folds for each of 28 candidates, totalling 140 fits\n",
            "0.7938630999213219\n",
            "Fitting 5 folds for each of 54 candidates, totalling 270 fits\n",
            "0.7873328088119591\n",
            "Fitting 5 folds for each of 28 candidates, totalling 140 fits\n",
            "0.7971020194072909\n"
          ],
          "output_type":"stream"
        }
      ],
      "metadata":{
        
      }
    },
    {
      "cell_type":"code",
      "source":[
        "# Burda da farklı olarak sadece cross validation(çapraz doğrulama) yapalım\n",
        "estimator = [cat_model, xgboost_model, lgb_model]\n",
        "for i in range(len(estimator)):\n",
        "    accuracies = cross_val_score(estimator = estimator[i], X=x_train, y=y_train, cv=5, n_jobs=-1, verbose=True)\n",
        "    cv_result.append(accuracies.mean())\n",
        "    best_estimator.append(estimator[i])"
      ],
      "execution_count":290,
      "outputs":[
        {
          "name":"stderr",
          "text":[
            "[Parallel(n_jobs=-1)]: Using backend LokyBackend with 2 concurrent workers.\n",
            "[Parallel(n_jobs=-1)]: Done   5 out of   5 | elapsed:  1.1min finished\n",
            "[Parallel(n_jobs=-1)]: Using backend LokyBackend with 2 concurrent workers.\n",
            "[Parallel(n_jobs=-1)]: Done   5 out of   5 | elapsed:    5.1s finished\n",
            "[Parallel(n_jobs=-1)]: Using backend LokyBackend with 2 concurrent workers.\n",
            "[Parallel(n_jobs=-1)]: Done   5 out of   5 | elapsed:    1.2s finished\n"
          ],
          "output_type":"stream"
        }
      ],
      "metadata":{
        
      }
    },
    {
      "cell_type":"code",
      "source":[
        "# işte modellerimizin nihai sonuçları.\n",
        "cv_result"
      ],
      "execution_count":291,
      "outputs":[
        {
          "data":{
            "text\/plain":[
              "[0.7938630999213219,\n",
              " 0.7873328088119591,\n",
              " 0.7971020194072909,\n",
              " 0.7954497770784159,\n",
              " 0.7856805664830843,\n",
              " 0.7938368738526094]"
            ]
          },
          "metadata":{
            
          },
          "output_type":"display_data"
        }
      ],
      "metadata":{
        
      }
    },
    {
      "cell_type":"code",
      "source":[
        "# Kulllandığımız modeller\n",
        "best_estimator"
      ],
      "execution_count":292,
      "outputs":[
        {
          "data":{
            "text\/plain":[
              "[SVC(C=200, gamma=0.001, probability=True, random_state=42),\n",
              " RandomForestClassifier(bootstrap=False, max_features=10, min_samples_leaf=3,\n",
              "                        random_state=42),\n",
              " LogisticRegression(C=1000.0, random_state=42),\n",
              " <catboost.core.CatBoostClassifier at 0x7fc935476f50>,\n",
              " XGBClassifier(base_score=0.5, booster='gbtree', colsample_bylevel=1,\n",
              "               colsample_bynode=1, colsample_bytree=1, gamma=0, gpu_id=-1,\n",
              "               importance_type='gain', interaction_constraints='',\n",
              "               learning_rate=0.300000012, max_delta_step=0, max_depth=6,\n",
              "               min_child_weight=1, missing=nan, monotone_constraints='()',\n",
              "               n_estimators=100, n_jobs=0, num_parallel_tree=1, random_state=0,\n",
              "               reg_alpha=0, reg_lambda=1, scale_pos_weight=1, subsample=1,\n",
              "               tree_method='exact', validate_parameters=1, verbosity=None),\n",
              " LGBMClassifier()]"
            ]
          },
          "metadata":{
            
          },
          "output_type":"display_data"
        }
      ],
      "metadata":{
        
      }
    },
    {
      "cell_type":"code",
      "source":[
        "# modellerimizin sonuçlarını grafikte gösterelim.\n",
        "result = pd.DataFrame({\"Cross Validation Score\" : cv_result, \"ML Models\" : [\"SVM\",\"RandomForestClassifier\",\"LogisticRegression\", \"CATGBM\", \"XGBOOST\", \"LightGBM\"]})\n",
        "plt.figure(figsize=(12,4))\n",
        "sns.barplot(\"Cross Validation Score\", \"ML Models\", data= result)\n",
        "plt.show()"
      ],
      "execution_count":293,
      "outputs":[
        {
          "data":{
            "image\/png":"[encoded data removed]"
          },
          "metadata":{
            "image\/png":{
              "width":0,
              "height":0
            }
          },
          "output_type":"display_data"
        }
      ],
      "metadata":{
        
      }
    },
    {
      "cell_type":"code",
      "source":[
        "svc = best_estimator[0]\n",
        "rf = best_estimator[1]\n",
        "lr = best_estimator[2]\n",
        "cat = best_estimator[3]\n",
        "xgb = best_estimator[4]\n",
        "lightgbm = best_estimator[5]"
      ],
      "execution_count":294,
      "outputs":[
        
      ],
      "metadata":{
        
      }
    },
    {
      "cell_type":"code",
      "source":[
        "# Burada isse başka ensemble(topluluk algoritması) olan Voting Classifier içine kullanmak istediğimiz modelleri vereceğiz.\n",
        "votingC = VotingClassifier(estimators =[(\"XGB\", xgb), (\"RF\", rf), (\"LR\",lr),(\"SVC\",svc), (\"CAT\",cat), (\"lightgbm\",lightgbm)], voting=\"soft\", n_jobs=-1)\n",
        "votingC.fit(x_train, y_train)"
      ],
      "execution_count":295,
      "outputs":[
        {
          "data":{
            "text\/plain":[
              "VotingClassifier(estimators=[('XGB',\n",
              "                              XGBClassifier(base_score=0.5, booster='gbtree',\n",
              "                                            colsample_bylevel=1,\n",
              "                                            colsample_bynode=1,\n",
              "                                            colsample_bytree=1, gamma=0,\n",
              "                                            gpu_id=-1, importance_type='gain',\n",
              "                                            interaction_constraints='',\n",
              "                                            learning_rate=0.300000012,\n",
              "                                            max_delta_step=0, max_depth=6,\n",
              "                                            min_child_weight=1, missing=nan,\n",
              "                                            monotone_constraints='()',\n",
              "                                            n_estimators=100, n_jobs=0,\n",
              "                                            num_...\n",
              "                                            verbosity=None)),\n",
              "                             ('RF',\n",
              "                              RandomForestClassifier(bootstrap=False,\n",
              "                                                     max_features=10,\n",
              "                                                     min_samples_leaf=3,\n",
              "                                                     random_state=42)),\n",
              "                             ('LR',\n",
              "                              LogisticRegression(C=1000.0, random_state=42)),\n",
              "                             ('SVC',\n",
              "                              SVC(C=200, gamma=0.001, probability=True,\n",
              "                                  random_state=42)),\n",
              "                             ('CAT',\n",
              "                              <catboost.core.CatBoostClassifier object at 0x7fc935476f50>),\n",
              "                             ('lightgbm', LGBMClassifier())],\n",
              "                 n_jobs=-1, voting='soft')"
            ]
          },
          "metadata":{
            
          },
          "output_type":"display_data"
        }
      ],
      "metadata":{
        
      }
    },
    {
      "cell_type":"code",
      "source":[
        "# votingClassifier tahmin doğruluk oranları\n",
        "print(\"votingClassifier train score :\" ,votingC.score(x_train, y_train))\n",
        "print(\"votingClassifier test score :\" ,votingC.score(x_test, y_test))"
      ],
      "execution_count":296,
      "outputs":[
        {
          "name":"stdout",
          "text":[
            "votingClassifier train score : 0.9155844155844156\n",
            "votingClassifier test score : 0.8598484848484849\n"
          ],
          "output_type":"stream"
        }
      ],
      "metadata":{
        
      }
    },
    {
      "cell_type":"code",
      "source":[
        "PassengerId=test[\"PassengerId\"]"
      ],
      "execution_count":313,
      "outputs":[
        
      ],
      "metadata":{
        
      }
    },
    {
      "cell_type":"code",
      "source":[
        "test = test.drop(labels=[\"PassengerId\", \"Cabin\", \"Name\", \"Ticket\", \"Family\"], axis=1)\n",
        "test.head()"
      ],
      "execution_count":317,
      "outputs":[
        {
          "data":{
            "text\/html":[
              "<div>\n",
              "<style scoped>\n",
              "    .dataframe tbody tr th:only-of-type {\n",
              "        vertical-align: middle;\n",
              "    }\n",
              "\n",
              "    .dataframe tbody tr th {\n",
              "        vertical-align: top;\n",
              "    }\n",
              "\n",
              "    .dataframe thead th {\n",
              "        text-align: right;\n",
              "    }\n",
              "<\/style>\n",
              "<table border=\"1\" class=\"dataframe\">\n",
              "  <thead>\n",
              "    <tr style=\"text-align: right;\">\n",
              "      <th><\/th>\n",
              "      <th>Age<\/th>\n",
              "      <th>SibSp<\/th>\n",
              "      <th>Parch<\/th>\n",
              "      <th>Fare<\/th>\n",
              "      <th>Sex<\/th>\n",
              "      <th>Title<\/th>\n",
              "      <th>Family Size_Alone<\/th>\n",
              "      <th>Family Size_Big Family<\/th>\n",
              "      <th>Family Size_Small Family<\/th>\n",
              "      <th>Embarked_C<\/th>\n",
              "      <th>...<\/th>\n",
              "      <th>Tic_STONO<\/th>\n",
              "      <th>Tic_STONO2<\/th>\n",
              "      <th>Tic_STONOQ<\/th>\n",
              "      <th>Tic_SWPP<\/th>\n",
              "      <th>Tic_WC<\/th>\n",
              "      <th>Tic_WEP<\/th>\n",
              "      <th>Tic_x<\/th>\n",
              "      <th>Pclass_1<\/th>\n",
              "      <th>Pclass_2<\/th>\n",
              "      <th>Pclass_3<\/th>\n",
              "    <\/tr>\n",
              "  <\/thead>\n",
              "  <tbody>\n",
              "    <tr>\n",
              "      <th>880<\/th>\n",
              "      <td>34.5<\/td>\n",
              "      <td>0<\/td>\n",
              "      <td>0<\/td>\n",
              "      <td>7.8292<\/td>\n",
              "      <td>1<\/td>\n",
              "      <td>1<\/td>\n",
              "      <td>1<\/td>\n",
              "      <td>0<\/td>\n",
              "      <td>0<\/td>\n",
              "      <td>0<\/td>\n",
              "      <td>...<\/td>\n",
              "      <td>0<\/td>\n",
              "      <td>0<\/td>\n",
              "      <td>0<\/td>\n",
              "      <td>0<\/td>\n",
              "      <td>0<\/td>\n",
              "      <td>0<\/td>\n",
              "      <td>1<\/td>\n",
              "      <td>0<\/td>\n",
              "      <td>0<\/td>\n",
              "      <td>1<\/td>\n",
              "    <\/tr>\n",
              "    <tr>\n",
              "      <th>881<\/th>\n",
              "      <td>47.0<\/td>\n",
              "      <td>1<\/td>\n",
              "      <td>0<\/td>\n",
              "      <td>7.0000<\/td>\n",
              "      <td>0<\/td>\n",
              "      <td>1<\/td>\n",
              "      <td>0<\/td>\n",
              "      <td>0<\/td>\n",
              "      <td>1<\/td>\n",
              "      <td>0<\/td>\n",
              "      <td>...<\/td>\n",
              "      <td>0<\/td>\n",
              "      <td>0<\/td>\n",
              "      <td>0<\/td>\n",
              "      <td>0<\/td>\n",
              "      <td>0<\/td>\n",
              "      <td>0<\/td>\n",
              "      <td>1<\/td>\n",
              "      <td>0<\/td>\n",
              "      <td>0<\/td>\n",
              "      <td>1<\/td>\n",
              "    <\/tr>\n",
              "    <tr>\n",
              "      <th>882<\/th>\n",
              "      <td>62.0<\/td>\n",
              "      <td>0<\/td>\n",
              "      <td>0<\/td>\n",
              "      <td>9.6875<\/td>\n",
              "      <td>1<\/td>\n",
              "      <td>1<\/td>\n",
              "      <td>1<\/td>\n",
              "      <td>0<\/td>\n",
              "      <td>0<\/td>\n",
              "      <td>0<\/td>\n",
              "      <td>...<\/td>\n",
              "      <td>0<\/td>\n",
              "      <td>0<\/td>\n",
              "      <td>0<\/td>\n",
              "      <td>0<\/td>\n",
              "      <td>0<\/td>\n",
              "      <td>0<\/td>\n",
              "      <td>1<\/td>\n",
              "      <td>0<\/td>\n",
              "      <td>1<\/td>\n",
              "      <td>0<\/td>\n",
              "    <\/tr>\n",
              "    <tr>\n",
              "      <th>883<\/th>\n",
              "      <td>27.0<\/td>\n",
              "      <td>0<\/td>\n",
              "      <td>0<\/td>\n",
              "      <td>8.6625<\/td>\n",
              "      <td>1<\/td>\n",
              "      <td>1<\/td>\n",
              "      <td>1<\/td>\n",
              "      <td>0<\/td>\n",
              "      <td>0<\/td>\n",
              "      <td>0<\/td>\n",
              "      <td>...<\/td>\n",
              "      <td>0<\/td>\n",
              "      <td>0<\/td>\n",
              "      <td>0<\/td>\n",
              "      <td>0<\/td>\n",
              "      <td>0<\/td>\n",
              "      <td>0<\/td>\n",
              "      <td>1<\/td>\n",
              "      <td>0<\/td>\n",
              "      <td>0<\/td>\n",
              "      <td>1<\/td>\n",
              "    <\/tr>\n",
              "    <tr>\n",
              "      <th>884<\/th>\n",
              "      <td>22.0<\/td>\n",
              "      <td>1<\/td>\n",
              "      <td>1<\/td>\n",
              "      <td>12.2875<\/td>\n",
              "      <td>0<\/td>\n",
              "      <td>1<\/td>\n",
              "      <td>0<\/td>\n",
              "      <td>0<\/td>\n",
              "      <td>1<\/td>\n",
              "      <td>0<\/td>\n",
              "      <td>...<\/td>\n",
              "      <td>0<\/td>\n",
              "      <td>0<\/td>\n",
              "      <td>0<\/td>\n",
              "      <td>0<\/td>\n",
              "      <td>0<\/td>\n",
              "      <td>0<\/td>\n",
              "      <td>1<\/td>\n",
              "      <td>0<\/td>\n",
              "      <td>0<\/td>\n",
              "      <td>1<\/td>\n",
              "    <\/tr>\n",
              "  <\/tbody>\n",
              "<\/table>\n",
              "<p>5 rows × 52 columns<\/p>\n",
              "<\/div>"
            ]
          },
          "metadata":{
            
          },
          "output_type":"display_data"
        }
      ],
      "metadata":{
        
      }
    },
    {
      "cell_type":"code",
      "source":[
        "# yarışmaya şimdi gönderebilriz\n",
        "test_survived = pd.Series(votingC.predict(test), name = \"Survived\").astype(int)\n",
        "results = pd.concat([PassengerId, test_survived], axis=1)\n",
        "results.to_csv(\"titanic.csv\", index=False)"
      ],
      "execution_count":318,
      "outputs":[
        
      ],
      "metadata":{
        
      }
    }
  ],
  "metadata":{
    
  },
  "nbformat":4,
  "nbformat_minor":0
}